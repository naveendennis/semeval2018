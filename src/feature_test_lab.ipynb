{
 "cells": [
  {
   "cell_type": "markdown",
   "metadata": {},
   "source": [
    "# Features Explored"
   ]
  },
  {
   "cell_type": "markdown",
   "metadata": {},
   "source": [
    "## Hashtag Distribution"
   ]
  },
  {
   "cell_type": "code",
   "execution_count": 1,
   "metadata": {},
   "outputs": [],
   "source": [
    "import pandas as pd\n",
    "import os\n",
    "import re\n",
    "import numpy as np\n",
    "from collections import Counter\n",
    "import nltk\n",
    "import math\n",
    "import pickle\n",
    "import gensim\n",
    "from textblob import Sentence\n",
    "\n",
    "delimiter = '\\t'\n",
    "dir_name = '/Users/nbarnaba/PycharmProjects/Keras_Samples/src'"
   ]
  },
  {
   "cell_type": "code",
   "execution_count": 2,
   "metadata": {},
   "outputs": [],
   "source": [
    "def get_all_tweets_as_whole_text(df):\n",
    "    texts = df[1].values\n",
    "    whole_text = ''\n",
    "    for each in texts:\n",
    "        whole_text = whole_text + ' ' + each\n",
    "    return whole_text"
   ]
  },
  {
   "cell_type": "code",
   "execution_count": 3,
   "metadata": {},
   "outputs": [],
   "source": [
    "train_file_name = os.path.join(dir_name, '..', 'data', 'en_train', 'EI-reg-en_anger_train.txt')\n",
    "df_anger = pd.read_csv(train_file_name, header=None, delimiter=delimiter)\n",
    "anger_texts = get_all_tweets_as_whole_text(df_anger)\n",
    "anger_hashtags = [each[0] for each in Counter(re.findall('#\\w+', anger_texts)).most_common()]"
   ]
  },
  {
   "cell_type": "code",
   "execution_count": 4,
   "metadata": {},
   "outputs": [],
   "source": [
    "train_file_name = os.path.join(dir_name, '..', 'data', 'en_train',  'EI-reg-en_fear_train.txt')\n",
    "df_fear = pd.read_csv(train_file_name, header=None, delimiter=delimiter)\n",
    "fear_texts = get_all_tweets_as_whole_text(df_fear)\n",
    "fear_hashtags = [each[0] for each in Counter(re.findall('#\\w+', fear_texts)).most_common()]"
   ]
  },
  {
   "cell_type": "code",
   "execution_count": 5,
   "metadata": {},
   "outputs": [],
   "source": [
    "train_file_name = os.path.join(dir_name, '..', 'data', 'en_train',  'EI-reg-en_sadness_train.txt')\n",
    "df_sadness = pd.read_csv(train_file_name, header=None, delimiter=delimiter)\n",
    "sadness_texts = get_all_tweets_as_whole_text(df_sadness)\n",
    "sadness_hashtags = [each[0] for each in Counter(re.findall('#\\w+', sadness_texts)).most_common()]"
   ]
  },
  {
   "cell_type": "code",
   "execution_count": 6,
   "metadata": {},
   "outputs": [],
   "source": [
    "train_file_name = os.path.join(dir_name, '..', 'data', 'en_train',  'EI-reg-en_joy_train.txt')\n",
    "df_joy = pd.read_csv(train_file_name, header=None, delimiter=delimiter)\n",
    "joy_texts = get_all_tweets_as_whole_text(df_joy)\n",
    "joy_hashtags = [each[0] for each in Counter(re.findall('#\\w+', joy_texts)).most_common()]"
   ]
  },
  {
   "cell_type": "code",
   "execution_count": 7,
   "metadata": {},
   "outputs": [],
   "source": [
    "hashtags = anger_hashtags + joy_hashtags + sadness_hashtags + fear_hashtags"
   ]
  },
  {
   "cell_type": "code",
   "execution_count": 8,
   "metadata": {},
   "outputs": [],
   "source": [
    "unique_hashtags = [each[0] for each in Counter(hashtags).most_common() if each[1]==1]"
   ]
  },
  {
   "cell_type": "code",
   "execution_count": 9,
   "metadata": {},
   "outputs": [
    {
     "name": "stdout",
     "output_type": "stream",
     "text": [
      "Anger : 483\n",
      "fear : 963\n",
      "joy : 529\n",
      "sadness : 582\n",
      "unique : 2557\n",
      "total : 3363\n"
     ]
    }
   ],
   "source": [
    "anger_hashtags = [each for each in anger_hashtags if each in unique_hashtags]\n",
    "fear_hashtags = [each for each in fear_hashtags if each in unique_hashtags]\n",
    "joy_hashtags = [each for each in joy_hashtags if each in unique_hashtags]\n",
    "sadness_hashtags = [each for each in sadness_hashtags if each in unique_hashtags]\n",
    "print('Anger : '+str(len(anger_hashtags)))\n",
    "print('fear : '+str(len(fear_hashtags)))\n",
    "print('joy : '+str(len(joy_hashtags)))\n",
    "print('sadness : '+str(len(sadness_hashtags)))\n",
    "print('unique : '+str(len(unique_hashtags)))\n",
    "print('total : '+str(len(hashtags)))"
   ]
  },
  {
   "cell_type": "markdown",
   "metadata": {},
   "source": [
    "## Unicode Emo Hashtag"
   ]
  },
  {
   "cell_type": "code",
   "execution_count": 10,
   "metadata": {},
   "outputs": [
    {
     "name": "stdout",
     "output_type": "stream",
     "text": [
      "1.1371909298\n",
      "          0                 1         2\n",
      "3908   fear         #westbank  1.951954\n",
      "3909   fear     #apprehension  1.951954\n",
      "3910   fear            #su4mh  1.951954\n",
      "3911   fear          aaaaaaah  1.951954\n",
      "3912   fear              #ied  1.951954\n",
      "3913   fear        #coldsweat  1.951954\n",
      "3914   fear             #isaf  1.951954\n",
      "3915   fear           cryotek  1.951954\n",
      "3916   fear          #rushing  1.951954\n",
      "3917   fear              #shy  1.951954\n",
      "3918   fear     #apprehensive  1.951954\n",
      "3919   fear            #mosul  1.951954\n",
      "3920   fear          #fearful  1.951954\n",
      "3921   fear           #ashdod  1.951954\n",
      "3922   fear    #socialanxiety  1.951954\n",
      "3923   fear        #backtrack  1.951954\n",
      "3924   fear         terrifies  1.951954\n",
      "3925   fear   #claustrophobia  1.951954\n",
      "3926   fear            qassam  1.951954\n",
      "3927   fear        #hezbollah  1.951954\n",
      "3928   fear          #hamas25  1.951954\n",
      "3929   fear              #dfw  1.951954\n",
      "3930   fear           #feared  1.951954\n",
      "3931   fear          #taliban  1.951954\n",
      "3932   fear       rationality  1.951954\n",
      "3933   fear  #israelunderfire  1.951954\n",
      "3934   fear     #ihatespiders  1.951954\n",
      "3935   fear         #pharmacy  1.951954\n",
      "3936   fear              #pij  1.951954\n",
      "3937   fear          #conquer  1.951954\n",
      "...     ...               ...       ...\n",
      "26997   joy           killers  0.008800\n",
      "26998   joy             psych  0.008800\n",
      "26999   joy           atlanta  0.008800\n",
      "27000   joy              laid  0.008800\n",
      "27001   joy            papers  0.008800\n",
      "27002   joy          showered  0.008800\n",
      "27003   joy              till  0.008547\n",
      "27004   joy             faces  0.006399\n",
      "27005   joy                24  0.006239\n",
      "27006   joy         finishing  0.006151\n",
      "27007   joy             ghost  0.005845\n",
      "27008   joy         therefore  0.005845\n",
      "27009   joy             films  0.005461\n",
      "27010   joy          survived  0.004961\n",
      "27011   joy            quotes  0.004961\n",
      "27012   joy               toy  0.004285\n",
      "27013   joy              safe  0.003569\n",
      "27014   joy        wallflower  0.003320\n",
      "27015   joy          monsters  0.003320\n",
      "27016   joy             frame  0.003320\n",
      "27017   joy          romantic  0.003320\n",
      "27018   joy           signing  0.003320\n",
      "27019   joy             pulls  0.003320\n",
      "27020   joy               100  0.003320\n",
      "27021   joy               dvd  0.003320\n",
      "27022   joy            sweets  0.003320\n",
      "27023   joy             apart  0.002558\n",
      "27024   joy            doctor  0.002035\n",
      "27025   joy              grad  0.001137\n",
      "27026   joy              1000  0.001137\n",
      "\n",
      "[15421 rows x 3 columns]\n"
     ]
    }
   ],
   "source": [
    "file_name = os.path.join(dir_name, '..','resources', 'NRC-Hashtag-Emotion-Lexicon-v0.2', 'NRC-Hashtag-Emotion-Lexicon-v0.2.txt')\n",
    "df_emo_hashtag = pd.read_csv(file_name, header=None, delimiter=delimiter)\n",
    "df_emo_hashtag = df_emo_hashtag[(df_emo_hashtag[0] == 'sadness') |\n",
    "                               (df_emo_hashtag[0] == 'anger') | \n",
    "                               (df_emo_hashtag[0] == 'fear') | \n",
    "                               (df_emo_hashtag[0] == 'joy')]\n",
    "print(df_emo_hashtag[(df_emo_hashtag[0] == 'anger') & (df_emo_hashtag[1] == 'pissed')][2].values[0])\n",
    "print(df_emo_hashtag)"
   ]
  },
  {
   "cell_type": "code",
   "execution_count": 11,
   "metadata": {},
   "outputs": [
    {
     "data": {
      "text/plain": [
       "array([['fear', '#westbank', 1.95195360556393],\n",
       "       ['fear', '#apprehension', 1.95195360556393],\n",
       "       ['fear', '#su4mh', 1.95195360556393],\n",
       "       ..., \n",
       "       ['joy', 'doctor', 0.0020351827030041197],\n",
       "       ['joy', 'grad', 0.00113671004597709],\n",
       "       ['joy', '1000', 0.00113671004597709]], dtype=object)"
      ]
     },
     "execution_count": 11,
     "metadata": {},
     "output_type": "execute_result"
    }
   ],
   "source": [
    "emo_hashtag = df_emo_hashtag.as_matrix()\n",
    "emo_hashtag"
   ]
  },
  {
   "cell_type": "code",
   "execution_count": 12,
   "metadata": {},
   "outputs": [
    {
     "data": {
      "text/plain": [
       "array(['joy', 'grad', 0.00113671004597709], dtype=object)"
      ]
     },
     "execution_count": 12,
     "metadata": {},
     "output_type": "execute_result"
    }
   ],
   "source": [
    "def filter_emo_hashtag(emotion, hashtag):\n",
    "    temp = None\n",
    "    for each in emo_hashtag: \n",
    "        if each[0] == emotion and (each[1] == hashtag):\n",
    "            if temp is None:\n",
    "                temp = each\n",
    "            else:\n",
    "                temp = np.concatenate((temp, each), axis=0)\n",
    "    return temp\n",
    "filter_emo_hashtag('joy', 'grad')"
   ]
  },
  {
   "cell_type": "code",
   "execution_count": 13,
   "metadata": {},
   "outputs": [],
   "source": [
    "def get_hashtags(tweet_content):\n",
    "    return re.findall('#[a-zA-Z]+', tweet_content)"
   ]
  },
  {
   "cell_type": "code",
   "execution_count": 14,
   "metadata": {},
   "outputs": [],
   "source": [
    "def get_hashtag_emo_value(hashtag, emotion):\n",
    "    emo_value = filter_emo_hashtag(emotion, hashtag)\n",
    "    return emo_value[2] if emo_value is not None else 0"
   ]
  },
  {
   "cell_type": "code",
   "execution_count": 15,
   "metadata": {},
   "outputs": [],
   "source": [
    "def get_emot_value_from_hashtag(tweet_content, emotion):\n",
    "    hashtags = get_hashtags(tweet_content)\n",
    "    if len(hashtags) > 0:\n",
    "        _t_emo = []\n",
    "        for each_hashtag in hashtags:\n",
    "            _t_emo.append(get_hashtag_emo_value(each_hashtag, emotion))\n",
    "    else:\n",
    "        _t_emo = [0]\n",
    "    return np.mean(_t_emo)"
   ]
  },
  {
   "cell_type": "code",
   "execution_count": 16,
   "metadata": {},
   "outputs": [],
   "source": [
    "anger_hashtag_feature_nrc_hashtag_emoticon = np.array([get_emot_value_from_hashtag(each, 'anger') \n",
    "                                                       for each in df_anger.as_matrix()[:,1]]).reshape(len(df_anger), 1)\n",
    "joy_hashtag_feature_nrc_hashtag_emoticon = np.array([get_emot_value_from_hashtag(each, 'joy') \n",
    "                                                     for each in df_joy.as_matrix()[:,1]]).reshape(len(df_joy), 1)\n",
    "fear_hashtag_feature_nrc_hashtag_emoticon = np.array([get_emot_value_from_hashtag(each, 'fear')\n",
    "                                                      for each in df_fear.as_matrix()[:,1]]).reshape(len(df_fear), 1)\n",
    "sadness_hashtag_feature_nrc_hashtag_emoticon = np.array([get_emot_value_from_hashtag(each, 'sadness') \n",
    "                                                         for each in df_sadness.as_matrix()[:,1]]).reshape(len(df_sadness), 1)"
   ]
  },
  {
   "cell_type": "code",
   "execution_count": 17,
   "metadata": {},
   "outputs": [
    {
     "name": "stdout",
     "output_type": "stream",
     "text": [
      "(1701, 1)\n",
      "(1616, 1)\n",
      "(2252, 1)\n",
      "(1533, 1)\n"
     ]
    }
   ],
   "source": [
    "print(anger_hashtag_feature_nrc_hashtag_emoticon.shape)\n",
    "print(joy_hashtag_feature_nrc_hashtag_emoticon.shape)\n",
    "print(fear_hashtag_feature_nrc_hashtag_emoticon.shape)\n",
    "print(sadness_hashtag_feature_nrc_hashtag_emoticon.shape)"
   ]
  },
  {
   "cell_type": "markdown",
   "metadata": {
    "collapsed": true
   },
   "source": [
    "## Unicode Emoticon Lexicon"
   ]
  },
  {
   "cell_type": "code",
   "execution_count": 18,
   "metadata": {},
   "outputs": [],
   "source": [
    "import string\n",
    "translation_table = dict.fromkeys(map(ord, string.punctuation), None)"
   ]
  },
  {
   "cell_type": "code",
   "execution_count": 19,
   "metadata": {},
   "outputs": [
    {
     "name": "stdout",
     "output_type": "stream",
     "text": [
      "[['jeffreydonovan' 5.0 6 0]\n",
      " ['familar' 5.0 6 0]\n",
      " ['vppatel2011' 5.0 6 0]\n",
      " ..., \n",
      " ['clarianne' -4.999 0 5]\n",
      " ['scrambling' -4.999 0 8]\n",
      " ['ballsed' -4.999 0 6]]\n"
     ]
    }
   ],
   "source": [
    "file_name = os.path.join(dir_name, '..','resources', 'NRC-Emoticon-Lexicon-v1.0', 'Emoticon-unigrams.txt')\n",
    "df_emo_words = pd.read_csv(file_name, header=None, delimiter=delimiter)\n",
    "df_emo_words[0] = df_emo_words[0].str.lower().str.translate(translation_table)\n",
    "emo_words = df_emo_words.as_matrix() \n",
    "print(emo_words)"
   ]
  },
  {
   "cell_type": "code",
   "execution_count": 20,
   "metadata": {},
   "outputs": [
    {
     "name": "stdout",
     "output_type": "stream",
     "text": [
      "-4.999\n"
     ]
    }
   ],
   "source": [
    "def filter_emo_word(word):\n",
    "    temp = None\n",
    "    for each in emo_words: \n",
    "        if each[0] == word:\n",
    "            if temp is None:\n",
    "                temp = each\n",
    "            else:\n",
    "                temp = np.concatenate((temp, each), axis=0)\n",
    "    return temp\n",
    "print (filter_emo_word('ballsed')[1])"
   ]
  },
  {
   "cell_type": "code",
   "execution_count": 21,
   "metadata": {},
   "outputs": [
    {
     "data": {
      "text/plain": [
       "array([ list(['how', 'the', 'fuk', 'who', 'the', 'heck', 'moved', 'my', 'fridge', 'should', 'i', 'knock', 'the', 'landlord', 'door', 'angry', 'mad']),\n",
       "       list(['so', 'my', 'indian', 'uber', 'driver', 'just', 'called', 'someone', 'the', 'n', 'word', 'if', 'i', 'wasnt', 'in', 'a', 'moving', 'vehicle', 'id', 'have', 'jumped', 'out', 'disgusted']),\n",
       "       list(['dpduk', 'i', 'asked', 'for', 'my', 'parcel', 'to', 'be', 'delivered', 'to', 'a', 'pick', 'up', 'store', 'not', 'my', 'address', 'fuming', 'poorcustomerservice']),\n",
       "       ...,\n",
       "       list(['id', 'love', '2', 'c', 'gyimah', 'in', 'action', 'but', 'his', 'coach', 'is', 'holding', 'a', 'grudge', 'against', 'him']),\n",
       "       list(['forgiving', 'means', 'operating', 'with', 'gods', 'spirit', 'amp', 'god', 'isnt', 'unforgiving', 'amp', 'doesnt', 'hold', 'a', 'grudge', 'so', 'who', 'am', 'i', 'exactly']),\n",
       "       list(['ive', 'got', 'a', 'lot', 'of', 'tokens', 'saved', 'up', 'and', 'i', 'wanna', 'spam', 'the', 'event', 'song', 'but', 'my', 'eyes', 'sting', 'im', 'so', 'tired'])], dtype=object)"
      ]
     },
     "execution_count": 21,
     "metadata": {},
     "output_type": "execute_result"
    }
   ],
   "source": [
    "def get_tokenized_ndarray_from_df(df):\n",
    "    translation_table = dict.fromkeys(map(ord, string.punctuation), None)\n",
    "    return df[1].str.lower().str.translate(translation_table).str.split().values\n",
    "get_tokenized_ndarray_from_df(df_anger)"
   ]
  },
  {
   "cell_type": "code",
   "execution_count": 22,
   "metadata": {},
   "outputs": [],
   "source": [
    "def get_emoticon_lexicon_value(df):\n",
    "    cleaned_tokenized = get_tokenized_ndarray_from_df(df)\n",
    "    emoticon_lexicon_value = []\n",
    "    for each_tweet in cleaned_tokenized:\n",
    "        emoti_word_count = 0\n",
    "        emoti_value = 0\n",
    "        for each_word in each_tweet:\n",
    "\n",
    "            tmp = filter_emo_word(each_word)\n",
    "            if tmp is not None:\n",
    "                emoti_value += tmp[1]\n",
    "                emoti_word_count += 1\n",
    "        emoti_value = (emoti_value)/(emoti_word_count+1)\n",
    "        emoticon_lexicon_value.append(emoti_value)\n",
    "    return emoticon_lexicon_value"
   ]
  },
  {
   "cell_type": "code",
   "execution_count": 23,
   "metadata": {},
   "outputs": [],
   "source": [
    "anger_emoticon_lexicon_value = get_emoticon_lexicon_value(df_anger)\n",
    "joy_emoticon_lexicon_value = get_emoticon_lexicon_value(df_joy)\n",
    "sadness_emoticon_lexicon_value = get_emoticon_lexicon_value(df_sadness)\n",
    "fear_emoticon_lexicon_value = get_emoticon_lexicon_value(df_fear)"
   ]
  },
  {
   "cell_type": "code",
   "execution_count": 24,
   "metadata": {},
   "outputs": [],
   "source": [
    "joy_emoticon_lexicon_value = np.array(joy_emoticon_lexicon_value).reshape(len(joy_emoticon_lexicon_value),1)\n",
    "anger_emoticon_lexicon_value = np.array(anger_emoticon_lexicon_value).reshape(len(anger_emoticon_lexicon_value),1)\n",
    "fear_emoticon_lexicon_value = np.array(fear_emoticon_lexicon_value).reshape(len(fear_emoticon_lexicon_value),1)\n",
    "sadness_emoticon_lexicon_value = np.array(sadness_emoticon_lexicon_value).reshape(len(sadness_emoticon_lexicon_value),1)"
   ]
  },
  {
   "cell_type": "markdown",
   "metadata": {},
   "source": [
    "## Phrase Vector (by averaging the constituent word vectors)"
   ]
  },
  {
   "cell_type": "code",
   "execution_count": 25,
   "metadata": {},
   "outputs": [],
   "source": [
    "word_model = None"
   ]
  },
  {
   "cell_type": "code",
   "execution_count": 26,
   "metadata": {},
   "outputs": [],
   "source": [
    "def load_word_vectors():\n",
    "    global word_model\n",
    "    global dir_name\n",
    "#     embedding_file_loc = os.path.join(dir_name, '..', 'resources', 'GoogleNews-vectors-negative300.bin')\n",
    "    embedding_file_loc = os.path.join(dir_name, '..', 'resources', 'wiki.en', 'wiki.en.vec')\n",
    "    print(\"Loading the data file... Please wait...\")\n",
    "    word_model = gensim.models.KeyedVectors.load_word2vec_format(embedding_file_loc, binary=False)\n",
    "    print(\"Successfully loaded 3.6 G bin file!\")\n",
    "    return word_model"
   ]
  },
  {
   "cell_type": "code",
   "execution_count": 27,
   "metadata": {},
   "outputs": [],
   "source": [
    "def get_phrase_vector_obj(value):\n",
    "    return PhraseVector(value)"
   ]
  },
  {
   "cell_type": "code",
   "execution_count": 28,
   "metadata": {},
   "outputs": [],
   "source": [
    "class PhraseVector:\n",
    "    def __init__(self, phrase):\n",
    "        self.phrase = phrase\n",
    "        self.vector = self.phrase_to_vec(phrase)\n",
    "        self.pos_tag = self.get_words_in_phrase(phrase)\n",
    "\n",
    "    @staticmethod\n",
    "    def convert_vector_set_to_average(vector_set, ignore=[]):\n",
    "        if len(ignore) == 0:\n",
    "            return np.mean(vector_set, axis=0)\n",
    "        else:\n",
    "            return np.dot(np.transpose(vector_set), ignore) / sum(ignore)\n",
    "\n",
    "    @staticmethod\n",
    "    def get_unique_token_tags(vector1, vector2):\n",
    "        tag_list = []\n",
    "        for each_tag in vector1.pos_tag + vector2.pos_tag:\n",
    "            if each_tag not in tag_list:\n",
    "                tag_list.append(each_tag)\n",
    "        return tag_list\n",
    "\n",
    "    def phrase_to_vec(self, phrase):\n",
    "        # _stop_words = stopwords.words(\"english\")\n",
    "        phrase = phrase.lower()\n",
    "        verified_words = [word for word in phrase.split()]\n",
    "        vector_set = []\n",
    "        for each_word in verified_words:\n",
    "            try:\n",
    "                word_vector = word_model[each_word]\n",
    "                vector_set.append(word_vector)\n",
    "            except:\n",
    "                pass\n",
    "        return self.convert_vector_set_to_average(vector_set)\n",
    "\n",
    "    def get_cosine_similarity(self, other_vector):\n",
    "        cosine_similarity = np.dot(self.vector, other_vector.vector) / (\n",
    "        np.linalg.norm(self.vector) * np.linalg.norm(other_vector.vector))\n",
    "        try:\n",
    "            if math.isnan(cosine_similarity):\n",
    "                cosine_similarity = 0\n",
    "        except:\n",
    "            cosine_similarity = 0\n",
    "        return cosine_similarity\n",
    "\n",
    "    def get_words_in_phrase(self, phrase):\n",
    "        if phrase.strip() == '':\n",
    "            return []\n",
    "        else:\n",
    "            tagged_input = nltk.pos_tag(phrase.split(), tagset='universal')\n",
    "            prev_item, prev_tag = tagged_input[0]\n",
    "            g_item_list = [prev_item]\n",
    "            cur_group_index = 0\n",
    "            space = ' '\n",
    "            revised_tag = []\n",
    "            for cur_item, cur_tag in tagged_input[1:]:\n",
    "                cur_item = cur_item.lower()\n",
    "                if prev_tag is cur_tag:\n",
    "                    g_item_list[cur_group_index] += space + cur_item\n",
    "                else:\n",
    "                    revised_tag.append((g_item_list[cur_group_index], prev_tag))\n",
    "                    prev_tag = cur_tag\n",
    "                    g_item_list.append(cur_item)\n",
    "                    cur_group_index += 1\n",
    "            revised_tag.append((g_item_list[cur_group_index], prev_tag))\n",
    "            return revised_tag"
   ]
  },
  {
   "cell_type": "code",
   "execution_count": 29,
   "metadata": {},
   "outputs": [
    {
     "name": "stdout",
     "output_type": "stream",
     "text": [
      "Loading the data file... Please wait...\n",
      "Successfully loaded 3.6 G bin file!\n",
      "<gensim.models.keyedvectors.KeyedVectors object at 0x105da93c8>\n"
     ]
    }
   ],
   "source": [
    "import pickle\n",
    "word_model = load_word_vectors()\n",
    "print(word_model)"
   ]
  },
  {
   "cell_type": "code",
   "execution_count": 30,
   "metadata": {},
   "outputs": [],
   "source": [
    "def get_phrase_vectors(df, emotion):\n",
    "    tweet_vectors_obj = None\n",
    "    tweet_vectors = None\n",
    "    labels = None\n",
    "    filename = os.path.join(dir_name, '..', 'resources', 'raw_phrase_vectors_obj_'+emotion)\n",
    "    if not os.path.exists(filename):\n",
    "        tweet_vectors_obj = np.vectorize(get_phrase_vector_obj)(df[1].values)\n",
    "        tweet_vectors = np.array([[]])\n",
    "        for each_vector in tweet_vectors_obj:\n",
    "            curr_vector = each_vector.vector\n",
    "            if np.isnan(curr_vector).any():\n",
    "                curr_vector = np.zeros(shape=(1, 300))\n",
    "            else:\n",
    "                curr_vector = curr_vector.reshape(1, len(each_vector.vector))\n",
    "            if np.min(tweet_vectors.shape) == 0:\n",
    "                tweet_vectors = np.concatenate((tweet_vectors, curr_vector), axis=1)\n",
    "            else:\n",
    "                tweet_vectors = np.concatenate((tweet_vectors, curr_vector), axis=0)\n",
    "        labels = df[3].values\n",
    "        with open(filename, 'wb') as f:\n",
    "            pickle.dump(tweet_vectors_obj, f)\n",
    "            pickle.dump(tweet_vectors, f)\n",
    "            pickle.dump(labels, f)\n",
    "    else:\n",
    "        with open(filename, 'rb') as f:\n",
    "            tweet_vectors_obj = pickle.load(f)\n",
    "            tweet_vectors = pickle.load(f)\n",
    "            labels = pickle.load(f)\n",
    "    return tweet_vectors, labels"
   ]
  },
  {
   "cell_type": "code",
   "execution_count": 31,
   "metadata": {},
   "outputs": [],
   "source": [
    "tweet_vectors_anger, labels_anger = get_phrase_vectors(df_anger, emotion='anger')\n",
    "tweet_vectors_joy, labels_joy = get_phrase_vectors(df_joy, emotion='joy')\n",
    "tweet_vectors_sadness, labels_sadness = get_phrase_vectors(df_sadness, emotion='sadness')\n",
    "tweet_vectors_fear, labels_fear = get_phrase_vectors(df_fear, emotion='fear')"
   ]
  },
  {
   "cell_type": "markdown",
   "metadata": {},
   "source": [
    "## Polarity and Subjectivity using Textblob"
   ]
  },
  {
   "cell_type": "code",
   "execution_count": 32,
   "metadata": {},
   "outputs": [],
   "source": [
    "def get_polarity_and_subjectivity(df, emotion):\n",
    "    polarity_list = []\n",
    "    subjectivity_list = []\n",
    "    filename = os.path.join(dir_name, '..', 'resources', 'polarity_and_subjectivity_'+emotion)\n",
    "    if not os.path.exists(filename):\n",
    "        polarity_list = np.array(list(map(lambda x: Sentence(x).polarity, df[1].values)))\n",
    "        subjectivity_list = np.array(list(map(lambda x: Sentence(x).subjectivity, df[1].values)))\n",
    "        with open(filename, 'wb') as f:\n",
    "            pickle.dump(polarity_list, f)\n",
    "            pickle.dump(subjectivity_list, f)\n",
    "    else:\n",
    "        with open(filename, 'rb') as f:\n",
    "            polarity_list = pickle.load(f)\n",
    "            subjectivity_list = pickle.load(f)\n",
    "    polarity_list = polarity_list.reshape(len(polarity_list),1)\n",
    "    subjectivity_list = subjectivity_list.reshape(len(subjectivity_list),1)\n",
    "    return polarity_list, subjectivity_list"
   ]
  },
  {
   "cell_type": "code",
   "execution_count": 33,
   "metadata": {},
   "outputs": [],
   "source": [
    "polarity_list_anger, subjectivity_list_anger = get_polarity_and_subjectivity(df_anger, emotion='anger')\n",
    "polarity_list_fear, subjectivity_list_fear = get_polarity_and_subjectivity(df_fear, emotion='fear')\n",
    "polarity_list_sadness, subjectivity_list_sadness = get_polarity_and_subjectivity(df_sadness, emotion='sadness')\n",
    "polarity_list_joy, subjectivity_list_joy = get_polarity_and_subjectivity(df_joy, emotion='joy')"
   ]
  },
  {
   "cell_type": "markdown",
   "metadata": {},
   "source": [
    "## All Features Concatenated"
   ]
  },
  {
   "cell_type": "code",
   "execution_count": 34,
   "metadata": {},
   "outputs": [],
   "source": [
    "def get_features(df, emotion):\n",
    "    polarity_list, subjectivity_list = get_polarity_and_subjectivity(df, emotion)\n",
    "    tweet_vectors, labels = get_phrase_vectors(df, emotion)\n",
    "    emoticon_lexicon_value = get_emoticon_lexicon_value(df)\n",
    "    emoticon_lexicon_value = np.array(emoticon_lexicon_value).reshape(len(emoticon_lexicon_value),1)\n",
    "    hashtag_feature_nrc_hashtag_emoticon = np.array([get_emot_value_from_hashtag(each, emotion) \n",
    "                                                       for each in df.as_matrix()[:,1]]).reshape(len(df), 1)\n",
    "    return np.concatenate((polarity_list, \n",
    "                           subjectivity_list, \n",
    "                           tweet_vectors, \n",
    "                           emoticon_lexicon_value,\n",
    "                           hashtag_feature_nrc_hashtag_emoticon), axis=1)\n",
    "    "
   ]
  },
  {
   "cell_type": "code",
   "execution_count": 35,
   "metadata": {},
   "outputs": [],
   "source": [
    "anger_features = np.concatenate((polarity_list_anger, \n",
    "                                 subjectivity_list_anger, \n",
    "                                 tweet_vectors_anger, \n",
    "                                 anger_emoticon_lexicon_value,\n",
    "                                 anger_hashtag_feature_nrc_hashtag_emoticon), axis=1)"
   ]
  },
  {
   "cell_type": "code",
   "execution_count": 36,
   "metadata": {},
   "outputs": [
    {
     "data": {
      "text/plain": [
       "(1701, 300)"
      ]
     },
     "execution_count": 36,
     "metadata": {},
     "output_type": "execute_result"
    }
   ],
   "source": [
    "tweet_vectors_anger.shape"
   ]
  },
  {
   "cell_type": "code",
   "execution_count": 37,
   "metadata": {},
   "outputs": [],
   "source": [
    "fear_features = np.concatenate((polarity_list_fear, \n",
    "                                 subjectivity_list_fear, \n",
    "                                 tweet_vectors_fear, \n",
    "                                 fear_emoticon_lexicon_value,\n",
    "                                 fear_hashtag_feature_nrc_hashtag_emoticon), axis=1)"
   ]
  },
  {
   "cell_type": "code",
   "execution_count": 38,
   "metadata": {},
   "outputs": [],
   "source": [
    "joy_features = np.concatenate((polarity_list_joy, \n",
    "                                 subjectivity_list_joy, \n",
    "                                 tweet_vectors_joy, \n",
    "                                 joy_emoticon_lexicon_value,\n",
    "                                 joy_hashtag_feature_nrc_hashtag_emoticon), axis=1)"
   ]
  },
  {
   "cell_type": "code",
   "execution_count": 39,
   "metadata": {},
   "outputs": [],
   "source": [
    "sadness_features = np.concatenate((polarity_list_sadness, \n",
    "                                 subjectivity_list_sadness, \n",
    "                                 tweet_vectors_sadness, \n",
    "                                 sadness_emoticon_lexicon_value,\n",
    "                                 sadness_hashtag_feature_nrc_hashtag_emoticon), axis=1)"
   ]
  },
  {
   "cell_type": "markdown",
   "metadata": {},
   "source": [
    "## Recurrent Neural Network"
   ]
  },
  {
   "cell_type": "code",
   "execution_count": 40,
   "metadata": {},
   "outputs": [
    {
     "name": "stderr",
     "output_type": "stream",
     "text": [
      "Using TensorFlow backend.\n"
     ]
    }
   ],
   "source": [
    "from numpy import asarray\n",
    "from numpy import zeros\n",
    "from keras.models import Sequential\n",
    "from keras.layers import *\n",
    "from keras.constraints import min_max_norm\n",
    "from sklearn.utils import shuffle\n",
    "from sklearn.model_selection import train_test_split\n",
    "from sklearn.metrics import mean_squared_error\n",
    "import sys\n",
    "import os\n",
    "import csv\n",
    "\n",
    "max_length = -1"
   ]
  },
  {
   "cell_type": "code",
   "execution_count": 41,
   "metadata": {},
   "outputs": [],
   "source": [
    "def get_embedding_parameters(features):\n",
    "    vocab_size, embedded_vector_length = features.shape\n",
    "    max_length = vocab_size\n",
    "    embedding_matrix = features\n",
    "    return vocab_size, embedded_vector_length, max_length, embedding_matrix"
   ]
  },
  {
   "cell_type": "code",
   "execution_count": 42,
   "metadata": {},
   "outputs": [],
   "source": [
    "def get_embedding_model(vocab_size, embedded_vector_length, embedding_matrix, max_length, \n",
    "                  optimizer='adam',\n",
    "                  loss='mean_squared_logarithmic_error'):\n",
    "    model = Sequential()\n",
    "    e = Embedding(vocab_size, embedded_vector_length, weights=[embedding_matrix], input_length=max_length, trainable=False)\n",
    "    model.add(e)\n",
    "    lstm = Bidirectional(LSTM(300, activation='relu',\n",
    "                              kernel_initializer='random_uniform',\n",
    "                              bias_initializer='zeros',\n",
    "                              kernel_constraint=min_max_norm(min_value=-1.0, max_value=1.0, rate=0.5, axis=0),\n",
    "                              bias_constraint=min_max_norm(min_value=-1.0, max_value=1.0, rate=0.5, axis=0)))\n",
    "    model.add(lstm)\n",
    "    model.add(Dense(300, activation='relu'))\n",
    "#     # compile the model\n",
    "#     model.compile(optimizer=optimizer, loss=loss)\n",
    "#     # summarize the model\n",
    "    print(model.summary())\n",
    "    return model"
   ]
  },
  {
   "cell_type": "code",
   "execution_count": 59,
   "metadata": {},
   "outputs": [],
   "source": [
    "def get_dense_model(vocab_size, embedded_vector_length, embedding_matrix, max_length, \n",
    "                  optimizer='adam',\n",
    "                  loss='mean_squared_logarithmic_error'):\n",
    "    model = Sequential()\n",
    "    model.add(Dense(300, \n",
    "                    activation='relu', \n",
    "                    input_shape=(embedded_vector_length,)))\n",
    "#     # compile the model\n",
    "#     model.compile(optimizer=optimizer, loss=loss)\n",
    "#     # summarize the model\n",
    "    print(model.summary())\n",
    "    return model"
   ]
  },
  {
   "cell_type": "code",
   "execution_count": 44,
   "metadata": {},
   "outputs": [],
   "source": [
    "def get_rnn_model(embedding_models,\n",
    "                  optimizer='adam',\n",
    "                  loss='mean_squared_logarithmic_error',\n",
    "                  output_activation='relu'):\n",
    "    model = Sequential()\n",
    "    model.add(Merge(embedding_models, mode='concat', concat_axis=1))\n",
    "    model.add(Dense(1, activation=output_activation,\n",
    "                    kernel_initializer='random_uniform',\n",
    "                    bias_initializer='zeros',\n",
    "                    kernel_constraint=min_max_norm(min_value=-1.0, max_value=1.0, rate=.5, axis=0),\n",
    "                    bias_constraint=min_max_norm(min_value=-1.0, max_value=1.0, rate=0.5, axis=0)))\n",
    "    # compile the model\n",
    "    model.compile(optimizer=optimizer, loss=loss)\n",
    "    # summarize the model\n",
    "    print(model.summary())\n",
    "    return model\n",
    "    # fit the model"
   ]
  },
  {
   "cell_type": "code",
   "execution_count": 45,
   "metadata": {},
   "outputs": [],
   "source": [
    "def get_embedding_index(embedding_file_name):\n",
    "    # load the whole embedding into memory\n",
    "    embeddings_index = dict()\n",
    "    # f = open('../resources/glove.6B/glove.6B.'+str(embedded_vector_length)+'d.txt')\n",
    "    with open(embedding_file_name) as f:\n",
    "        l_no = 0\n",
    "        for line in f:\n",
    "            if l_no == 0:\n",
    "                l_no += 1\n",
    "                continue\n",
    "            values = line.split()\n",
    "            word = values[0]\n",
    "            try:\n",
    "                coefs = asarray(values[1:], dtype='float32')\n",
    "            except ValueError as e:\n",
    "                coefs = asarray(values[-embedded_vector_length:], dtype='float32')\n",
    "            if word not in embeddings_index.keys():\n",
    "                embeddings_index[word] = coefs\n",
    "    return  embeddings_index"
   ]
  },
  {
   "cell_type": "code",
   "execution_count": 46,
   "metadata": {},
   "outputs": [],
   "source": [
    "def write_to_file(tweet_ids, assgn_emotions, tweet_contents, predicted_scores, file_name):\n",
    "    dir_name = '/Users/nbarnaba/PycharmProjects/Keras_Samples/src'\n",
    "    if not os.path.exists(os.path.join(dir_name, '..', 'output')):\n",
    "        os.makedirs(os.path.join(dir_name, '..', 'output'))\n",
    "    with open(os.path.join(dir_name, '..', 'output', file_name), 'w') as f:\n",
    "        file_writer = csv.writer(f, delimiter='\\t')\n",
    "        for each_tweet_id, each_tweet_content, each_emotion, each_score in \\\n",
    "                zip(tweet_ids, tweet_contents, assgn_emotions, predicted_scores):\n",
    "            file_writer.writerow([each_tweet_id, each_tweet_content, each_emotion, each_score])"
   ]
  },
  {
   "cell_type": "code",
   "execution_count": 47,
   "metadata": {},
   "outputs": [],
   "source": [
    "def build_vocab(df, embeddings_index=None):\n",
    "    cleaned_tokenized = get_tokenized_ndarray_from_df(df)\n",
    "    unique_tokens = set()\n",
    "    for each_tweet in cleaned_tokenized:\n",
    "        filtered_set = []\n",
    "        if embeddings_index is None:\n",
    "            filtered_set = each_tweet\n",
    "        else:\n",
    "            for each_word in each_tweet:\n",
    "                if each_word in embeddings_index.keys():\n",
    "                    filtered_set.append(each_word)\n",
    "        unique_tokens = unique_tokens.union(set(filtered_set))\n",
    "    unique_tokens = list(unique_tokens)\n",
    "    vocab = {each_word : each_index+1 for each_index, each_word in enumerate(unique_tokens)}\n",
    "    vocab['<unk>' ] = 0\n",
    "    return vocab"
   ]
  },
  {
   "cell_type": "code",
   "execution_count": 48,
   "metadata": {},
   "outputs": [],
   "source": [
    "def build_embedding_matrix(vocab, embeddings_index, embedded_vector_length=300):\n",
    "    vocab_size = len(vocab)\n",
    "    embedding_matrix = zeros((vocab_size, embedded_vector_length))\n",
    "    for word in vocab.keys():\n",
    "        if word in embeddings_index.keys():\n",
    "            embedding_matrix[vocab[word]] = embeddings_index[word]\n",
    "    return embedding_matrix"
   ]
  },
  {
   "cell_type": "code",
   "execution_count": 66,
   "metadata": {},
   "outputs": [],
   "source": [
    "def get_encode_docs(df, vocab):\n",
    "    cleaned_tokenized = get_tokenized_ndarray_from_df(df)\n",
    "    encoded_docs = []\n",
    "    max_length = -1\n",
    "    for each_tweet in cleaned_tokenized:\n",
    "        encoded_tokenized_tweet = []\n",
    "        for each_word in each_tweet:\n",
    "            if each_word in vocab.keys():\n",
    "                encoded_tokenized_tweet.append(vocab[each_word])\n",
    "            else:\n",
    "                encoded_tokenized_tweet.append(0)\n",
    "        current_length = len(encoded_tokenized_tweet)\n",
    "        if current_length > max_length:\n",
    "            max_length = current_length\n",
    "        encoded_docs.append(encoded_tokenized_tweet)\n",
    "    return encoded_docs, max_length"
   ]
  },
  {
   "cell_type": "code",
   "execution_count": 62,
   "metadata": {},
   "outputs": [],
   "source": [
    "def get_padded_docs(df, vocab):\n",
    "    encoded_docs, max_length = get_encode_docs(df, vocab)\n",
    "    padded_docs = np.array([[]])\n",
    "    for each_encoded_doc in encoded_docs:\n",
    "        each_encoded_doc = np.array(each_encoded_doc)\n",
    "        each_encoded_doc = np.array([np.pad(each_encoded_doc, (0, max_length-each_encoded_doc.size), 'constant')])\n",
    "        if padded_docs.size == 0:\n",
    "            padded_docs = np.concatenate((padded_docs, each_encoded_doc), axis=1)\n",
    "        else:\n",
    "            padded_docs = np.concatenate((padded_docs, each_encoded_doc), axis=0)\n",
    "    return padded_docs, max_length"
   ]
  },
  {
   "cell_type": "code",
   "execution_count": 63,
   "metadata": {},
   "outputs": [
    {
     "name": "stdout",
     "output_type": "stream",
     "text": [
      "Loaded 2518843 word vectors.\n",
      "Built vocabulary...\n",
      "[[2041, 4642, 2041], [5911, 5957, 2585, 2605, 2041], [5911, 5957, 2585, 2605], [1332, 2649, 555, 1429, 5681, 1806, 5643, 296, 346, 2433, 3533, 5001, 1332, 333, 4606, 5780, 1848, 5585, 3915, 366, 6024, 2041], [3372, 4932, 3439, 5802, 4089, 3992, 2192, 5836, 2807, 3255, 5541, 346, 3273, 1580, 4135, 4879, 2202], [1502, 2186, 5780, 2470, 5780, 4980, 2807, 2186, 5780, 169, 2470, 5780, 1166, 4980, 3706, 2807, 525], [1005, 1346], [1332, 5541, 4089, 1320, 411, 346, 3234], [1350, 2696, 1038, 5730, 2268, 5911, 5681, 2557, 2807, 1166, 5240, 5780, 4023, 898, 171, 3504, 366, 2041], [1848, 1502, 4342, 4026, 1512], [3766, 2041, 346, 5691, 1332, 2761, 5643, 1543], [3778, 1332, 1117, 2192, 5780, 1172, 346, 4776, 346, 4619, 4776, 12, 3900, 1332, 1806, 4363, 5421, 1332, 1625, 2041, 3109], [2295, 400, 140, 386, 5780, 2992, 5911, 1502, 4617, 5379, 2807, 2055], [5780, 3255, 3844, 166, 5001, 1332, 5596, 3533], [171, 4756, 2140, 2041, 346, 431, 2041, 2691, 693], [3630, 4017, 346, 3234], [3683, 2624, 4851, 823, 3995, 1320, 3947, 428, 1157, 4014, 1320, 3543, 3575, 4800, 4135, 512, 5193], [97, 171, 643, 2761, 5836], [2315, 1641, 3372, 3429, 5681, 3377, 4917, 5769, 546], [1332, 4480, 1166, 4089, 5261, 3346, 1332, 428, 346, 54, 3778, 1580, 3573, 3778, 3934, 3234], [1694, 169, 4724, 1580, 5379], [2041, 4642], [97, 1429, 171, 4686, 3900, 456, 5795, 1932, 3987, 2664, 5183, 5421, 3340, 4910, 346, 2433, 2831, 3372, 2263, 5001, 1906, 432], [731, 5730, 3423, 3234, 1414, 5554], [2647, 5730, 2268, 3326, 3976, 3035, 898, 346, 4089, 4575, 5596, 5034, 1700, 2041, 3299], [2960, 1332, 5183, 346, 553, 4089, 3773, 1241, 5752, 3630, 5520, 1906], [2831, 171, 5379, 2265, 542, 4587, 2192, 3900, 5097, 5491, 2807, 1393, 4543, 1502, 5578, 1337, 1332, 5761, 174, 3234], [2186, 3976, 1808, 5077, 1925, 307, 5730, 3520, 1895, 3900, 3976, 1830, 2041], [5730, 1702, 3900, 5730, 5836, 2186, 3976, 1808, 4135, 2992, 4135, 2124, 171, 4226, 4089, 4575, 3369, 2041], [5780, 4608, 2186, 97, 643, 3941, 12, 4619, 2605, 590, 1580, 4089, 171, 3234, 570], [4260, 1080, 2429, 663, 1332, 3934, 4587, 2003, 5730, 4182, 5520, 1332, 5836, 1502, 4543, 5780, 5279, 3630, 4135, 4623, 5806, 2192, 5836], [4970, 3210, 3210, 2041, 346, 2670], [97, 4543, 5755, 2807, 5871, 1166, 3719, 171, 2200, 5769, 3454, 2532, 4135, 898, 5498, 1834, 3900, 731, 4174, 3158, 731, 346, 3483, 1906], [318, 4406, 3372, 1356, 4619, 4816, 97, 3429, 1502, 3234, 4991, 4135, 5128, 4135, 1332, 641, 3995, 5730, 4103, 1423, 3900, 1251, 4135, 4595, 2744], [3778, 4017, 2557, 674, 5493, 290, 3379, 4619, 1502, 5780, 655, 1496, 4433, 4707, 2557, 125, 4732, 403, 2637, 5388], [5780, 5508, 3676, 366, 2807, 2041, 4851, 5520, 5730, 2268, 3900, 4260, 97, 2433, 3652, 366, 2041], [3047, 1891, 2859, 3372, 4089, 4617], [4748, 3372, 2047, 4917, 1469, 5674, 2282, 629, 5289, 4619, 346, 2857, 4788, 5454, 4646], [4195, 4135, 5730, 1831, 4213, 3778, 587, 4135, 5198, 5730, 2853, 3900, 1332, 1951], [2274, 1257, 3976, 3429, 1640, 4932, 5769, 3900, 2192, 5730, 983, 1967, 976, 5192, 1876, 5690, 1876, 3206, 5690, 171, 717, 2041], [2295, 1582, 5474, 970, 5780, 3454, 894, 171, 1817, 2995, 5780, 3863, 1537, 5780, 2538, 3054, 4619, 3778, 418, 3454, 1822, 2664, 3456, 439, 3340, 1906], [1410, 5780, 5375, 171, 1119, 519, 1951, 2585, 171, 3662, 4936, 2807, 4543, 5769, 5780, 4412, 3778, 5730, 2358, 5001, 2308, 1180, 5780, 1848, 4851, 4217, 1996, 4678], [4617, 368], [5688, 171, 4076, 1446, 661, 4077, 2217, 1502, 953, 3700, 1372, 4077, 2385, 4215, 5416, 2041, 1634, 559], [2196, 888, 999, 439, 1346], [3695, 1332, 4715, 865, 4993, 2807, 5780, 5279, 1632, 5267, 4827, 78, 653, 5520, 5730, 2455, 5775, 1332, 1939, 97, 88, 5001, 1580, 4135, 5857, 1108], [1806, 971, 1872, 5541, 346, 1166, 4879, 2807, 456, 2041, 366, 3386], [1241, 5780, 4023, 3429, 4705, 3995, 1332, 2041, 2807, 898, 3129, 169, 3976, 4932, 1876, 4281, 5769, 5532, 3900, 1308, 2419, 629, 2433, 5372], [3372, 5681, 2998, 731, 346, 3234], [2186, 2640, 1735, 290, 11, 4674, 3346, 1524, 5851, 1580, 2357, 1524, 11, 859, 2910, 3663, 2041, 4674, 859], [4454, 4512, 5639, 2807, 4646, 5730, 5836, 2295, 422, 3264], [1235, 1472, 3372, 605], [4115, 1814, 5001, 1332, 1170, 2807, 1166, 938, 1429, 3995, 171, 4174, 4543, 3630, 4135, 3587, 1332, 256, 6029, 595, 5711, 1906, 4757], [5780, 5759, 2186, 5692, 3298, 3454, 171, 3326, 4135, 4705, 5465, 699, 2807, 3459, 4089, 5418, 795, 1414, 346, 3234, 4543, 3059], [1934, 5730, 2553, 5432, 4617, 1580], [3844, 2283, 643, 2537], [5730, 6025, 1356, 1990, 5730, 570, 4089, 731, 4606, 439, 643], [2807, 1608, 1456, 2807, 3644, 2608, 5459, 929, 1251], [5173, 2192, 3947, 4213, 2585, 5780, 5544, 4135, 5198, 5730, 3694, 3900, 5730, 3423, 4331, 565, 3900, 4661, 5193, 1106, 5384], [5279, 5780, 5730, 3340, 352, 3100, 691, 1652, 1593, 1595, 1598, 3234, 1554, 4364, 1835], [1332, 2173, 346, 5341, 3900, 107, 5730, 2420, 4089, 731, 5012, 2977, 61], [1332, 2377, 1038, 1932, 5730, 3659, 4198, 4077, 3242, 3900, 3155, 2585, 3976, 5198, 5730, 1916, 3900, 3546, 4498, 5100, 5134, 1765], [3429, 3676, 5780, 3454, 4371, 5001, 2192, 5780, 4586, 2186, 346, 4619, 1332, 5948, 4135, 898, 5723, 3514, 3900, 5780, 4214, 171, 102, 1599], [257, 2737, 5643, 1932, 2974, 1806, 1332, 2041, 555, 1429, 5780, 1848, 5216, 1332, 428, 346, 5216, 3429, 3657, 2831, 5761, 4619, 3035, 4705], [3683, 1808, 2269, 3782, 1346], [1502, 2857, 5379, 2186, 5730, 352, 3976, 5964, 4202, 2470, 107, 5001, 4575, 2289, 2186, 2425, 4586, 940, 5001, 4595], [1815, 5358, 4586, 4008, 1572, 2162, 5730, 5971, 2901, 5421, 4586, 4008, 4608, 4543, 4464, 2742, 5056, 5379, 409, 5970, 5290], [97, 4487, 5730, 5457, 3900, 5483, 2188, 346, 3067, 2585, 3695, 2585, 5730, 2930, 4860, 346, 5585, 3234, 1484], [5730, 971, 346, 5424, 3147, 5769, 346, 3630, 5520, 346, 171, 3774, 3900, 171, 39, 3900, 4743, 2807, 4739, 4917, 5730, 3298, 1346], [3206, 5554, 1429, 731, 1906, 1157, 4089, 1332, 5541, 3831], [3821, 2268, 3519, 1695, 5780, 2538, 1808, 1640, 2186, 1618, 4089, 5730, 1960, 3851, 5183, 1247, 637, 1906], [3715, 4135, 5730, 4544, 2807, 5730, 5081, 3659, 5379], [2664, 1320, 4249, 4135, 717, 5730, 3336, 1160, 12, 3976, 1808, 4135, 589, 5730, 5133, 5520, 5730, 51, 1346], [5248, 4621], [5780, 169, 4932, 5780, 3035, 2596, 4135, 3934, 4213, 2530, 925, 555, 2269, 3029, 5780, 655, 171, 5836, 4135, 5198], [3533, 4521, 426, 4260, 2433, 1081, 3703, 1876, 5590, 3575, 5911, 1119, 4972], [1460, 5780, 2624, 693, 3346, 1848, 1370], [4067, 5654, 1060, 5509, 1332, 670, 2906, 2807, 5582, 3900, 619, 1733, 4645, 663, 731, 3167, 97, 4879, 5520, 2192], [1537, 666, 5897, 1580, 4045, 898, 3177, 1332, 125, 4089, 171, 5497, 3900, 5903, 3278], [2210, 2803, 1332, 3080, 346, 2210, 171, 1424, 4856, 2916, 3976, 655, 171, 4936, 4881, 5421, 2664, 308, 783, 4089, 4575, 2543, 5379], [4089, 2640, 3683, 2495, 171, 4932, 3253, 2041, 2807, 4543, 5780, 1848, 5216, 5780, 1808, 4619], [2659, 4607, 2182, 4851, 4879, 5971, 169, 4953, 4135, 898, 1091, 4089, 5780, 4646, 1564], [1502, 3234, 5769, 97, 2181, 1502, 166, 3902, 4543], [5995, 1579, 4135, 3533, 370, 5780, 525, 1332, 256, 3372, 5564, 4115, 189, 1332, 4948, 4089, 1072, 4851, 4449, 1537, 838, 3429, 4876], [2175, 312, 940, 1500, 4135, 3321, 5421, 4650, 538, 3234, 2569, 5142], [97, 3429, 74, 4693, 2807, 4411, 5730, 468, 5520, 764, 555, 74, 1346, 248, 3192, 4716, 4223], [3429, 3676, 5780, 3454, 4371, 5001, 2192, 5780, 4586, 2186, 346, 4619, 1332, 5948, 4135, 898, 5723, 3514, 3900, 5780, 4214, 171, 102, 1599, 525], [1502, 5038, 3341, 5082, 2807, 2730, 1808, 1529, 1932, 6012, 5592, 2807, 4093, 555, 1529, 1932, 5730, 2413, 2807, 5710, 3029, 3234], [215, 97, 1085, 5379, 1789, 2186, 3976, 1038, 1251, 4135, 171, 5756, 352, 2807, 2433, 171, 3485, 2914, 4619, 1848, 5756], [842, 5075, 1580, 4543, 3372, 2942, 4089, 1332, 3992, 2612, 5216, 5780, 923, 4135, 4586, 5001, 5730, 2259, 4115, 1787], [2366, 5379, 5351, 4237, 4756, 323, 5911, 593], [3372, 1502, 643, 439], [3766, 1876, 4195, 4135, 171, 3326, 2140, 5780, 5620, 3822, 1996, 3346, 3429, 634, 429, 5203, 4135, 5620, 397, 4818, 4619], [5395, 3480, 141, 167, 4089, 3876, 3756, 2433, 1473, 1906, 1750], [4993, 4089, 5967, 2295, 1907, 1846, 5534, 2537, 4278, 368, 3234], [1502, 525, 3372, 1435], [2647, 5730, 2268, 3326, 3976, 3035, 898, 346, 4089, 4575, 5596, 5906, 4524, 1700, 3299], [374, 3429, 865, 3900, 4051, 3778, 3907, 3778, 982, 4614, 5677, 1932, 1480, 682, 731, 3454, 171, 4555, 1437, 1906, 47], [429, 1580, 2974, 3372, 133, 4135, 1848, 1480, 4949, 1836, 5964, 1346], [4213, 4816, 898, 5730, 41, 3149, 3900, 4646, 4131, 1502, 166, 1414, 346, 1081, 5167, 3372, 2433, 763, 807], [2258, 732, 937, 3683, 4023, 5620, 1290, 3494, 4536, 1365, 2807, 5851, 5730, 4260, 3113, 5718, 4567, 2807, 5198], [5052, 2028, 2807, 4646], [4045, 3010, 4619, 1608, 1537, 5780, 3454, 171, 3947, 174, 3760, 898, 3130, 4135, 4724, 1332, 1696, 5421, 1808, 171, 5829, 4352, 4568, 5379], [5780, 346, 5379], [3835, 5757, 5751, 5890, 4582, 5203, 2807, 3394, 3575, 4213], [3802, 3660, 1502, 5379, 4738, 232, 2807, 1587, 5940, 5730, 5345, 3683, 4816, 1808, 4135, 3905, 619, 1014, 3900, 5964, 2807, 3605, 4641, 5036, 5379], [4619, 5573, 5216, 4627, 1038, 2664, 3160, 4587, 4627, 5001, 345, 1932, 5730, 3423, 1344, 3635, 5780, 1808, 4627, 1038, 851, 2664, 4126, 1996], [169, 3835, 2596, 4135, 3934, 3346, 5780, 4214, 5730, 1821, 5379], [1641, 5730, 1619, 899, 1897, 346, 3234, 2664, 636, 4135, 4499, 4089, 1332, 5811, 138, 2691], [1320, 669, 3900, 4646, 4131, 1640, 1580, 3129, 3346, 2807, 732, 3372, 3630, 4993, 4135, 2234, 4131, 2807, 3372, 4020, 1608], [5780, 1808, 2433, 3183, 5001, 400, 2537, 4089, 171, 3637, 3372, 5585, 1906, 2202], [4107, 851, 3454, 643, 5001, 1907, 190], [4088, 4586, 3683, 4932, 5730, 2709, 2807, 990, 1808, 1529, 1660, 400, 3254, 5495, 2433, 5690, 2530, 5379, 1560], [2857, 3666, 3889, 4077, 1502, 4243, 5320, 663, 2970, 699, 5730, 5793, 3423, 4859, 1886, 4135, 5730, 2268, 4077, 3423, 4339, 4308, 1215], [6032, 2573, 169, 5570, 1580, 4939, 2186, 3372, 3113, 5379], [3715, 4135, 5730, 4544, 2807, 5730, 5081, 3659], [3083, 4575, 1633, 3306, 346, 1614, 2664, 5642, 4069, 2322, 2433, 3113, 1495, 4135, 4247, 4307, 2504, 4550, 1906], [851, 3113, 2670, 2914, 1580, 4617, 748], [5179, 5730, 3885, 5375, 171, 3533, 1320, 3346, 732, 5730, 5812, 5857, 5379], [731, 4509, 346, 4737, 5086, 3346, 3683, 3070, 2831, 3683, 4429], [2140, 1480, 550, 5315, 4586, 2085, 4278, 6012, 4621], [4014, 4342, 4077, 1162, 971, 3270, 4917, 4888, 5520, 5730, 1845, 3900, 4031, 4135, 5730, 1610, 4089, 388, 4192, 5744], [995, 525, 1332, 3759, 1928, 4019, 4598, 5932, 5421, 3558, 1346], [1754, 2186, 3976, 2083, 3995, 2807, 3995, 1608, 5001, 171, 3522, 3346, 4627, 1038, 2664, 1858, 1596, 1346], [4178, 4178, 2311, 4443, 555, 5094, 171, 4182, 5520, 1332, 4306, 84, 731, 346, 2433, 171, 3533, 6013, 2480, 2807, 2864, 1722, 4213], [5780, 167, 330, 1932, 1567, 2041, 2807, 5780, 3315, 2357, 4627, 3454, 171, 1269, 4512, 1469, 4861, 795], [3256, 5184, 2179, 1560, 2261, 2725, 313, 4818, 1672, 1320, 4816, 5198, 1580], [303, 805, 346, 5379], [1404, 2585, 171, 2930, 1038, 5001, 5730, 3423, 98, 5911, 3427, 4646, 3778, 5730, 5585, 982, 5735, 3778, 171, 2200, 4587, 3900, 2250], [5615, 645, 3900, 1332, 5541, 525], [2186, 4816, 5730, 2031, 1424, 3900, 5103, 2488, 3889], [1767, 3372, 3135, 368, 1933, 2807, 619, 4918, 3035, 5920, 699], [1347, 5780, 169, 2357, 3139, 4135, 4646, 5421, 3025, 5001, 171, 3443], [3035, 5780, 3429, 3255, 4089, 4713, 2948], [97, 5379, 2186, 4575, 174, 1595, 3934, 171, 5761, 773, 402, 2807, 4575, 2268, 4740, 346, 1241, 2664, 2495, 5792, 4705, 2578, 4917, 5730, 4661, 5379, 3410], [1332, 2401, 346, 3003, 663, 5730, 3743, 5379], [663, 1332, 5331, 4135, 4932, 4619, 3454, 3832, 3346, 4263, 97, 2433, 1295, 1346, 4796, 5448, 5889], [1731, 5780, 3454, 4089, 4843, 3739, 2807, 4848, 5372, 2403, 3305, 3575, 4993, 4017, 4089, 5223, 1119, 3741, 1861, 1346], [5780, 1808, 3504, 389, 5295, 1332, 4363, 2807, 3742, 5769, 3372, 2045, 5341, 1552, 5157], [1641, 3768, 2192, 5730, 3987, 2063, 4089, 5956, 1286, 1038, 4587, 3900, 3048, 1407, 1346, 5780, 655, 4135, 4705, 3704, 2959], [5780, 4539, 1332, 3436, 2149, 4017, 3372, 5911, 525, 1090, 4619, 525, 1852], [2807, 5780, 290, 4851, 4705, 4546, 1932, 2088, 2807, 619, 1760, 3370, 3234], [5730, 5680, 3778, 5284, 346, 2433, 171, 4210, 3326, 4135, 898, 3778, 4469, 5520, 171, 5435, 4134, 4342], [2186, 4816, 5730, 2031, 1424, 3900, 5103, 2488], [3223, 262, 1756, 5769, 346, 1502, 4342], [4408, 4342, 5681], [1932, 1063, 1309, 346, 3972, 258], [1061, 555, 2397, 4629, 1478, 5769, 4202, 5126, 2850, 3900, 3203, 2478, 5769, 1524, 1808, 1429, 2515, 1906, 1035], [3625, 2711, 3844, 2283, 752, 2807, 3844, 2283, 1825, 3100, 4023, 1808, 525, 6012, 3694, 1780, 1166, 5510], [1537, 3976, 2877, 1580, 525, 4816, 3976, 4602, 2585, 171, 4142, 5421, 4816, 3976, 4705, 525, 1932, 1580, 2256, 5499], [3372, 3822, 4247, 4135, 2433, 4991, 171, 4103, 97, 5379], [3372, 2990, 354, 327, 5890, 4917, 5730, 1223, 5216, 1524, 5871, 5899, 2186, 4816, 731, 3019, 259, 2488, 4129, 4342, 3221], [2647, 5730, 1149, 5025, 346, 2370, 5730, 4462, 4284, 1149, 5079, 593, 1599, 1653, 334, 5815, 1842], [1339, 632, 731, 4541, 3900, 4882, 3200, 4917, 5730, 4919, 3395], [3228, 1893, 632, 2433, 1320, 543, 190, 3000, 88, 826], [5780, 3454, 4089, 5730, 5399, 4509, 5001, 5987, 158, 2807, 1003, 485, 88, 5780, 4281, 2718, 171, 5457, 3372, 1502, 228, 1932, 5203], [276, 3249, 1346, 205, 5955, 4288, 2734, 3616, 184], [4445, 1588, 3976, 5780, 399, 5198, 619], [3072, 5769, 2939, 6017, 663, 391, 2807, 5547, 4459, 5519, 4135, 2557, 2807, 2379, 5575, 4459], [5374, 3346, 731, 346, 2664, 1342, 4892, 5001, 171, 3710, 5816, 2595, 2877, 1285, 1580, 2434, 4217, 218, 1038, 5520, 171, 4211, 2163, 1877], [5375, 4135, 3905, 1332, 1940, 1161, 4402, 731, 4222, 439, 898, 2227, 2664, 5960, 2922, 5620, 596, 2140, 1524, 3035, 1172, 4595, 1346], [174, 992, 4816, 5222, 5730, 3452, 1932, 1, 1609, 5520, 5946, 1502, 3889], [1150, 2003, 4269, 5730, 2268, 3438, 1551, 1876, 5554, 5522, 3851, 360, 2576, 845, 4810, 5733], [4608, 3727, 5780, 1808, 4135, 4705, 3575, 3778, 5980, 739, 5001, 1236, 4089, 5730, 4521, 97, 1502, 3234], [1683, 4281, 4115, 4705, 3902, 3382, 2944, 1047, 2969, 4278, 1506, 4619, 3454, 4115, 402, 732, 1540, 5851, 4415, 4143, 5520, 1440, 1906], [5964, 2192, 5730, 4108, 1212, 5292, 5520, 2859, 3100, 1381, 1290, 4797, 3766, 5780, 4646, 3778, 1308, 3429, 4993, 5730, 2857, 2902, 3680, 2534], [3035, 3683, 2596, 4993, 4115, 2031, 2807, 2992, 1608, 731, 346, 2916, 4996], [3372, 3766, 4020, 5769, 1524, 5762, 2961, 1784, 3234, 1188, 5525, 502, 3052], [5780, 2684, 2568, 1332, 4377, 1753, 4089, 1787, 2807, 97, 3766, 1640, 1332, 2041, 1502, 166, 3898], [5865, 3500, 847, 97, 3234, 1580], [1008, 5780, 4932, 1346, 346, 5053, 5585, 1677, 4631, 2807, 4635, 4619, 5573, 5216, 4619, 1012, 3995, 2807, 97, 4879, 4135, 1137, 3778, 3934, 1008], [2238, 97, 1052, 632], [2019, 632, 2433], [355, 2447, 5730, 174, 1142, 367, 2532, 5792, 203, 5216, 171, 1806, 249, 5769, 346, 5730, 1459, 2186, 1524, 1172, 3947, 1524, 1172, 1806, 5379], [5611, 5751, 169, 1172, 5730, 1269, 4512, 2699, 2807, 264, 4135, 171, 63, 3542, 5930, 4077, 1751, 97, 3234], [97, 3486, 3844, 4879, 2433, 4135, 4705, 1996], [2585, 171, 5585, 1507, 2807, 5258, 352, 3162, 5921, 1256, 3253, 6012, 5596, 3234, 5541, 724, 4991, 3652, 346, 5585, 5883, 2807, 1859], [1876, 1526, 663, 5730, 451, 1932, 171, 3536, 4135, 3305, 5730, 3380, 2807, 5035, 1458, 5769, 4007, 2324, 4513, 2041], [5219, 1247, 5183, 3784, 4135, 2877, 5326, 1092, 5160, 4089, 5730, 2954, 3683, 313, 3306, 4321, 4135, 2451, 5926, 4278, 1906], [4851, 171, 6014, 3206, 5992, 1932, 1580, 27, 97, 2488, 2272, 3059], [1502, 3666, 5780, 797, 1320, 3900, 1332, 2133, 553, 5730, 1427, 3778, 3739], [4991, 5622, 125, 3877], [3760, 4737, 4465, 593, 732, 2488, 3575, 1932, 1721, 3100, 2624, 898, 5101], [5780, 169, 4932, 97, 5649, 5775, 4089, 5769, 925, 346, 1529, 724], [4608, 3113, 5101, 1502, 5780, 3002, 4861], [97, 1119, 5642, 5780, 2624, 1800, 867, 2664, 4987, 5001, 5420, 2694, 2433, 171, 5674, 4455, 65, 1502, 5752, 171, 4128, 4135, 4586, 4646], [3733, 4879, 4135, 429, 4089, 4575, 4297, 1332, 5527, 732, 65, 3486, 2434, 5780, 2532, 1153, 3454, 3253, 5083, 4008, 4296, 4619, 4627, 5379, 3288], [4251, 677, 4123, 1157, 4619, 4238, 3340, 3027, 2807, 366, 5452, 2738, 2154, 289, 1587, 4587, 4135, 4705, 3976, 1157, 323], [2192, 5730, 1581, 1038, 4543, 5173, 1104, 3778, 4622, 4256, 3372, 2670, 107, 1932, 1332, 3437, 3253, 2186, 5780, 655, 4135, 3394, 3575, 5001, 5318, 1346], [5730, 2435, 5780, 2684, 5375, 4135, 4623, 171, 786, 5001, 171, 4686, 2807, 3727, 4045, 1808, 4135, 2992, 5173, 1320, 1608, 2295, 4213, 346, 3234, 1922], [5032, 346, 3844, 5377, 2914, 1580, 5198, 4678], [97, 4543, 5755, 2807, 5871, 1166, 3719, 171, 2200, 5769, 3454, 2532, 4135, 898, 5498, 1834, 3900, 731, 4174, 3158, 731, 346, 3483], [731, 6025, 167, 1580, 1517, 3575, 5216, 3976, 65, 898, 224, 2807, 725, 5421, 643, 2807, 1554, 2664, 4089, 4512], [4270, 386, 4586, 5780, 1808, 4115, 1572, 5679, 191, 4135, 5075, 3976, 4993, 4135, 2517, 1907, 528, 5780, 3429, 5758, 2295, 2419, 1582, 4115, 191, 5520, 5730, 4103, 5379], [5541, 346, 3844, 3688, 1502, 169, 4257, 4619, 4089, 1932, 5580, 1346, 2807, 621], [1535, 3630, 4135, 3255, 4089, 3992, 27, 2398], [1589, 5941, 3683, 1808, 4396, 845, 4435, 3747, 2140, 3683, 937, 4705, 5751, 3077, 3946, 3584], [1175, 5780, 2538, 1808, 5690, 619, 3778, 171, 3142, 4931, 5421, 4307, 3739, 3711, 5192, 3372, 3889], [5773, 2681, 3731, 3784, 5379, 293, 1630], [1332, 4198, 429, 1580, 3372, 1119, 3764, 3257, 1332, 3372, 4026, 5780, 2965, 3454, 3706, 3346, 732, 816, 3372, 5127, 1119, 4026, 2509, 5379, 172], [3346, 2186, 1332, 4963, 1822, 1580, 6021, 5769, 4619, 3454, 5735, 4342, 2807, 5780, 4546, 1321, 4587, 4627, 5780, 3454, 1822, 4135, 5948, 4019, 46, 4738, 3454, 3844, 2557], [4007, 5730, 2930, 97, 1429, 5728, 4397, 5730, 2975, 4397, 5522, 4135, 1824, 5421, 3478, 5730, 2895, 3900, 5730, 120, 5081, 3820, 5567, 1064], [5780, 169, 4214, 5730, 4096, 3900, 1332, 1084, 3346, 3760, 5216, 5751, 4743, 3372, 3658, 3398, 3928, 2192, 302, 5769, 5570, 1580, 1996], [1008, 1008, 5447, 4460, 3818, 3879, 1489, 3683, 1808, 1971, 4188, 2433, 171, 973, 3900, 681, 4135, 2622, 1346], [1537, 1908, 740, 65, 4089, 1231, 5421, 5730, 1208, 2488, 2624, 3010, 5780, 5027, 5476, 5730, 3182, 4429, 3163, 1502, 3889, 4917, 2831, 4228, 3162, 3778, 5730, 3853], [1279, 2624, 1615, 3011, 619, 2941, 3369, 2807, 5672, 4918, 3148], [261, 2283, 2429, 5780, 169, 3514, 3253, 2807, 2283, 2429, 5780, 4586, 5769, 5780, 169, 4567, 5520, 12, 97, 2527, 171, 5648, 4851, 2186, 856], [1061, 555, 2397, 4629, 1478, 5769, 4202, 5126, 2850, 3900, 3203, 2478, 5769, 1524, 1808, 1429, 2515, 1035], [5486, 2716, 5088, 4918, 4179, 4927], [2273, 46, 97, 171, 643, 5836, 2240], [5033, 1332, 1309, 53, 5775, 3962, 5780, 3454, 1502, 3706], [4062, 5089, 97, 5291, 2526, 3683, 5871, 3998, 4135, 4917, 1982, 5268, 4575, 326, 3316, 3429, 3829, 3976, 525], [5780, 2624, 2573, 5780, 5638, 361, 4259, 2664, 1320, 346, 4089, 5730, 1229, 1502, 5780, 2596, 4135, 171, 3105, 2807, 1572, 27, 1332, 1555, 1038, 5268], [5780, 5466, 2831, 209, 5167, 1537, 5780, 5871, 171, 1431, 5341], [5068, 731, 346, 1502, 1584, 5780, 2538, 4939, 5289, 4543, 1537, 5780, 4271, 3315, 1848, 5216, 3067, 5001, 5730, 2234, 3900, 1290, 2204, 4646, 2520], [1143, 5780, 450, 4705, 5520, 1932, 4619, 65, 1338, 4546, 5330, 5769, 4175, 2700, 5028, 2532, 2507, 593, 4135, 5027], [1707, 4619, 3286, 2807, 5867, 4007, 5730, 3340, 2531, 241, 3793, 632], [4045, 3429, 1808, 4135, 5035, 1332, 3486, 4135, 4887, 404, 898, 171, 4119, 3900, 171, 1139, 4993, 4135, 5101], [2186, 3976, 1808, 5077, 1925, 307, 5730, 3520, 1895, 3900, 3976, 1830], [1867, 2595, 3372, 3047, 3253, 4619, 4586, 2433, 898, 5379, 843, 4627, 346, 2434, 5264, 4089, 5730, 5012, 4135, 823, 3253, 4619], [12, 3900, 791, 3900, 3325, 5520, 88, 171, 47, 555, 4135, 4959, 5949, 3184, 4217, 2433, 3533, 3838, 4872, 1906], [2575, 4399, 168, 4342, 1861, 3995, 171, 5170, 3900, 126, 5595, 699, 4917, 5751, 694, 5925, 866, 5001, 171, 2070, 4555, 3699, 5994], [97, 5379, 2186, 4575, 174, 1595, 3934, 171, 5761, 773, 402, 2807, 4575, 2268, 4740, 346, 1241, 2664, 2495, 5792, 4705, 2578, 4917, 5730, 4661, 3410], [833, 3778, 982, 4089, 1764, 485, 98, 3900, 4619, 346, 3374, 2585, 3113, 5716, 5730, 5399, 5140, 5730, 2435, 5769, 1100, 346, 2194], [3486, 3844, 3465, 4135, 4465, 906, 3486, 3844, 906, 4135, 4465, 5101, 3462], [4477, 1704, 2365, 4947, 814, 3128, 4587, 3900, 4619, 5730, 4649, 5520, 3389, 1038, 3868, 2807, 1808, 797, 2807, 4260, 1038, 1906], [5780, 1808, 2664, 3620, 2140, 1332, 1909, 346, 525], [4382, 731, 346, 5730, 3423, 4342, 1812, 3900, 3365, 5780, 3454, 1981, 1932, 2192, 5836], [5751, 5829, 2641, 5520, 4170, 3784, 3900, 5730, 4510, 4436, 3778, 2447, 606, 3231, 4343, 5001, 1597, 5916, 2771, 1346], [4991, 171, 5208, 5980, 5022, 699, 346, 4940, 2857, 4342, 4851, 1932, 1332, 6010, 1974, 4619, 5520, 3455], [525, 3887, 3711, 2902, 4803, 5690, 1646, 4818, 5730, 2544, 2433, 1356, 2140, 2079, 1429, 2530, 1906, 3279], [2363, 2605, 1906, 2807, 2294, 3102], [2831, 171, 5379, 4514, 5836, 3900, 2784, 169, 4332, 2784, 3429, 5964, 2196, 1593, 110, 1346, 3489], [3339, 3372, 2433, 4627, 724, 298, 5775, 4089, 724, 3755, 3575], [225, 3900, 88, 346, 225, 3900, 88, 525, 225, 88, 525], [2799, 5780, 5703, 2807, 2871, 4575, 5734, 4089, 1332, 596, 2295, 3976, 384, 3857, 2796, 5780, 3514, 3253, 3976, 2807, 5780, 169, 2357, 2974, 2120, 5780, 3035], [1081, 898, 171, 5159, 4174, 2585, 171, 1070, 4455, 29, 4641, 1936, 2807, 241, 5379], [4409, 3518, 1770, 5216, 4575, 3364, 632, 2664, 241, 5730, 1354, 138], [2186, 5730, 1346, 1595, 3976, 1480, 4089, 4575, 3992, 5780, 4816, 2458, 3976, 4089, 5730, 1678, 3900, 4575, 4646, 2807, 97, 2192, 4089, 5730, 5669, 3900, 5964, 3554], [2079, 1202, 5730, 6016, 5001, 171, 2510, 2807, 2132, 3237, 5016, 346, 5766, 3900, 881, 4661, 5399, 1991, 5923, 5083], [5285, 5576, 5730, 556, 2975, 4783, 5730, 5171, 632], [5780, 5759, 5730, 3496, 3100, 2605, 5570, 1580, 3255], [5851, 345, 2433, 2330, 1290, 5568, 1932, 171, 5648, 241, 4599, 5776, 4557, 4957, 5500], [4601, 4980, 5421, 5057, 5780, 849, 4135, 898, 5101], [445, 386, 2495, 1524, 4214, 4135, 5570, 3976, 2143, 4089, 4135, 5730, 1678, 3900, 4646], [2051, 2558, 5674, 5244, 5399, 1117, 5001, 5730, 910, 2807, 5730, 5012, 5792, 209, 3423, 489, 814, 345, 4135, 468, 3688, 4077, 5054, 2668, 3244], [1502, 3373, 1996, 1932, 4732, 2585, 3900, 402, 1983, 5940, 5520, 3922, 1332, 1655, 2433, 3308, 731, 3778, 2192], [5868, 4996, 4164, 346, 5792, 4851, 5520, 5730, 612, 4915, 4587, 3900, 2738, 5436, 4113, 4825], [1537, 629, 1906, 1932, 5921, 3429, 2857, 429, 4595, 629, 1906, 2807, 4724, 169, 2596, 5389, 4019, 1932, 4415, 4260, 5520, 5730, 1895], [1786, 991, 5520, 3084, 5311, 3245, 2807, 5780, 4742, 3575, 439, 5911, 5216, 3401, 4204, 5697, 4467, 1346], [2974, 3035, 3976, 5027, 5730, 2683, 3724, 2054, 4712, 589, 97, 1190, 1290, 2902, 1038, 4996, 1537, 5234, 2624, 4069, 345, 5996, 3035, 2534], [5730, 5044, 346, 4342, 3919, 3900, 2974, 1806, 5780, 3035, 898, 3778, 2901, 5192, 2807, 2974, 5780, 2538, 4705, 171, 773, 3844, 3764, 3129, 3778, 1308, 1765, 5383], [3372, 3178, 3900, 3706, 5730, 1320, 6013, 5780, 4586, 5289, 4543, 555, 171, 2681, 2234, 3346, 5520, 5730, 4415, 5410, 1502, 1705, 5730, 4555, 6013, 525, 2614], [5715, 4528, 1968, 4691, 4958, 651, 2624, 717, 4135, 4617, 3515, 4682, 4077, 4855, 11, 2162, 5770, 4905], [5730, 4274, 346, 2192, 3253, 3873, 2807, 3855, 731, 4174, 2664, 29, 3253, 5730, 1133, 5379, 353], [4273, 5780, 1808, 731, 1320, 1502, 3372, 2433, 1502, 5379, 3346, 4941], [5289, 5780, 3501, 898, 1907, 2514, 4455, 2807, 5730, 3711, 937, 1414, 3346, 5976, 5953, 5001, 2534, 555, 5375, 171, 3851, 2992, 4228, 3429, 4996], [5780, 4705, 1996, 12, 5780, 2470, 5001, 739, 2857, 3700, 171, 79, 1932, 5141, 4161, 3346, 1038, 5532, 3900, 4779, 2974, 4738, 209, 1172, 1332, 5349], [2010, 1715, 5751, 2729, 241, 2192, 1537, 4008, 2684, 2596, 4135, 468, 4008, 2624, 3010, 940, 4008, 2684, 525, 4198, 2807, 2820, 5520, 468, 1502, 5061, 4619], [5375, 4135, 3905, 3575, 5520, 5730, 5635, 4304, 450, 1800, 1891, 1902, 4541, 3900, 1534, 4135, 5730, 2488, 296, 167, 4342, 2807, 45, 587], [2965, 171, 2086, 4543, 171, 2945, 3900, 1428, 2259, 1697, 898, 171, 3943, 525], [5751, 3900, 2054, 4260, 3778, 731, 409, 1038, 3429, 4627, 5001, 5730, 2841, 5031, 3234], [4099, 5780, 4918, 5780, 3429, 4214, 751, 4135, 390, 2807, 429, 1580, 4135, 2573, 2777, 5421, 2120], [2807, 4627, 346, 4646, 4418, 5582, 2807, 485, 2, 1985, 2807, 485, 4420, 4135, 5502, 5730, 2237, 3900, 5048, 5588], [847, 3629, 1932, 1580, 3372, 2433, 2859, 5475, 4089, 5756, 5541, 3372, 171, 192, 352, 693, 1580, 3263, 4545, 4145, 2428, 2041], [1761, 2605, 1502, 4653, 4099, 5780, 823, 244], [5478, 3145, 5094, 171, 4182, 5520, 1332, 570], [3683, 525], [1871, 5780, 4801, 3976, 5871, 3630, 4135, 4586, 5769, 5780, 209, 489, 4499, 1537, 5780, 3315, 2471, 4089, 4516, 2140, 3976, 2624, 589, 3771, 1502, 4617], [5619, 346, 2857, 4996, 5216, 2916, 1332, 623, 4562, 1052, 346, 3832, 4641, 5476], [1320, 384, 4132, 4861, 5678, 3413, 5730, 4909, 4135, 792, 4446, 5247, 5780, 5279, 5981, 5639, 3253, 1513, 4789, 4555, 3674, 1346], [1332, 4198, 429, 1580, 3372, 1119, 3764, 3257, 1332, 3372, 4026, 5780, 2965, 3454, 3706, 3346, 732, 816, 3372, 5127, 1119, 4026, 2509, 172], [663, 2831, 5780, 2357, 3900, 5730, 174, 5780, 1808, 4135, 3081, 5769, 2387, 555, 5375, 171, 1280, 4397, 1932, 2738, 5596, 5211, 5379], [213, 632, 2738, 2968, 2537, 1038, 5940, 5476], [473, 1008, 5477, 5780, 5026, 1348, 5730, 4861, 2041, 1346, 3346, 1524, 1038, 5585, 4358, 731, 316, 5263, 1580, 3900, 5769, 1008], [169, 5851, 5730, 3707, 3900, 3146, 1454, 4136, 2994, 4713, 2218, 4873, 892, 1103, 2041, 366, 728, 2391, 2623], [4792, 1083, 4413, 5427, 649, 4135, 716, 2189, 914, 2903, 5836, 47, 4989, 88, 1906, 47], [685, 1452, 1876, 167, 503, 4250, 5520, 6012, 3486, 5001, 3976, 2807, 1377, 3346, 5780, 169, 4932, 3425, 2461, 4917, 356, 632], [3447, 5780, 1429, 4089, 3449, 5626, 2192, 4521, 2807, 4135, 5920, 1580, 699, 4851, 4217, 1332, 2897, 3406, 865, 4089, 2585, 171, 2719, 2162, 5780, 2357, 5780, 2532, 3015, 2691], [1694, 169, 4724, 1580], [4450, 3844, 4342, 3844, 4891, 4588, 4135, 1653, 3976, 663], [340, 5730, 6013, 346, 97, 65, 5780, 898, 671, 2807, 1906, 5421, 2610, 1932, 5751, 2678, 5769, 4586, 1475], [1155, 97, 2857, 4996, 5001, 2471, 3390, 1990], [974, 1907, 5333, 346, 4342, 3976, 1038, 974, 5730, 616, 549, 3900, 171, 4473, 2807, 1907, 5317, 3996], [3976, 3206, 5075, 1580, 2186, 4575, 5101], [4195, 5520, 1718, 5570, 4389, 4608, 5217, 4389, 4918, 1524, 3369, 3119], [2006, 2915, 4738, 2495, 3695, 439, 5780, 2624, 4705, 5668, 619, 4918, 281, 1580, 3372, 3130], [5639, 3454, 1907, 1392, 3340, 5730, 2822, 5340, 5928, 2538, 4577, 1907, 1415, 3206, 4801, 4646], [3802, 3660, 1502, 5379, 4738, 232, 2807, 1587, 5940, 5730, 5345, 3683, 4816, 1808, 4135, 3905, 619, 1014, 3900, 5964, 2807, 3605, 4641, 5036], [4156, 5053, 361, 5792, 555, 171, 361, 5104], [4861, 3803, 171, 392, 2807, 1166, 2664, 3019, 3763, 4135, 929, 4135], [3584, 5780, 1808, 452, 171, 612, 4135, 171, 4758, 5780, 5295, 2192, 2352, 4322, 4135, 4595, 4505, 241, 5730, 3178, 3900, 924, 5780, 142, 5001, 5203, 5172], [928, 203, 171, 4407, 2606, 5520, 643, 4104], [5548, 4050, 1332, 950, 1530, 5136, 2470, 2433, 4135, 4412, 3778, 4575, 1679, 4850, 3844, 5026, 5730, 3973, 4816, 4617, 3976], [5730, 4555, 5312, 5197, 346, 4342], [4979, 648, 5911, 4575, 5521, 5520, 5730, 3594, 2596, 65, 3486, 525, 2192, 2332, 5001, 683, 3103], [2345, 5379, 4732], [4932, 925, 3552, 898, 3630, 731, 4686, 4045, 1808, 4135, 814, 5730, 3755, 3900, 5730, 4686, 699, 3934, 4135, 5198, 3372, 1356, 3425, 1838, 3029], [400, 2031, 2867, 5730, 1252, 2807, 1808, 5375, 5730, 3376, 1427, 1613, 3778, 1580, 5780, 2797, 1166, 5786, 2813, 2807, 1972, 4587, 3900, 1332, 5481], [2809, 4023, 1808, 5992, 4089, 3926], [2982, 2140, 555, 4575, 882, 3654, 4896, 611, 1429, 1495, 4135, 4705, 5001, 2031, 1906], [5780, 5198, 5730, 1583, 525], [2943, 5780, 2624, 1808, 2502, 5520, 4619, 632, 3346, 4619, 3340, 2172, 3575, 2164, 5585, 59, 302, 1502, 5780, 3429, 655, 4135, 898, 4217, 1163], [3506, 5324, 3705, 4135, 1332, 845, 2200, 1447], [3615, 4135, 5730, 5488, 174, 5520, 5730, 1481, 3100, 4243, 4089, 171, 5831, 2807, 5520, 5730, 2954, 4342], [4008, 2357, 4008, 1808, 3844, 166, 5520, 4136, 5928, 2186, 4008, 2877, 843, 3977, 171, 3317, 2807, 3376, 4917, 843, 3778, 3768, 5844, 6002], [2804, 38, 5780, 5772, 4587, 5730, 3270, 5520, 1266, 4917, 4117, 1718, 2596, 4705, 4595, 3001, 2264, 3322, 4551, 1906], [1659, 1458, 5172, 2202, 2684, 1176, 3346, 4320, 3657, 5216, 4614, 2380, 5001, 171, 4323, 1491, 3183, 5780, 5279, 1659, 1502, 1475, 1641], [4812, 3749, 2527, 2324, 4263, 5780, 5216, 5769, 1524, 768, 3346, 97, 1166, 4342, 4135, 1351], [5001, 171, 2902, 2585, 4029, 2585, 1033, 2807, 5730, 1524, 5216, 4135, 589, 3711, 6012, 612, 346, 2857, 4996, 56, 2664, 5704, 612, 2034], [1232, 2144, 4327, 4512, 171, 5575, 4077, 1907, 1465, 171, 5980, 3859, 915, 5980, 1424, 3900], [1166, 3095, 5001, 524, 5235, 4738, 5681, 5897, 619, 3504, 5421, 1458, 2219, 5911, 237, 361, 5289, 4543, 4683], [5658, 3429, 171, 5567, 2738, 5012, 3454, 4621, 663, 5836, 1320, 1958, 4619, 2914, 2065, 5115, 1808, 5730, 2930, 98, 4648, 1620], [2974, 4586, 4008, 823, 5921, 3100, 5973, 4072, 171, 352, 724], [97, 1502, 643, 3941, 5780, 3676, 4619, 3454, 2585, 1554, 2585, 4619, 4348], [374, 525, 4430, 4125, 2596, 4017, 3251, 134, 3976, 1332, 101, 2807, 1808, 4519, 5912, 171, 5836, 2831, 4217, 3035, 5780, 4586, 5958], [2186, 3976, 4913, 171, 3297, 1932, 5730, 4111, 1332, 5928, 346, 171, 3077, 3326, 4135, 898, 2807, 3976, 209, 5216, 4135, 4499, 3346, 4089, 4609, 169, 4574, 4619, 1346], [1332, 506, 4554, 5769, 5780, 1808, 171, 5703, 5520, 1332, 3369, 2807, 5792, 3257, 1580, 629, 4315, 1254], [3398, 4135, 814, 5752, 525, 2807, 1480, 2807, 5570, 4619, 5289], [4975, 5010, 3340, 4861, 579, 5520, 181, 4814, 4135, 3875, 2664, 4509, 4135, 1800, 4589, 2398, 2038, 1906], [97, 2193, 171, 796, 3372, 1081, 5224, 2192, 1469, 1052, 5614, 5780, 169, 655, 4589, 1346, 5065, 3032], [867, 811, 97, 517, 4115, 898, 3444, 5421, 5877, 1932, 3767, 5083, 3346, 169, 5851, 5769, 2573, 4008, 663, 3538, 4619, 5181], [4153, 125, 4256, 2888, 171, 2764, 443, 1332, 5989, 346, 166, 905, 4641, 5730, 3755, 3900, 1332, 5875, 3346, 5780, 450, 898, 1007, 2974, 4135, 124, 4619, 4089, 171, 5836], [4045, 3010, 4619, 1608, 1537, 5780, 3454, 171, 3947, 174, 3760, 898, 3130, 4135, 4724, 1332, 1696, 5421, 1808, 171, 5829, 2105, 2731, 4568], [4124, 937, 4047, 1808, 1429, 4358, 1537, 5780, 5992, 5001, 3240, 1381, 3346, 1166, 5730, 5807, 1209, 1132, 4260], [2947, 3372, 129, 1524, 4816, 3206, 3614, 1290, 2110, 3900, 41, 1604, 2968, 1524, 3035, 5639, 5001, 346, 4135, 898, 4014, 4264, 5379], [5752, 3533, 346, 5769, 3683, 2419, 3330, 6033, 5664, 4851, 2737, 3372, 3253, 4861, 4217, 1208, 4278, 663, 4555, 1678, 3900, 4646, 4463, 5562], [4940, 3035, 2433, 5706, 5730, 4118, 1788, 4587, 5001, 345, 3346, 3760, 3905, 3147, 5780, 1808, 5001, 2486, 4135, 898, 2375, 2807, 3129, 525], [5780, 167, 2738, 286, 4617], [5369, 3100, 4586, 5780, 79, 3253, 171, 3851, 3614, 1932, 5642, 2355, 5168, 341, 4818, 3976, 3874, 5225, 4996], [3451, 3509, 3695, 1524, 4023, 2192, 898, 1906, 5001, 5730, 3486, 1524, 1210, 5289, 4974], [5768, 5780, 5235, 4619, 4429, 898, 5681, 1006, 5001, 1580, 97, 5769, 5730, 2930, 3659, 5992, 4089, 1043, 1502, 5780, 5681, 5759, 4595], [322, 5001, 5730, 2429, 3683, 2495, 3035, 898, 1382, 4917, 88, 4619, 346, 322, 5001, 5730, 2429, 3683, 2495, 2433, 4586, 5769, 346, 4068, 4073, 3661, 962], [2564, 237, 2398, 829], [1332, 4318, 780, 2169, 1580, 699, 1761, 2605, 1429, 5341, 3900, 1026, 494, 237, 3346, 861, 1761, 1429, 3211, 27, 4738, 672, 2807, 773, 5476], [4196, 2619, 97, 171, 5351, 5769, 3035, 2433, 898, 5341], [5573, 4342, 2433, 4991, 4575, 5860, 4506], [2974, 2538, 2527, 171, 1312, 1724, 5399, 550, 2100, 898, 2097, 2011, 4271, 1825, 290, 5851, 6012, 2142, 4444, 944, 4745], [5769, 5334, 4724, 4575, 153, 1932, 171, 5703], [171, 3533, 338, 555, 1502, 166, 4135, 1135, 4077, 97, 5379, 5769, 5751, 3900, 3976, 2373, 169, 4851, 1172, 4619, 2186, 4738, 5289, 4089, 686, 3900, 4575, 3369, 2807, 3844, 402], [577, 132, 414, 5631, 171, 780, 4228, 1251, 4135, 346, 5055, 12, 3900, 5730, 3356, 3995, 3029, 2234, 5070, 525], [1320, 3486, 1092, 4135, 5730, 125], [2077, 2974, 829], [5300, 5344, 5823, 3913, 346, 1906, 5201, 2676, 4977, 2738, 4402, 1527, 3346, 5792, 2538, 2433, 1808, 3740, 5730, 3146, 65], [4488, 2288, 346, 4996], [3372, 3178, 3900, 3706, 5730, 1320, 6013, 5780, 4586, 5289, 4543, 555, 171, 2681, 2234, 3346, 5520, 5730, 4415, 5410, 1502, 1705, 5730, 4555, 6013, 2614], [5638, 2208, 1332, 2043, 2623, 3784, 258, 5379, 447, 2057, 5455, 2320, 461, 480, 1095], [4531, 3657, 4587, 2738, 3214, 5520, 3190, 576, 2738, 5824, 1381, 171, 5703, 2585, 5792, 1651, 4135, 5720, 4278], [1683, 4281, 4115, 4705, 3902, 3382, 2944, 1047, 2969, 4278, 1506, 4619, 3454, 4115, 402, 732, 1540, 5851, 4415, 4143, 5520, 1440], [1588, 3080, 4738, 5409, 1580, 1157, 5780, 3243, 4135, 5769, 1427, 4601, 5155, 624, 5780, 5368, 1429, 2557, 4135, 1332, 2454, 2807, 5368, 900, 4135, 2730, 3082], [1502, 4543, 4406, 3372, 4017, 273, 5911, 276, 3575, 4728, 4077, 237, 643, 3346, 171, 5761, 4217, 1024, 5769, 4045, 2991, 731, 4587], [2572, 4996, 3429, 3069, 699, 171, 4837, 3900, 1332, 1309], [2089, 5199, 1575, 5001, 5931, 950, 2226, 2807, 4621, 5077, 553, 2451], [3147, 346, 661, 4278, 12, 88, 346, 3688, 2664, 3755, 5001, 5730, 5341], [3481, 5851, 4595, 2357, 97, 5730, 125], [3683, 4214, 4135, 693, 3976, 1932, 4575, 2041, 3905, 1290, 5280, 171, 5075, 4135, 268, 2974, 4674, 3501, 898, 5730, 2988, 1197, 1429, 938, 5001], [229, 5780, 1203, 3372, 3822, 543, 3900, 5730, 3677, 426, 4038, 5499, 663, 1290, 2516, 2980], [167, 5549, 4135, 1358, 3575, 993, 5777, 3206, 171, 829, 5836, 4089, 5730, 934, 3776], [355, 2447, 5730, 174, 1142, 367, 2532, 5792, 203, 5216, 171, 1806, 249, 5769, 346, 5730, 1459, 2186, 1524, 1172, 3947, 1524, 1172, 1806], [2270, 3683, 1038, 3377, 4917, 731, 12, 3683, 2605, 295, 4135, 4481, 5730, 2968, 5183, 4135, 1290, 47, 3683, 4816, 2605, 898, 2670, 5001, 3976, 4227], [5921, 5897, 4135, 429, 1933, 4901, 898, 311, 1932, 5769, 1243, 4918, 1537, 5730, 4139, 4560, 3029], [2186, 2640, 1735, 290, 11, 4674, 3346, 1524, 5851, 1580, 2357, 1524, 11, 859, 2910, 3663, 4674, 859], [5504, 4893, 346, 2167, 3778, 3976, 1932, 619, 3098, 152, 3369], [2387, 1399, 2676, 3900, 2226, 2807, 4621, 169, 717, 2802], [1537, 3976, 1808, 1429, 5520, 2041, 3844, 4008, 4175, 898, 3009, 5476, 2807, 5591, 5476, 4135, 870, 3346, 5372, 5476], [3453, 632, 4627, 346, 1918, 5289, 4135, 1808, 2687, 724, 4627, 346, 1918, 5289, 4135, 5541, 4453, 4615, 3959, 1469, 4186], [2511, 5780, 5279, 4068, 3778, 731, 703, 4089, 5524], [5950, 4195, 2670, 4195, 5520, 2867, 1332, 5030, 3372, 2433, 3630, 3854, 2240, 5780, 6028, 1888, 1822, 5476, 2745, 2807, 4542], [2188, 3822, 2831, 3976, 4214, 2192, 5730, 88, 4816, 3601, 4724, 3976, 282, 2807, 3702], [3964, 731, 5379, 4568], [3673, 2186, 1038, 4260, 3630, 4135, 342, 5769, 2054, 2306, 1038, 3429, 1077, 4608, 4958, 629, 3630, 4135, 5076, 171, 1899, 525], [169, 3835, 2596, 4135, 3934, 3346, 5780, 4214, 5730, 1821], [4908, 2876, 5897, 4135, 4195, 699, 4940, 4996, 5600, 4413, 2187, 663, 3169, 3169, 3407, 386, 5792, 4023, 898, 4089, 5730, 2902], [1661, 2414, 2867, 5365, 5001, 5041, 4057], [3778, 1332, 1831, 2186, 1524, 5295, 5730, 2404, 5780, 4214, 4595, 4135, 589, 5075, 2351, 555, 4122, 4063, 525, 2080, 467], [3517, 1337, 4646], [5885, 4996, 5423], [3577, 5669, 2390, 2257, 729, 5227, 3212, 2109, 525, 2246], [5730, 4032, 4751, 1580, 663, 41, 88, 5780, 3454, 4089, 4627, 2612, 2295, 1332, 3238, 2915], [2831, 5836, 346, 4619, 525], [555, 5298, 3173, 5769, 3120, 2648, 4089, 4331, 2537, 2192, 3925, 4863, 2759, 5001, 5674, 2807, 1219, 5001, 2088, 2097, 5379], [3360, 744, 4981, 2041, 3035, 898, 2003, 1806, 3346, 4619, 4816, 4705, 3832, 5780, 2984, 5921, 4816, 2318, 5730, 2629, 5428, 4089, 5730, 1], [3968, 323, 5570, 5476, 1848, 2627, 2323, 3976, 3035, 4577, 1580, 4543, 2532, 2007, 1932, 171, 2895, 3900, 3340, 4646, 4737, 4641, 619, 3862, 323], [156, 4256, 4738, 3454, 4089, 619, 829, 2807, 297, 3292, 1844, 3900, 2733, 267, 5839], [5730, 1686, 384, 4135, 1128, 366, 5421, 2041, 346, 5122, 5769, 97, 2433, 3253, 938, 5001, 814, 2, 843, 4543], [3140, 2936, 1409, 3748, 5792, 1356, 2585, 4119, 5243, 1580, 1932, 1332, 2041, 2807, 1166, 1705], [1815, 5358, 4586, 4008, 1572, 2162, 5730, 5971, 2901, 5421, 4586, 4008, 4608, 4543, 4464, 2742, 5056, 409, 5970, 5290], [3016, 632, 468, 555, 5026, 1429, 5730, 3114, 5769, 3459, 5738, 345, 4180, 197], [3956, 4342, 2831, 5730, 997, 3630, 5520, 1932, 2054, 3225, 2857, 1612, 918, 5730, 4470, 314, 1537, 5780, 5375, 171, 3486, 4135, 646, 5780, 209, 3358], [2232, 6022, 4135, 4444, 5730, 4367, 5001, 5769, 2871, 955, 4737, 4641, 5730, 845, 2481, 41, 4756], [3165, 261, 1458, 4135, 5210, 4089, 5730, 2435, 5769, 5730, 2842, 246, 5947, 619, 4024, 2807, 5476, 2167], [5730, 411, 2289, 209, 124, 97, 3957, 1537, 4619, 5871, 2433, 4964, 4917, 1346], [3931, 5730, 4440, 346, 4135, 5813, 5730, 1242, 241, 5730, 3340, 3486, 4135, 3478, 5589, 5421, 5730, 3268, 4816, 5544], [2117, 5780, 5681, 2680, 5127, 4387, 5780, 5375, 171, 773, 3900, 171, 643, 5836, 439, 3346, 5780, 1848, 171, 2065, 3900, 1201, 663, 1840], [3612, 4492, 3346, 5730, 2488, 3900, 2192, 2429, 346, 3778, 5410, 898, 5565, 3572, 5101, 2807, 1351, 3692, 1913], [2827, 2915, 2664, 3047, 3454, 4619, 3844, 4342, 4851, 5001, 3976, 4619, 5529, 1580, 4077, 3372, 4687, 4135, 124, 2192, 810, 4089, 2859, 1352], [851, 5375, 171, 3496, 171, 1545, 3496, 429, 1580, 731, 2487, 4816, 1405, 839, 3496, 2965, 629, 5632, 1932, 171, 4248, 41, 4619, 5775], [3906, 5780, 1685, 171, 1374, 1878, 2807, 4738, 5992, 4089, 946, 1502, 1537, 3976, 4705, 2091, 4587, 5780, 5075, 5616], [2974, 1684, 1038, 5730, 906, 4042, 5769, 1808, 5206, 3575, 4135, 345, 3253, 6012, 2041, 2807, 366, 4135, 693, 3479, 225, 1942], [3429, 3348, 3718, 2192, 4019, 5001, 4362, 2807, 1670, 5869, 4135, 2992, 5730, 2676, 5869, 3402, 402, 1932, 171, 4555, 2683, 5127, 1932, 3786], [169, 5027, 843, 5792, 5364, 2585, 1537, 4738, 5871, 4089, 5730, 4509, 5691, 5730, 3722, 1510, 737, 5399], [2790, 1109, 1714, 5075, 1580, 171, 5575, 3346, 5780, 169, 4932, 1479, 3035, 4090, 2209, 346, 5716, 1932, 1093, 2724], [4451, 1164, 525, 4809, 4135, 5272, 3785, 3794], [3176, 1932, 171, 5703, 4738, 1718, 4587, 171, 3135, 5015, 4958, 5769, 4738, 3020, 4738, 5375, 171, 1605], [212, 4438, 3113, 3495, 5001, 3710, 5288, 731, 2192, 3429, 167, 5681, 5399], [1911, 2678, 3306, 3346, 1705, 5298, 4705, 2042, 1705, 5298, 53, 4705, 693, 5001, 6012, 3167, 5421, 4586, 3683, 1287, 4705, 2859, 2678], [2605, 4586, 5101, 2831, 3976, 2532, 2425, 4586, 5488, 5769, 4816, 1455, 3976, 4135, 5620, 4575, 2536, 1365, 198, 5705, 868, 5145], [1332, 1546, 5871, 5775, 553, 2867, 5730, 4907, 3900, 5730, 1247, 36, 3100, 5375, 2985, 5375, 171, 1259, 1459, 1932, 619, 5799, 3429, 3941, 3900], [3821, 2268, 3519, 1695, 5780, 2538, 1808, 1640, 2186, 1618, 4089, 5730, 1960, 3851, 5183, 1247, 637], [525, 1332, 2727, 5836, 5365, 3202, 3372, 4506], [1519, 3111, 4135, 4595, 4228, 3630, 4135, 4705, 3012, 5302, 2167, 2807, 5735, 553, 2585, 5792, 1705, 731, 3039, 4429, 1653, 2897], [5945, 629, 632, 2582, 1537, 3976, 4932, 3760, 5570, 171, 5349, 5001, 1907, 5278, 2284, 4917, 171, 4298, 2859, 4316], [4270, 386, 4586, 5780, 1808, 4115, 1572, 5679, 191, 4135, 5075, 3976, 4993, 4135, 2517, 1907, 528, 5780, 3429, 5758, 2295, 2419, 1582, 4115, 191, 5520, 5730, 4103], [5780, 2578, 3724, 1253, 4601, 1524, 797, 699, 3073, 2807, 4765, 4817, 2807, 1640, 619, 3449, 2295, 5730, 1891], [4794, 5780, 2410, 5769, 4738, 3454, 2433, 2612, 4019, 4089, 2192, 3900, 5730, 3149, 4738, 5375, 171, 1702, 3900, 4741, 3852, 5053, 3047, 3253], [2947, 3372, 129, 1524, 4816, 3206, 3614, 1290, 2110, 3900, 41, 1604, 2968, 1524, 3035, 5639, 5001, 346, 4135, 898, 4014, 4264], [3206, 4724, 1580, 593, 1932, 1332, 1088, 1160, 610, 610, 929], [2338, 3911, 936, 3783, 847, 5421, 3976, 2538, 898, 1658, 4917, 4575, 5361, 2126, 3521, 3976, 663, 5730, 4568], [5730, 4874, 5782, 5001, 5730, 5836, 1808, 1429, 1640, 5780, 399, 698, 4135, 1332, 5491, 4089, 171, 5399, 1790, 4917, 5203, 4256, 3067, 4077, 5742, 1276, 4543], [1332, 1696, 4007, 2605, 171, 5951, 3346, 2186, 4619, 346, 97, 2186, 5780, 1808, 4198, 3294, 5951, 5172, 2859, 1459, 5216, 4198, 4040, 4017], [254, 3035, 2294, 4688, 171, 3710, 3100, 346, 3130, 3900, 5730, 5399, 5730, 5756, 5937, 3900, 5541, 346, 2186, 2552, 1038, 3130, 3900, 5730, 824], [2951, 5769, 5871, 4737, 242, 583, 5730, 5308, 1696, 1157, 2329, 4993, 5520, 1576, 5730, 2475, 346, 1529], [183, 875, 2807, 5730, 2269, 2532, 3683, 5871, 2192, 2226, 4077, 4621, 5730, 5674, 4098, 346, 1502, 166, 4217, 3652], [126, 3235, 673, 346, 1290, 1855, 2974, 3569, 5298, 4932, 97, 517, 4135, 3478, 4307, 5274, 352, 663, 4897, 4307, 4327, 5421, 5578], [1313, 3022, 2056, 98, 1263, 3090, 4089, 1684, 1086, 2278, 4217, 3778, 2362], [4747, 4135, 377, 1217, 2858, 3784, 3346, 1816, 3454, 2433, 5632, 5780, 1848, 525, 2807, 3706], [3799, 3487, 5230, 4170, 5780, 1410, 4619, 3454, 12, 4738, 3584, 5775, 619, 1546, 2867, 1458, 241, 2588, 4066, 625], [5988, 346, 4619, 2192, 2226, 2807, 4621, 5780, 3340, 4214, 4135, 3632, 426, 2429, 3253, 2239], [1565, 937, 241, 386, 5871, 3863, 4135, 3312, 4879, 2807, 4705, 171, 256, 5769, 3683, 5216, 5769, 3486, 4619, 5508, 898, 5769, 4996], [5352, 4619, 3035, 2596, 1320, 3900, 4861, 2033, 3976, 65, 4705, 3995, 4619, 2807, 3829, 4619, 12, 97, 2433, 3630, 4135, 2390, 5421, 3976, 929, 3253], [2898, 4517, 4705, 4619, 2186, 1197, 2532, 2664, 4135, 2788, 2878, 1308, 1320, 4686, 2807, 525, 2174, 2555, 3976, 4705, 1996, 3346, 97, 2433, 2328, 3432], [3976, 169, 2357, 2974, 4135, 5964, 1580, 2186, 629, 5101, 5101, 5356, 1879], [3627, 5594, 5780, 4072, 643, 789, 757, 4260, 5871, 2433, 643, 3340, 1982, 5871, 3670], [3585, 1400, 1356, 5980, 2054, 5863, 4705, 3227, 4483, 2353, 694, 2492, 1123, 440, 207, 2192, 4135, 3575, 4627, 5169, 5379, 2948], [3372, 1502, 5172, 3253, 4313, 665, 4089, 1332, 2536, 286, 169, 3506, 5730, 4135, 1332, 2758, 1537, 5780, 3315, 3010, 5769, 1414, 5520, 812], [1169, 97, 171, 4267, 2807, 5399, 4521, 2670, 1502, 4347, 731, 88, 5001, 5362, 3490], [2831, 4586, 3976, 4442, 1038, 2433, 4092, 4468, 4135, 2357, 2831, 5172], [1537, 171, 117, 525, 4819, 4103, 2974, 5054, 4586, 1524, 1808, 4135, 5198, 6012, 525, 3311, 1157, 3976, 4464, 5001, 6012, 5984], [1791, 4202, 4586, 4619, 4135, 5298, 2120, 5792, 851, 3817, 1580, 2867, 5730, 5280, 4601, 5921, 1053, 5780, 2399, 4089, 5730, 1427, 6021], [386, 4202, 666, 5780, 2357, 1351, 2572, 4996, 4314], [5279, 171, 5585, 1052, 352, 5780, 2624, 32, 5751, 3466, 5780, 3429, 2269, 619, 4627, 4705, 4993, 4135, 1580, 2186, 629, 5101], [2301, 4260, 1808, 1502, 166, 4105, 5772, 4728, 4595, 3346, 3372, 2605, 3129, 5769, 4089, 2527, 171, 643, 5012, 5921, 5216, 4008, 1986, 2170], [2307, 4549, 5730, 1459, 346, 5730, 88, 4619, 555, 5723, 4135, 4586, 731, 3152, 97, 3630, 4135, 898, 4587, 3900, 1729, 2419, 632], [3398, 4135, 4932, 4863, 2807, 2433, 5851, 731, 2200, 3478, 1580, 2156], [1933, 5520, 2681, 1147, 4349, 699, 1932, 5769, 4918, 1705, 1332, 5331, 4089, 4955], [3357, 3844, 829, 5001, 5730, 1960], [2275, 125, 125, 5794], [2647, 5780, 4932, 5730, 1147, 696, 4319, 346, 188, 2807, 732, 5780, 4412, 3995, 3778, 5730, 3431, 5095, 3900, 5730, 345, 2807, 4932, 5871, 517], [1568, 169, 4412, 3883, 3340, 898, 5585, 5585, 1906, 662, 5780, 167, 5730, 5040, 4425, 1588, 3976], [4863, 3870, 5520, 2054, 4621, 1299, 2537], [2186, 629, 5520, 171, 4098, 2585, 97, 612, 3947, 3941, 2807, 3976, 1808, 2664, 3665, 2140, 3976, 1038, 260, 5545, 525, 618], [3966, 3429, 4586, 2831, 3976, 3035, 169, 4705, 1996, 937, 5751, 2377, 5001, 830, 4733, 4135, 693, 3976, 209, 693], [3940, 5919, 744, 989, 4175, 898, 1996, 4917, 1809, 3346, 1524, 3912, 1038, 12, 6012, 3934, 346, 1502, 2707], [1177, 4918, 1332, 85], [1502, 5780, 4281, 4135, 3905, 619, 88, 4135, 5101, 3575, 4256, 938, 3778, 5730, 1290, 4198, 1696, 4115, 191, 5056, 561, 3394, 3575, 4587, 619, 3183, 4135, 2962, 1608], [1394, 5673, 629, 5132, 171, 5589, 2525, 4575, 2173, 3340, 5101, 1825, 2357, 2831, 346, 3533, 5421, 1806, 5001, 4558], [2818, 1332, 2965, 88, 4089, 774, 1502, 3122, 4587, 5730, 4555, 2539, 3452, 5379, 3819], [2373, 493, 4089, 5582, 4415, 4089, 1723, 5074, 5780, 2470, 4135, 50], [4002, 1241, 269, 5780, 1808, 4135, 1351, 731, 5730, 36, 1932, 5730, 4918, 2495, 3695], [2585, 5780, 525, 1332, 1309, 4135, 3976, 4627, 4089, 5730, 5399, 4418, 5730, 5863, 4736], [97, 5399], [1283, 3867, 4335, 2670, 2807, 2664, 5664, 724, 555, 171, 519, 5419, 2912, 5001, 171, 640, 1718, 3833, 4619, 3778, 5932, 1520, 5421, 5534, 1520, 1537, 4619, 5571], [2302, 2848, 2433, 2585, 5379, 2585, 5730, 3494, 1980, 2892, 2262], [1726, 5871, 3047, 4135, 3632, 3253, 5730, 5655, 2807, 2974, 731, 346, 3072, 3976, 1848, 3683, 169, 5216, 4135, 3632, 1290, 4629, 3113, 1906, 3683], [2807, 1154, 1569, 4738, 4271, 5216, 1847, 410, 3346, 4738, 4271, 5703, 4816, 5730, 410, 284, 2565, 898, 3778, 5530], [2921, 5401, 3754, 5379, 731, 346, 2433, 201, 645, 3100, 624, 2538, 898, 1947, 4135, 1028, 5464, 1905, 3270, 2664, 4935], [3223, 909, 241, 4342], [97, 1332, 41, 4686, 3778, 2609, 3372, 1081, 898, 5379, 4135, 4724, 3346, 731, 4816, 4271, 898, 1332, 2965, 5891, 102, 2530, 3630, 2867, 2833], [1937, 3695, 261, 2664, 655, 4135, 3255, 3976, 3035, 2605, 277, 171, 5351, 3976, 2357], [1027, 5769, 346, 171, 5337, 3540, 171, 4918, 732, 5738, 4135, 4254], [3615, 4135, 5730, 5488, 174, 5520, 5730, 1481, 3100, 4243, 4089, 171, 5831, 2807, 5520, 5730, 2954], [5155, 5570, 1580, 1907, 155, 3900, 4575, 4713, 323, 2140, 261, 4608, 5851, 1580, 854, 5964, 323, 2140, 261, 4401, 4485, 323, 2140, 261, 4646, 5639], [3672, 5849, 732, 5730, 5801, 36, 4348, 3778, 557, 1932, 171, 3423, 258, 2150, 688, 1587, 4278, 663, 1580, 3346, 5780, 2732, 5027, 2501], [1907, 190, 1210, 2807, 5470, 1808, 4262, 543, 3778, 1, 1609, 4641, 4908, 1808, 3778, 1362, 5851, 5769, 1427, 4089], [5751, 4260, 4724, 676, 4089, 2857, 4342, 3856], [2210, 2803, 1332, 3080, 346, 2210, 171, 1424, 4856, 2916, 3976, 655, 171, 4936, 4881, 5421, 2664, 308, 783, 4089, 4575, 2543], [5249, 950, 3028, 346, 171, 3329, 3900, 171, 5121, 4676, 4135, 956, 5249, 950, 4261, 3628, 3206, 829], [2518, 1255, 3695, 3900, 3404, 5001, 5730, 2242, 3900, 179, 4429, 898, 1996, 5730, 1459, 346, 5730, 382, 3900, 5730, 4476], [2419, 5934, 2259, 5678, 1537, 5780, 4705, 3442, 699, 4917, 5730, 2975, 3961, 4089, 3750, 2276, 5646, 3553, 5852, 5172], [5730, 3116, 88, 5646, 346, 2003, 4441, 1932, 2192, 5730, 2226, 4077, 4621, 4089, 2114, 345, 2807, 5730, 5054, 5006, 4135, 345, 2271, 2653], [3623, 4822, 1502, 5214, 171, 3533, 164, 4089, 171, 5341, 5012, 5163, 1471, 3510, 2807, 5730, 978, 3812], [5216, 5620, 1297, 3182, 4575, 5541, 3035, 2390, 4089, 1320, 4174, 2807, 4851, 2186, 97, 5399, 4587, 5730, 2279, 346, 3284, 4454], [3746, 167, 3233, 1851, 2681, 5490, 307, 2624, 1572, 4135, 307, 1608, 4089, 171, 271, 1787, 88, 898, 4625, 5399, 732, 1011], [225, 3900, 88, 346, 225, 3900, 88, 525, 225, 88], [5730, 5062, 3900, 2974, 5780, 3955, 4575, 2548, 346, 4996], [2489, 1327, 3976, 1038, 3556, 605, 2412, 4033, 4816, 717, 1537, 3976, 5620, 4575, 1136, 5520, 903, 3575, 2807, 2145, 5216, 4119], [3302, 345, 555, 69, 3700, 4135, 5730, 4529, 3222, 4917, 529, 5730, 2541, 4547, 3976, 209, 4932, 5769, 5319, 5375, 5775, 4089, 1932, 2494], [2186, 3683, 1038, 380, 4077, 4089, 4646, 1290, 5152, 3080, 346, 747, 4816, 3905, 345, 4426, 4077, 1501, 4077, 5639, 4077, 3332, 1290, 2994, 4740, 3429, 1808, 4234, 4077, 810], [1429, 5632, 4089, 3421, 5557, 5185, 5001, 3995, 4115, 3700, 4543, 2807, 5780, 3340, 1281, 4587, 439, 2140, 3310, 4077, 5182, 346, 525], [3668, 3372, 2369, 4217, 3871, 4089, 4835, 3897, 5262, 4512, 40, 696, 4235, 40, 1723, 1781, 1780, 4762, 3668], [5287, 3393, 4811, 3900, 4307, 5580, 4019, 5021, 39, 3900, 5107, 346, 845, 2525, 871, 3261, 5411, 4816, 898, 5325], [5245, 1325, 210, 5520, 5730, 525, 569, 2216, 525, 2293], [2617, 3983, 3905, 1580, 171, 4024, 5832, 4816, 4730, 5780, 169, 5216, 5730, 3665, 3900, 3976, 2167, 2911], [5730, 174, 3100, 346, 171, 5575, 1157, 5679, 624, 3844, 166, 1537, 5792, 346, 1907, 2325, 2295, 4619, 5792, 624, 3844, 4782, 1956], [4853, 632, 5780, 1808, 4135, 2596, 4135, 3992, 4543, 169, 3433, 940, 4256, 3372, 1529, 1588, 4008, 5780, 5964, 3976], [578, 5936, 3625, 2387, 867, 1762, 4740, 4135, 4606, 2738, 4820, 2433, 3822, 5730, 5971, 1157, 3072, 171, 5172, 5682], [5976, 5953, 3172, 5001, 174, 1212, 3429, 5851, 5769, 1427, 4089], [2647, 4260, 4724, 3976, 3138, 4818, 5730, 5882, 4586, 2433, 5851, 4619, 823, 3976, 2664, 1320, 1595, 5001, 3533, 1062, 1837], [5780, 525, 1332, 1833, 795, 1608], [5752, 171, 963, 2946, 4738, 3863, 171, 5703, 1957, 5520, 619, 21, 2775, 5143, 2585, 5792, 5256, 619, 5730, 185, 171, 780, 2495, 5652], [1727, 194, 5780, 1848, 1677, 5769, 3683, 655, 4135, 3934, 1138, 4135, 5289, 731, 4996, 5716], [3577, 5669, 2390, 2257, 729, 5227, 3212, 2109, 2246], [5002, 243, 3893, 1705, 1458, 3166, 2389, 1273, 346, 2167, 2807, 5792, 4202, 2357, 386, 2456], [806, 4918, 590, 4217, 165, 4917, 5730, 4686, 731, 4686, 97, 1529, 171, 773, 4187, 2303, 230, 3029], [1008, 1008, 5447, 4460, 3818, 3879, 1489, 3683, 1808, 1971, 4188, 2433, 171, 973, 3900, 681, 4135, 2622], [1211, 5948, 5769, 3229, 5703, 1663, 2495, 1458, 2259, 4135, 5462, 439], [5780, 1808, 5172, 1198, 1932, 5730, 2151, 5769, 4548, 798, 4023, 5400, 2884, 708, 2953, 346, 3077], [1570, 3429, 5593, 171, 2459, 3900, 4861, 522, 2296, 5017, 167, 4017, 116, 4595, 1320, 175, 346, 2453, 5367, 5780, 5375, 1320, 1906, 2548, 2059], [5944, 2259, 88, 3683, 589, 171, 2549, 2902, 2970, 3900, 5730, 4712, 653, 1012, 2738, 4078, 699, 4632, 2867, 4278, 2488, 3275, 4135, 4139, 3575, 5730, 3702, 723], [5521, 3844, 3688, 4135, 898, 2167, 5001, 1502, 5054], [171, 91, 3206, 4560, 97, 3638, 525], [4089, 655, 3900, 171, 5172, 3183, 2202], [2355, 971, 1166, 397, 5730, 3670, 4621, 5646, 4513, 4135, 159, 5730, 2435, 97, 4269, 2433, 5586, 3346, 4089, 5730, 2234], [5969, 2807, 3100, 3863, 3976, 4135, 4503, 2749, 1932, 4575, 5993, 143, 2186, 5101, 4260, 1038, 5961, 171, 4353, 2817], [171, 5575, 346, 5921, 3100, 2186, 560, 3252, 2438, 3253, 5730, 3327], [5233, 5917, 867, 2387, 3976, 2624, 898, 5172, 731, 174, 3860, 2664, 1065, 3340, 4089, 4343, 3208], [1443, 1458, 3844, 3706, 4135, 4074, 1907, 607, 411, 1637, 1172, 5780, 3035, 4939, 1608, 1332, 190, 3900, 1346, 555, 3768, 5724], [5434, 4619, 346, 133, 4135, 898, 5399, 2807, 1578, 2737], [731, 2706, 707, 4089, 4756, 3056, 3429, 2857, 5522, 171, 113, 4135, 5268, 699, 2738, 1427], [241, 1580, 5001, 5730, 2265, 2737, 3486, 3844, 4224, 4135, 893, 2054, 699, 3281, 1090, 2370, 5751, 5172, 1979], [3238, 482, 5780, 4608, 1251, 3253, 5203, 1320, 829, 758, 4894, 2354], [532, 1705, 939, 2654, 5554, 53, 4069, 5298, 5421, 1705, 5792, 3429, 3255, 4019, 667, 4298, 4938], [4048, 5518, 171, 2449, 1984, 5444, 5730, 4665, 3167], [5913, 261, 2664, 4120, 3832, 1537, 4008, 2624, 4939, 3778, 266, 5421, 4246, 732, 4008, 1038, 5101, 5001, 5756, 2664, 4861, 2033, 3253, 4619], [5255, 2643, 3031, 3900, 3711, 346, 2647, 3460, 2186, 3976, 4, 717, 3976, 1038, 5564, 5001, 1502, 2283, 1906, 615, 2508, 3063], [2184, 4135, 2823, 5001, 5985, 1624, 5792, 4007, 5372, 5730, 2902, 1502, 5792, 4097, 3449, 3683, 1808, 5192, 4135, 717, 1854, 3995, 3604], [4260, 4214, 1580, 4135, 2596, 3449, 2791, 5761, 2574, 5421, 4452, 4687, 4135, 4932, 3253, 1126, 3346, 5780, 3835, 4602, 3778, 5013, 1880, 174], [2393, 2732, 898, 5172, 1932, 5769, 214, 744, 2807, 5769, 4396, 2761, 1375, 5792, 4805, 5368, 1429, 3832, 4135, 3429, 3010, 2434], [4717, 652, 3429, 2917, 1654, 3976, 1427], [2664, 3149, 439, 1124, 430, 4627, 3454, 171, 4112, 3684, 3683, 4816, 3280, 1795, 525, 430, 4980, 4213], [3685, 2831, 171, 1334, 1555], [3162, 1458, 5769, 1653, 1502, 166, 4089, 5730, 4221, 4089, 686, 3900, 1580, 4543, 2807, 2433, 171, 518, 1112, 3900, 823, 3021, 2701], [3372, 4506, 1932, 4575, 2720, 125, 2892, 841, 1251, 2761, 5520, 4135, 5730, 5322], [5871, 54, 4089, 1332, 54, 4509, 4681, 1107, 1116, 850, 4908, 1967, 3526, 4586, 3976, 3276, 3346, 1118, 346, 1166, 2187, 4924, 3778, 4768, 1520], [4619, 346, 171, 4542, 6013, 2807, 2664, 1259, 3516, 4089, 5730, 5151, 4135, 1172, 1749, 4722, 1610, 4256, 1051, 3778, 5730, 4922, 1246, 2016, 5403], [4584, 3568, 2974, 4586, 5780, 2877, 1332, 589, 126, 5520, 4555, 4914, 17, 4732, 525], [4586, 2433, 477, 5341, 4089, 5576, 3533, 5730, 2490, 1038, 3832, 4641, 2050, 2956, 1994], [545, 555, 1429, 2892, 5500, 3900, 731, 5696, 5851, 5769, 1427, 4089], [5348, 5492, 526, 4334, 5780, 4932, 5792, 3454, 5078, 5769, 3449, 3607, 1524, 4247, 5001, 217, 675], [1081, 898, 171, 5159, 4174, 2585, 171, 1070, 4455, 29, 4641, 1936, 2807, 241], [5773, 2681, 3731, 3784, 293, 1630], [3429, 1822, 1580, 2721, 4627, 3454, 171, 2854, 4619, 209, 898, 4115, 4073, 711, 4089, 4374, 2760, 5578, 619, 4989, 261, 4861, 4073, 4374, 711, 5172], [3733, 4879, 4135, 429, 4089, 4575, 4297, 1332, 5527, 732, 65, 3486, 2434, 5780, 2532, 1153, 3454, 3253, 5083, 4008, 4296, 4619, 4627, 3288], [3046, 5466, 1537, 4575, 2548, 624, 2974, 5399, 4575, 3916, 3035, 2782, 4135, 342, 2974, 166, 3900, 171, 1272, 2584, 346, 5228, 2807, 3074, 5886], [2897, 3434, 1539, 5113, 2807, 5172], [4252, 1640, 1580, 4939, 5769, 5145, 4089, 171, 4541, 3900, 460, 3486], [3346, 2186, 4619, 4195, 4135, 171, 5172, 2200, 5780, 898, 1881, 5780, 5346, 4619, 2467, 1410, 1603], [2192, 731, 2226, 2807, 4621, 3683, 702, 663, 2485, 589, 1608, 2807, 3340, 4262, 4861, 731, 88, 179, 1524, 3152, 171, 623, 2900, 5520, 356, 5001, 1580], [1954, 3167, 150, 1038, 5730, 5897, 4429, 2203, 5730, 3696, 1702, 2972], [5991, 2992, 5387, 5730, 400, 765, 4089, 5635, 4700, 2046, 1580, 553, 4731, 4447, 3533, 5172, 4484, 3861], [5730, 2444, 3900, 171, 3387, 171, 4001, 913, 5316, 5491, 5316, 3648, 5316, 3100, 1640, 5983, 3900, 3976, 4034, 4135, 3603, 5499, 4877, 5636], [5216, 136, 775, 4259, 4619, 2868, 5775, 4089, 5769, 4619, 3454, 5730, 5716, 1680, 3346, 5780, 1166, 450, 2573, 4958, 4619, 4619, 3429, 311], [3372, 4780, 3976, 592, 5780, 2357, 3976, 3049, 3449, 5001, 171, 5873, 528, 4303, 106, 2807, 5962, 4457, 5909], [5751, 5538, 2092, 4135, 4582, 1580, 4471], [2785, 5780, 5279, 3361, 884, 1932, 4619, 5730, 5585, 1410, 3900, 6012, 1691, 2914, 1580, 1848, 5127, 1370, 2807, 5496, 2211, 1139], [169, 4705, 1996, 2186, 1701, 5861, 169, 1172, 4575, 4208], [1463, 4586, 2433, 477, 5341, 4089, 5576, 3533, 1994], [2180, 721, 3340, 1537, 3976, 4816, 4959, 5001, 4595, 2807, 3976, 4816, 898, 5564, 5001, 4595, 2807, 6012, 680, 5101, 5756, 5853], [3372, 3844, 5101, 88, 4135, 4705, 1414, 3324], [5780, 169, 4214, 2592, 97, 3844, 3397, 2807, 829], [2769, 5306, 795, 1763, 3976, 4924], [3289, 2231, 4586, 3976, 5681, 1808, 4135, 3124, 5216, 171, 4082, 4135, 4705, 3854, 5780, 4848, 4619, 3113, 4217, 4582], [1387, 1302, 2605, 5992, 4089, 5730, 2598, 4369, 5020, 4543, 97, 3429, 171, 852, 4135, 142, 4217, 5539, 4369, 5582, 88], [3543, 1038, 3702, 1963, 5667, 296, 4412, 3248, 1130, 1524, 1038, 5730, 2592, 2150, 3900, 4592, 5780, 5683, 731, 912], [4205, 3544, 1012, 2192, 5730, 1547, 3350, 4679, 5520, 4985, 3285, 4135, 3255, 2186, 5551, 2985, 357, 171, 5672, 544], [2416, 4816, 731, 898, 3930, 5520, 4808, 5421, 4424, 3050, 3900, 4312, 3995, 5730, 2427, 3844, 3800, 525], [4627, 1038, 5172, 1402, 4089, 5137, 3042, 1453], [663, 2831, 5780, 2357, 3900, 5730, 174, 5780, 1808, 4135, 3081, 5769, 2387, 555, 5375, 171, 1280, 4397, 1932, 2738, 5596, 5211], [4580, 1933, 4687, 5730, 1715, 1932, 171, 4918, 4960, 3029], [2371, 2524, 2831, 399, 3683, 4586, 731, 418, 2336, 4089, 3041, 1932, 319, 3950, 2863, 4924, 4077, 1367], [4088, 4586, 3683, 4932, 5730, 2709, 2807, 990, 1808, 1529, 1660, 400, 3254, 5495, 2433, 5690, 2530, 1560], [926, 2974, 2538, 5780, 3934, 1932, 3259, 5172], [1703, 5598, 5780, 1822, 3449, 5780, 3315, 4214, 4619, 1502, 5780, 3315, 1808, 4135, 1808, 4619], [386, 346, 4619, 5769, 3683, 5785, 3778, 171, 60, 2807, 823, 3778, 171, 1831, 4619, 346, 12, 3683, 1038, 2433, 5730, 352, 2039, 1322, 3945, 1956], [4543, 1524, 4924, 3253, 375, 347, 814, 375, 4673, 4089, 5001, 171, 4103, 5780, 3035, 4247, 1628, 831, 5421, 4444, 4089, 171, 4920, 4307, 5836], [1502, 3878, 1469, 3900, 345, 644, 4089, 4025, 1808, 2664, 4201, 2140, 346, 5730, 2445, 2326, 1553, 3400, 525, 2938], [329, 937, 5792, 5375, 371, 5655, 2433, 5769, 5780, 2357, 3435, 1199, 2527, 1907, 3167, 2664, 3486, 5234], [322, 5001, 5730, 2429, 3683, 2495, 3035, 898, 1382, 4917, 88, 4619, 346, 322, 5001, 5730, 2429, 3683, 2495, 2433, 4586, 5769, 346, 4068, 4073, 3661, 962], [135, 2974, 4135, 4247, 2859, 525], [4709, 2229, 4406, 1524, 1281, 5769, 5259, 1038, 3486, 4217, 900, 4641, 1010, 2807, 188, 401, 3695, 1524, 1410, 5289], [4340, 5709, 2807, 5780, 5720, 3575, 4135, 171, 3067, 4340, 1917, 2807, 986, 5198, 5187, 4939, 2807, 4939], [2894, 2572, 4996, 5326, 400], [2605, 1059, 1821, 663, 171, 5575, 5792, 290, 227, 4619, 4993], [5522, 2585, 171, 922, 4089, 731, 2826, 1303, 2099, 5001, 4543, 2470, 2433, 4135, 4924, 2807, 3880, 2585, 1537, 2434, 346, 1497, 731, 346, 171, 1562, 3338], [2335, 795, 328, 4174, 3683, 209, 4705, 3795, 845, 5001, 3934, 3312, 5792, 3454, 619, 5215, 2807, 3976, 2357, 2831, 562, 2259, 3004], [4089, 5172, 655, 3900, 171, 3183], [5661, 2016, 2664, 1459, 5780, 3429, 5053, 5216, 1275, 12, 5780, 5053, 5730, 2975, 1157, 2807, 5780, 4214, 3976, 4135, 1294, 4619, 2807, 2433, 898, 1996], [3266, 5780, 1868, 5730, 2965, 271, 4387, 3900, 4172, 1983, 4441, 732, 4619, 167, 543, 4441, 3346, 5780, 5992, 5001, 5730, 5440], [5780, 169, 2357, 386, 870, 346, 967, 4135, 898, 5379, 3253, 3354, 2807, 212, 870, 624, 2738, 5993, 2761, 1302, 5992, 1932, 1001], [821, 5153, 3449, 860, 712, 5716, 201], [3206, 4229, 3575, 5992, 553, 731, 5730, 2975, 352, 2530, 5836, 1320], [4586, 2433, 477, 5341, 3900, 5576, 3533, 171, 2792, 3610, 2956, 855, 1994, 2656, 4535], [2807, 1932, 4898, 2821, 2738, 4211, 1378, 2205], [5780, 1822, 1332, 161, 3372, 2670, 5001, 171, 3533, 88, 2433, 171, 5054, 88, 2186, 5792, 5938, 1332, 5935, 2807, 724, 1608, 5780, 1808, 3381, 171, 2465], [3093, 820, 3372, 3778, 2786, 2807, 3429, 5608, 4323, 5421, 4217, 125, 2807, 2433, 1320, 3454, 3995, 3230, 2140, 3976, 3822, 4575, 125], [2965, 418, 3900, 1652, 1718, 1172, 1537, 5780, 3035, 4602, 5962, 4135, 731, 1208, 4084, 3269, 1851, 5101, 2190, 2309, 3659], [5751, 4260, 2419, 948, 3253, 4799, 1776, 4705, 5751, 5399, 4732, 4135, 2596, 1932, 921, 2415, 2147], [3260, 935, 2585, 661, 2585, 5780, 2357, 3454, 619, 829, 5404, 4627, 1038, 1166, 3827, 3242, 663, 4619, 5216, 5780, 2532], [5456, 4151, 2664, 125], [4089, 5730, 5669, 3900, 1290, 5155, 4077, 2835, 3099, 3683, 5787, 2883, 2192, 4030, 2001, 5730, 679, 1290, 4542, 2754, 2807, 4485, 4080, 5429], [2583, 1524, 3010, 3976, 3810, 2831, 3976, 1172, 937, 5780, 4175, 898, 171, 5575, 3346, 5780, 169, 3835, 814, 4307, 1563, 795, 2624, 1572, 4135, 3830], [5908, 386, 3449, 1896, 2121, 1580, 754, 1038, 1772, 1330, 346, 2433, 4224, 2807, 1502, 5520], [5471, 347, 4412, 4132, 4135, 4619, 598, 5001, 3050, 3900, 5441, 2807, 460, 203, 2867, 5903, 5405], [3362, 2616, 4089, 731, 4509, 3903, 97, 1429, 5399, 2192, 5730, 88, 4543, 5730, 1898, 346, 5520, 1756, 2616], [2116, 1332, 1309, 12, 3976, 2269, 1580, 5001, 1502, 5054, 2639, 4918, 3346, 4619, 2220, 4135, 171, 1307, 3429, 656, 2664, 3372, 2323], [497, 4109, 169, 898, 5379, 2526, 3533, 4756, 3920, 3504, 4157], [4300, 1592, 1156, 5927, 1688, 3549, 1103, 1149, 3550, 1592, 5818, 2391, 5101, 4671, 4986, 1413], [4217, 4293, 3778, 3934, 2829, 1274, 2807, 4543, 97, 553, 4135, 5751, 5172, 1083, 1314, 4481, 5520, 2398], [1953, 1594, 3900, 5730, 4295, 4089, 731, 2327, 5780, 1640, 5775, 4135, 5730, 5664, 1502, 3372, 974, 4295, 1932, 171, 5672, 773, 3900, 4777, 2327], [3078, 5780, 3429, 1808, 5172, 2729, 5001, 4307, 174, 5769, 3035, 3574, 699, 171, 1218, 3832, 4641, 5780, 3035, 5216, 937, 1524, 3035, 1455, 1580, 6012, 2033], [5060, 2807, 1523, 346, 171, 829, 4574, 5001, 171, 4312, 5121, 4214, 4217, 1485, 5216, 2071, 5423, 994, 2807, 3094], [555, 5298, 3173, 5769, 3120, 2648, 4089, 4331, 2537, 2192, 3925, 4863, 2759, 5001, 5674, 2807, 1219, 5001, 2088, 2097], [2664, 2003, 1356, 2974, 2093, 5617, 5992, 5520, 5730, 272, 4627], [3646, 3372, 400, 2537, 5101, 169, 3835, 599, 4619], [5780, 3835, 1172, 3976, 4226, 5780, 169, 3835, 1172, 3976, 5570, 171, 5703], [678, 5792, 2741, 2738, 5928, 3454, 1658, 3346], [4302, 5520, 2023, 3419, 5775, 4089], [5326, 400, 3900, 2572, 4996, 346, 5520, 6005, 1332, 4306, 346, 5772], [4586, 2433, 477, 5341, 4089, 5576, 1050], [862, 3683, 169, 227, 63, 4135, 898, 2591, 4077, 3478, 4619, 97, 5681, 3253, 2974, 5871, 3215, 1290, 1929], [795, 231, 3454, 3429, 263, 5730, 3043, 3664, 5347, 5520, 3837, 4058, 5172], [42, 5359, 2807, 212, 4438, 5213, 741, 5992, 2671, 2269, 581, 5964, 3484, 291, 4585, 1489, 1729, 4177, 1349], [1654, 5520, 1332, 5572, 4402, 954, 898, 4713, 2186, 3976, 1038, 4506, 5802, 4575, 5341, 5331, 4135, 3755, 169, 3976, 2085, 2664, 4217, 1643], [2243, 5449, 4077, 5780, 5992, 4089, 4372, 2192, 5836, 3844, 795, 163], [5001, 1469, 3900, 3976, 3100, 5780, 1808, 2300, 3900, 3346, 4766, 5570, 4619, 2867, 731, 3849, 4705, 1996, 5780, 1587, 4587, 3900, 4509, 5520, 5730, 3387, 731, 4686], [3850, 97, 3181, 4271, 5769, 5792, 4202, 2479, 27, 3768, 2192, 5730, 2401, 5775], [988, 1332, 2599, 2331, 3497, 1320, 543, 6013, 4135, 4924, 3253], [5460, 2113, 4609, 4014, 4094, 1718, 2433, 4444, 1290, 589, 2807, 814, 4619, 4135, 4595, 1932, 171, 4029, 3774, 4587, 4627, 3874, 125], [1970, 554, 5730, 2269, 555, 1429, 4626, 1502, 5054, 2079, 525, 6012, 2822, 4112], [4555, 256, 3908, 3844, 166, 3633, 974, 1241, 3695, 4271, 167, 1379, 4135, 3775, 5001, 95, 3429, 655, 171, 2401, 1946, 5101], [1537, 3976, 5101, 3832, 1196, 4014, 3144, 5421, 1537, 4008, 169, 2084, 196, 3832, 609, 4014, 2871, 650], [3429, 5094, 5730, 259, 4647, 5520, 2008, 5172], [3168, 5780, 169, 655, 171, 2842, 3346, 4045, 539, 5570, 171, 2735, 4135, 693, 4089, 4136, 5669, 346, 4619, 1601, 5552, 2644, 5421, 2965, 5737, 3340, 5172], [5101, 5541], [655, 4135, 5535, 4003, 1793, 2797, 5546, 3656, 378, 525, 3969, 518, 2552, 4003, 5485], [379, 1518, 4390, 348, 3552, 898, 5730, 4918, 3900, 171, 2787, 5463, 2334], [5375, 171, 3742, 41, 4756, 5769, 1792, 3179, 2983, 171, 5581, 1728, 3253, 4203, 2807, 2550, 8, 5780, 3330, 4619, 2965, 5974, 5399], [5780, 167, 171, 3688, 1900, 2186, 3372, 5101], [2419, 5934, 2259, 5678, 1537, 5780, 4705, 3442, 699, 4917, 5730, 2975, 3961, 4089, 3750, 2276, 5646, 3553, 5852], [3206, 5851, 1580, 1172, 3976, 5703], [3769, 1590, 4135, 5730, 5399, 2106], [5516, 3272, 5520, 5730, 5915, 3448, 25, 472, 125, 2460], [1794, 3472, 2680, 5730, 4621, 4838, 287], [237, 3835, 3429, 2623, 171, 2599, 2807, 3667, 3835, 628, 5954, 618, 5172], [441, 481, 4587, 5001, 5730, 1702, 4737, 4641, 3255, 3372, 3630, 4135, 5376, 5001, 1907, 5016, 663, 5730, 3874, 622, 1171, 3734, 879, 4077, 1889], [5780, 655, 171, 4102, 4981, 4135, 1351, 5780, 851, 1808, 2434, 4135, 1351, 4993, 4135, 4993, 5780, 2419, 2568, 998, 525, 433, 2017, 207, 207], [5179, 5730, 3885, 5375, 171, 3533, 1320, 3346, 732, 5730, 5812, 5857], [5603, 2700, 4913, 5895, 586, 2807, 3863, 2831, 1537, 5780, 4705, 171, 4598, 4089, 1320, 4864], [3014, 5780, 3501, 898, 510, 3346, 5780, 2684, 5775, 5769, 3868, 724, 2021], [1447, 1038, 1469, 3100, 5198, 5001, 1524, 4816, 898, 1248, 4165, 5200, 3502], [1904, 1524, 5871, 92, 4994, 1524, 1640, 1580, 1848, 1967, 829, 2433, 4991, 1320, 2807, 386, 2664, 3277, 1557, 404, 1808, 4135, 4586, 3239, 163], [2186, 3316, 1780, 3136, 731, 5836, 346, 3391, 4135, 1290, 5155, 4586, 2433, 823, 5001, 5730, 1501, 3900, 5730, 5155, 346, 4575, 4426, 5276, 5727, 444, 1501], [635, 323, 5999, 4089, 171, 4541, 3900, 1588, 3976, 1157, 4764, 2738, 5596, 4830, 4278, 663, 5476, 1157, 2167, 3778, 3650, 2585, 5792, 3865, 4135, 323], [1718, 4705, 5488, 2807, 429, 5582, 4415, 2429, 5871, 3130, 4135, 3010, 2186, 5871, 5101], [3481, 5851, 4595, 2357, 97, 5730], [1364, 1138, 5999, 82, 619, 4274, 3548, 1829, 4239, 5778, 3156, 4851, 460, 5769, 209, 3340, 4705, 3976], [4767, 3242, 900, 79, 1580, 2197, 3116, 787, 3653, 4474, 4732, 771, 4767, 125, 420], [1429, 5632, 4089, 3421, 5557, 5185, 5001, 3995, 4115, 3700, 4543, 2807, 5780, 3340, 1281, 4587, 439, 2140, 3310, 4077, 5182, 346], [3331, 3346, 731, 1705, 2433, 5197, 5216, 171, 5172, 3756, 4601, 2836, 5730, 2930, 88, 3429, 4991, 3652], [4563, 4694, 1241, 2711, 537, 1038, 5605, 2807, 5730, 5514, 1038, 829, 1502, 5769, 1524, 3035, 2714, 4089, 4135, 6012, 3313], [1332, 5669, 346, 3690, 3954, 2807, 3976, 2624, 429, 1580, 2831, 5780, 3035, 2807, 2624, 4586, 525, 4620], [4730, 3182, 590, 2018, 1599, 3900, 3449, 5236], [5780, 5466, 2974, 171, 3496, 3035, 5386, 2738, 5211, 4256, 4991, 291, 5172], [4862, 5001, 3751, 2141, 171, 4621, 209, 1120, 4614, 3777, 3008, 2807, 2141, 171, 5670, 209, 1120, 3558], [5105, 1401, 3683, 5197, 5216, 4185, 4958, 3683, 3835, 1427, 1290, 1546, 2867, 5730, 5764, 3675, 2807, 6012, 130, 4710], [5780, 5964, 5730, 411, 4924, 1502, 166, 2807, 3372, 4089, 2499], [5976, 5953, 5976, 5953, 1851, 553, 5730, 1438, 4666, 4917, 5730, 125, 5416, 4917, 5730, 1492], [1038, 3976, 5172], [2818, 1332, 2965, 88, 4089, 774, 1502, 3122, 4587, 5730, 4555, 2539, 3452, 3819], [1315, 2131, 1225, 5780, 3454, 4991, 2009, 2186, 5780, 5690, 731, 5780, 692, 1332, 5684, 4089, 5730, 1427], [5194, 3900, 5751, 1785, 2332, 3346, 5780, 2470, 4135, 3478, 4619], [1627, 4033, 4586, 2433, 477, 5341, 3900, 5576, 3533, 855, 1994], [848, 346, 2433, 171, 4455, 3900, 5730, 3387, 5586, 3346, 241, 2433, 4135, 3478, 3713, 4415, 4744, 787, 3730], [4699, 3831, 5780, 3035, 3340, 4176, 5730, 5703, 2001, 5769, 3369, 3900, 3697, 448], [3858, 171, 1841, 4417, 4135, 5730, 5575, 346, 171, 572, 2048, 4135, 5730, 2325], [1486, 145, 3372, 5172, 5339], [4586, 2433, 898, 1996, 4917, 171, 3491, 4770, 1897, 731, 4816, 78, 4575, 1083, 3924, 2807, 1623, 4866, 2807, 5583, 2586], [2186, 3976, 4705, 525, 4089, 171, 2213, 2807, 1808, 4135, 4247, 5730, 2468, 5520, 4575, 4103, 4135, 2877, 4575, 3486, 4587, 525, 393, 4925], [5415, 3181, 408, 3454, 5172, 2807, 171, 773, 5399, 1434, 346, 5216, 1085, 1363, 2807, 4009, 2806, 4135, 171, 3271], [1866, 5639, 870, 5769, 5897, 4135, 2877, 1592, 3035, 2807, 5769, 1290, 4198, 4602, 5101, 731, 418, 1261, 5156], [4130, 97, 167, 619, 5761, 4918], [5725, 4619, 4202, 4995, 2807, 4619, 4202, 4705, 829, 5860, 1529, 898, 5735, 2592, 5730, 2930, 88, 996, 1524, 1529, 898, 5822, 4587, 2948], [4619, 3315, 837, 1580, 3346, 4619, 3315, 4617, 1580], [5719, 2433, 4924, 1537, 3976, 1038, 2433, 3465, 2567, 3100, 498, 1580, 2193, 4505, 4943, 3485], [5730, 5575, 2438, 3253, 5730, 4139, 5730, 2325, 2394, 4619, 4135, 2390, 5730, 5271, 2849, 5730, 5092, 5776, 2934, 1331], [3511, 5780, 5375, 171, 4210, 376, 1698, 1124, 2329, 1332, 1599, 3823, 2106, 5841, 2251, 4005, 525, 2102], [5780, 69, 2482, 1606, 5520, 1511, 3346, 5792, 3429, 2442, 2192, 3900, 2738, 88, 5520, 5730, 4472, 5399, 3916, 4441], [2974, 166, 88, 4023, 5780, 3905, 4135, 1332, 117, 3100, 525, 2738, 2400, 4135, 5198, 1157, 5780, 3035, 4464, 5476, 4135, 3905, 1580, 2738, 2400, 1909, 2807, 4366, 5084], [5780, 2624, 814, 4008, 5172, 3872, 4008, 4247, 236], [4993, 4135, 1444, 5440, 4279, 1332, 1444, 4732, 4981, 2000, 5399, 4369, 5659, 2123], [3608, 619, 4363, 5992, 1740, 4135, 5730, 4189, 2433, 5849, 4278, 5001, 940], [5329, 3501, 2647, 898, 777, 3346, 4335, 346, 2605, 3051, 412, 5650, 5706], [788, 5964, 5634, 1320, 1383, 5775, 2738, 2930, 343, 5001, 327, 908, 2347, 171, 518, 5517, 724, 878, 3900, 1290, 9], [5769, 1696, 5520, 1073, 4007, 4089, 171, 1444, 97, 4089, 171, 5975, 5019, 3449, 4552], [4232, 346, 3125, 5837, 1932, 2729, 4135, 3761, 3539, 4116, 4089, 3770, 5730, 4366, 188, 1500, 4135, 5699], [643, 6025, 5741, 1580, 4089, 5730, 2968, 570], [805, 3863, 1537, 5780, 3454, 3844, 1912, 4135, 1973, 439, 5761, 1705, 5792, 2357, 5780, 5992, 5101, 41, 4756, 1502, 5780, 2538, 4705, 1414, 3324, 3784, 208], [5730, 1875, 83, 2262, 421, 1457, 439, 4619, 4771, 1332, 3535, 2078, 3739, 1309, 2867, 171, 188, 603, 6033, 424, 5780, 5279, 2855, 5496], [726, 4165, 587, 3900, 1332, 484, 1792, 3449, 3622, 5780, 5964, 726, 4217, 4641, 940, 5200, 3211, 2196, 3710, 5780, 4816, 664, 5298, 3100, 4496, 619], [2178, 5828, 2807, 1572, 5001, 1201, 5730, 3755, 3900, 345, 3429, 4705, 3575, 2807, 2596, 4135, 3934, 4158, 520, 4644, 5172, 4836], [3150, 5780, 5992, 3778, 171, 3359, 3100, 1969, 3804, 3909, 4135, 814, 5520, 5730, 51, 2472, 2452, 2101, 5360], [3938, 5948, 5769, 5703, 5640, 553], [5555, 4341, 5730, 2958, 3974, 5206, 619, 4363, 2807, 54, 3575, 2114, 4427, 4738, 3315, 227, 3778, 2192, 4135, 1172, 5921, 4019, 2807, 3076], [3378, 1502, 2211, 125, 1038, 517, 1038, 1492, 517, 2585, 3695, 4263, 3645, 3856, 209, 2433], [5702, 2843, 2978, 1864, 5399, 5251, 645, 4312, 5842, 4575, 5836, 4489, 2807, 4045, 2832], [3088, 4816, 898, 2892, 4089, 5730, 3866, 1988, 301, 731, 54, 4729, 4612, 125, 3720, 5830, 720], [1241, 3498, 3372, 406, 731, 1515, 5836, 97, 171, 5331, 553, 4992, 270, 5520, 4077, 4705, 525, 4089, 4575, 3870, 3178, 3900, 5836, 363, 2800, 4369, 142, 462], [2664, 1320, 4249, 4135, 717, 5730, 3336, 1160, 12, 3976, 1808, 4135, 589, 5730, 5133, 5520, 5730, 51], [4753, 5730, 125, 346, 5730, 1849, 5730, 3755, 346, 5730, 52], [3695, 5780, 2495, 3632, 3584, 1157, 5769, 5029, 1038, 790, 4135, 2552, 5769, 4412, 5216, 6012, 805, 144], [5730, 2206, 3900, 5964, 346, 2433, 1177, 5421, 2341, 97, 5730, 88, 1058, 2230, 4619, 877, 2780], [125, 1932, 1959, 1432, 4077, 1373, 4815, 3555, 2881, 959, 125, 5371, 2439], [94, 5001, 5172, 3352, 2192, 3886, 101, 3253, 385, 5421, 49, 4816, 898, 3890], [2907, 4718, 932, 1388, 121, 1187, 889, 4077, 1792, 3344, 125, 2173, 5513, 1585, 2923, 5767], [3096, 4266, 4041, 125, 4077, 6033, 4973, 663, 5730, 5191, 2173, 4077, 5361, 1009, 3554, 4680], [3944, 4695, 2807, 171, 3533, 2623, 5520, 171, 5086, 5836, 3100, 3035, 3387, 5769], [2647, 5780, 2624, 5706, 1876, 1640, 4619, 731, 890, 2537, 5780, 5893, 4587, 1332, 1174, 4165, 167, 5101, 3305, 4165, 4546, 3087, 346, 4115], [2192, 1658, 4375, 4320, 1762, 171, 5698, 2970, 2787, 2409, 4115, 16, 3528], [135, 4135, 810, 3080, 3035, 2745, 171, 13, 4077, 3757, 1309, 4481, 4713, 4135, 171, 5341, 2173, 4077, 580, 5730, 2304, 5769, 3550, 346], [171, 5575, 4554, 5730, 2566, 4089, 485, 560, 1907, 2325, 4554, 5730, 560, 4089, 485, 2566, 198, 1810, 4231, 1797, 5145], [3262, 2594, 3900, 5730, 3449], [2054, 5822, 2761, 547, 1929, 4406, 5780, 2624, 814, 4595, 5172], [898, 3347, 4077, 2873, 4586, 2433, 898, 1318, 5421, 1996, 5001, 5730, 5155, 4575, 3080, 4816, 898, 1932, 3976, 933, 3976, 2596], [5851, 5730, 1531, 387, 858, 5887, 1162, 5399], [2034, 3372, 4089, 171, 2401, 1932, 171, 4049, 3494, 2552, 2807, 5780, 1808, 171, 5681, 4441, 645, 4135, 429, 2186, 3372, 5101, 2948], [1525, 4543, 5780, 5279, 73, 3991, 4413, 5520, 916, 2405, 5738, 699, 1932, 171, 2681, 4322, 4413, 1854, 221, 2807, 5775, 1328], [4627, 346, 2664, 5399, 1895, 4089, 5730, 6030, 4089, 2435, 97, 2192, 722, 324, 3778, 5730, 2488, 3900, 5730, 5399, 1895, 3900, 5730, 6030], [2957, 2043, 1194, 1039, 5735, 3533, 4956, 4732, 2388], [4543, 2892, 1692, 4230, 5351, 1770, 1783, 5101, 2948], [3108, 5730, 1573, 3900, 3254, 3035, 898, 1591, 5730, 4542, 3900, 5805, 2679, 3575, 1932, 171, 4226, 1995, 5706, 4089, 1580, 2585, 5780, 4586, 4089, 3976], [5114, 169, 4705, 1996, 97, 3795, 5520, 4077, 4619, 3035, 4705, 1082, 5620, 1191, 4077, 4247, 2559, 5018, 3371, 1697, 4705, 3832], [2897, 3434, 1539, 5113, 2807], [5780, 2624, 5198, 1748, 1549, 4601, 3683, 1808, 2225, 1997], [898, 3862, 4089, 5639, 4760, 4089, 3167, 1181, 4089, 1913, 2060, 3524], [5739, 3687, 3100, 810, 4089, 5730, 5155, 4816, 2877, 4555, 1034, 4816, 1645, 4843, 5520, 2560, 5216, 1178, 4816, 307, 2807, 2433, 477, 5341], [5162, 2096, 97, 1290, 256, 5730, 256, 3900, 4260, 3100, 1780, 1166, 3892, 517, 4089, 5541, 4135, 693, 5730, 525, 4135, 2877, 4558, 4077, 5964, 2768], [5503, 6031, 4149, 119, 2882, 5172, 256, 4338], [3766, 169, 3905, 3106, 3100, 112, 4587, 3900, 345, 2807, 3449, 3372, 3429, 206, 3253, 3822, 5488, 356, 2590], [5780, 169, 4932, 3446, 907, 2974, 5172, 5780, 5279, 3253, 193, 555, 2664, 3665, 5752, 4089, 3450, 5001, 5476, 1267], [5780, 5620, 5911, 5730, 5648, 5520, 1332, 2269, 5410, 2807, 4412, 553, 2807, 5780, 5279, 4089, 873, 485, 518, 88, 1559, 1205, 3018, 19], [5730, 3737, 3100, 5992, 3181, 4135, 5730, 2099, 346, 4898], [4100, 299, 4406, 1537, 3976, 4214, 4135, 2193, 2950, 4619, 346, 208, 5780, 3035, 2171, 4619, 1502, 5780, 169, 4932, 97, 5769, 5172, 2915], [968, 14, 109, 3449, 2888], [5730, 1269, 4512, 4287, 2997, 2186, 3749, 3129, 3542, 1906, 346, 4940, 1846], [6003, 5711, 1301, 2620, 5101], [1493, 5496, 5001, 2629, 335, 5442, 3843, 1013, 3752, 2753, 3589, 3100, 5000, 4135, 2546, 5520, 5730, 125, 4650], [3989, 4804, 3566, 2976, 865, 3575, 171, 4407, 5520, 4627, 346, 5769, 2140, 3976, 3874, 5992], [3457, 536, 3900, 1252, 731, 346, 171, 3129, 4337, 2433, 171, 5379, 5421, 643, 1320], [2762, 659, 2860, 3236, 5730, 1427], [880, 814, 1580, 1932, 3976, 1448, 1808, 3652, 4027, 4705, 171, 398, 5421, 4861, 2807, 279, 169, 5035, 5730, 1742, 3423, 636, 5703, 5520, 5769], [3683, 5992, 3575, 2192, 4756, 3337, 1290, 2348, 3844, 1919, 4726, 5314, 2752, 608, 2867, 5730, 3590, 5730, 2078, 3900, 5730, 4756], [386, 4586, 5780, 1808, 2527, 171, 6013, 5001, 5399, 5791, 3436], [3695, 5780, 2495, 3632, 3584, 1157, 5769, 5029, 1038, 790, 4135, 2552, 5769, 4412, 5216, 6012, 805, 144, 5172], [171, 1476, 1424, 3900, 175, 5784, 2260, 2816, 3449, 2807, 4634, 5520, 2928, 2831, 171, 3486, 4135, 5948, 4019, 171, 3869, 4600, 4636], [5371, 2471, 4732, 4089, 802, 3784, 125, 1932, 3993, 3778, 4832, 4089, 5730, 2344, 4687, 3778, 1914, 1964, 2372], [3884, 1000, 2573, 3113, 1193, 2807, 279, 735], [3874, 2646, 1332, 245, 1537, 3976, 5216, 525, 2807, 3636, 5780, 1808, 1320, 3900, 5582, 2521, 4909, 4089, 5628], [2416, 4816, 731, 898, 3930, 5520, 4808, 5421, 4424, 3050, 3900, 4312, 3995, 5730, 2427, 3844, 3800], [5585, 5054, 5836, 1588, 3498, 5001, 4349, 699, 4135, 93, 3575, 171, 5341, 4600, 5550, 3029], [3784, 3209, 5030, 1887, 4966, 5584, 950, 617, 4831, 356, 4029, 596, 1116, 5765, 603, 125, 2176], [3372, 1502, 878, 5792, 907, 731, 5792, 4373, 5964, 1410, 2807, 1869, 2807, 97, 2433, 4506, 4089, 171, 1658, 3486], [125, 1988], [3515, 1761, 5500, 4089, 5730, 4036, 4077, 2295, 5201, 845, 4781, 3778, 1449, 4218, 4619, 4816, 898, 1907, 1342, 717, 5001, 2088], [5624, 2067, 4595, 732, 1548, 1932, 3648, 2807, 3449, 3828], [2289, 346, 2605, 4627, 3976, 3429, 1808, 4135, 70, 4135, 1172, 4619, 261, 2664, 5660, 5663, 4089, 5730, 5399, 2807, 43, 5730, 137, 3900, 5730, 5863], [3533, 4521, 5299, 5277, 2807, 4575, 6002, 5002, 869, 171, 2592, 5836, 3218, 4619, 346, 2473, 4839, 1626], [4271, 3100, 555, 154, 5117, 5769, 209, 5216, 4135, 693, 171, 1878, 4587, 795, 5172], [5780, 69, 2482, 1606, 5520, 1511, 3346, 5792, 3429, 2442, 2192, 3900, 2738, 88, 5520, 5730, 4472, 3916, 4441], [4210, 4135, 1172, 5489, 4993, 4135, 2738, 2968, 3533, 3893, 3429, 525, 2738, 3486, 171, 773], [3250, 1553, 2496, 125, 209, 5964, 4135, 3770, 4586, 2192, 1608, 1553, 4210, 3297, 2346, 5001, 331], [2831, 4586, 3976, 4705, 2186, 3976, 3820, 1907, 2584, 4268, 2807, 171, 3449, 4268, 511, 3976, 2624, 2004, 233, 2807, 5350, 5236], [847, 3629, 1932, 1580, 3372, 2433, 2859, 5475, 4089, 5756, 5541, 3372, 171, 192, 352, 693, 1580, 3263, 4545, 4109, 2005, 2428], [3075, 4851, 2186, 5871, 107, 3372, 5742, 5780, 1882, 1808, 5172, 782, 1521], [4305, 700, 3698, 3372, 171, 2214, 5001, 1591, 1716, 2826, 1262, 2807, 125, 2186, 4619, 5571, 4135, 3115, 5421, 5390, 1102], [3206, 171, 829, 1702, 2186, 1251, 4135, 1195, 1376], [3206, 829, 1702, 2670], [719, 3503, 5681, 4165, 4441, 719, 795, 4298, 4939, 3722, 3900, 4646, 5540, 4355, 886, 5780], [4500, 2681, 4135, 1808, 3976, 2585, 1290, 2130, 3722, 2807, 335, 3454, 5172], [2298, 5730, 2826, 1320, 209, 4412, 1085, 1119, 1932, 171, 3405, 5972, 1087, 4368, 283, 4412, 4162, 3947, 209, 898, 1119, 1932, 171, 5399, 4368, 1629], [5323, 2378, 655, 4712, 5001, 822, 2259, 4174, 5740, 1580, 655, 5172, 4712, 3372, 2164, 1096], [3096, 4310, 5964, 4077, 1149, 2605, 2913, 5536, 3137, 125, 4732, 4198, 5109], [5810, 1588, 3976, 1502, 166, 3429, 4017, 1508, 3346, 1502, 3129, 169, 4932, 4619, 555, 5775, 4089, 724, 1641], [3429, 5094, 5730, 259, 4647, 5520, 2008], [306, 2052, 241, 1502, 1119, 5780, 5964, 5730, 2355, 4089, 5730, 6006, 2807, 5730, 1104, 3606, 1932, 5730, 829, 5884, 346, 2681], [2957, 2043, 1194, 1039, 5735, 3533, 4956, 125, 4732, 2388], [5780, 3035, 851, 5035, 5653, 1371, 2327, 2503, 1932, 5700, 75, 2279, 5332, 4199, 2430, 2807, 3449, 3828, 485, 518, 5836, 3900, 1332, 5541], [1366, 3758, 3724, 4077, 6023, 2002, 3454, 160, 4996], [171, 5575, 346, 5921, 3100, 2186, 560, 3252, 2438, 3253, 5730, 3327, 3813], [171, 3651, 5326, 346, 2192, 3372, 5735, 5001, 3778, 731, 5660, 3234, 4004], [5863, 2186, 3976, 4350, 2357, 2974, 5780, 1976, 3900, 5730, 3449, 2266, 2357, 2974, 5780, 5760, 346, 5566, 2357, 2974, 5780, 446, 1416, 3533], [2192, 5780, 4214, 4135, 4586, 346, 1351, 5751, 1828, 3346, 5780, 5279, 311, 2670, 4089, 4413, 3234], [979, 4202, 5407, 4468, 4112, 4135, 5126, 3976, 663, 4575, 3167], [3505, 4135, 5674, 5741, 171, 4182, 5520, 171, 5585, 4576, 5133, 5326, 5681, 1806, 4412, 4419, 3659], [5702, 1332, 269, 4198, 5780, 4816, 898, 4993, 3306, 731, 2398, 4756, 5780, 5759, 3976, 5101, 4887, 1592], [1016, 4619, 3454, 4996, 4851, 2295, 5792, 3955, 5730, 2740, 5792, 1166, 1410, 4619, 3454, 619], [3724, 731, 2770, 1690, 346, 1502, 3234, 5780, 5759, 1066], [3237, 6007, 4843, 5166, 730, 628, 5426, 5694, 5543, 2807, 382, 895], [1641, 3429, 2568, 1580, 1157, 3976, 2807, 4619, 3454, 2916, 1320, 3900, 5730, 3423, 3234, 221, 3900, 1332, 5541], [2722, 2411, 346, 5769, 5681, 2192, 3976, 3035, 1135, 5001, 1469, 3100, 195, 2695, 4135, 5620, 3976, 2211, 2722, 5379], [2722, 2411, 346, 5769, 5681, 2192, 3976, 3035, 1135, 5001, 1469, 3100, 195, 2695, 4135, 5620, 3976, 2211, 2722], [977, 346, 5730, 3167, 3900, 171, 2743, 1498, 4158, 633], [4502, 4508, 3683, 2192, 5690, 4619, 3294, 97, 5379, 3346, 619, 4911, 5918, 5520, 619, 3537, 1038, 4441, 801, 4312, 692, 4619, 3575, 1400], [1260, 4738, 209, 5703, 171, 773, 453, 619, 5030, 386, 346, 4619, 5769, 485, 88, 3372, 4089, 655, 3900, 5023, 5921, 2394, 171, 547], [5165, 5165, 5165, 4616, 3976, 5576, 4135, 1332, 5481, 4135, 1332, 2173, 1417, 5499], [5780, 1848, 5216, 1907, 5651, 5780, 169, 1808, 171, 6015, 1507, 593, 2055, 1480, 2085, 1653, 3067, 5541], [3552, 2596, 5520, 2556, 4213, 4135, 5944, 717, 171, 4555, 2401, 1332, 571, 1320, 4534, 3900, 1529, 699, 4902, 4342], [5326, 400, 2807, 3510, 346, 1166, 171, 1310, 525], [4416, 5910, 5780, 3798, 5128, 1458, 346, 171, 5759, 5792, 203, 5341], [1537, 3354, 3320, 2624, 5620, 171, 174, 2664, 1320, 3035, 439, 3683, 5198, 12, 5964, 346, 451], [2951, 1277, 5735, 3575, 3778, 793, 4089, 171, 5703, 3900, 5394, 619, 4843, 4750, 4274, 3454, 3185, 4217, 2807, 4217], [2861, 3429, 3798, 3174, 5235, 241, 386, 1524, 5075, 4619, 5730, 125, 4077, 1761, 167, 5730, 4412, 3346, 5780, 3035, 3340, 1256, 111, 3640, 2715], [2236, 3398, 4135, 5570, 3113, 5101, 4241, 4619, 898, 4506, 1110, 5736, 5494, 709, 5101], [813, 629, 171, 5613, 2807, 171, 2247, 929, 3495, 4917, 5730, 916, 2478, 1755, 5001, 3153, 3900, 26, 18, 5687, 5613], [731, 1414, 896, 1332, 1309, 4678, 241, 2974, 5172, 4619, 346], [1157, 5730, 4174, 999, 4045, 1882, 4705, 3085, 901, 5421, 2682, 5192, 3181, 125, 2807, 2677, 1725], [1558, 2700, 4089, 131, 1038, 1524, 5173, 5090], [2125, 731, 1213, 1332, 2041], [731, 5012, 555, 5751, 5172, 5655, 3683, 4023, 2192, 2596, 4135, 1479], [1537, 5780, 5375, 171, 5761, 773, 3900, 4366, 1821, 5780, 209, 2746, 5730, 2930, 3513, 2807, 2596, 4135, 1320, 3900, 5730, 4861, 3900, 2228, 1856, 4089, 2661, 5172], [2940, 169, 4932, 5792, 2495, 2807, 5792, 3315, 1808, 5730, 1649, 5421, 2400, 4089, 2738, 4309, 1723, 1083, 5520, 5769, 5210, 3372, 4278, 4135, 3992], [2750, 2831, 1038, 3976, 738, 4135, 2054, 4787, 2054, 2537, 5780, 1848, 643, 5780, 738, 4135, 4283, 4083, 5351, 4356, 3609, 2153], [4619, 1848, 5216, 3683, 525, 171, 3659, 5266], [1332, 5541, 4747, 663, 3129, 4135, 1906], [3976, 1038, 5520, 1907, 4869, 1139, 3900, 3591, 843, 4587, 169, 898, 1996, 2186, 3976, 169, 2357, 3100, 3976, 1038, 724], [5520, 2824, 2530, 5780, 167, 4587, 3900, 5730, 3477, 4008, 2877, 4089, 1687, 5171, 2831, 4586, 5780, 4586, 609, 5769, 1414, 4587, 2664, 2502, 3778, 2192, 5001, 1580, 5101], [750, 1766, 4325, 3291, 5780, 4913, 4008, 3778, 4926, 350, 4278, 5735, 5001, 2970, 2534, 4278, 1092, 4816, 4959, 125], [750, 1766, 4325, 3291, 5780, 4913, 4008, 3778, 4926, 350, 4278, 5735, 5001, 2970, 2534, 4278, 1092, 4816, 4959], [3412, 3346, 6, 1346, 3501, 1616, 4627, 1038, 1467, 5655, 4641, 3822, 5379, 2765, 3995, 171, 2665, 3756, 114, 1008], [169, 4617, 843, 4917, 5046, 843, 2664, 5618], [420, 4767, 5623, 553, 4816, 898, 2959, 4917, 5730, 2482, 2104, 930, 3778, 5809, 5584, 272, 54, 601, 2819, 4593, 4800, 4135, 4045, 2640, 4753, 125], [420, 4767, 5623, 553, 4816, 898, 2959, 4917, 5730, 2482, 2104, 930, 3778, 5809, 5584, 272, 54, 601, 2819, 4593, 4800, 4135, 4045, 2640, 4753], [4842, 5780, 5508, 5928, 1537, 4619, 3315, 3976, 2357, 4590, 1332, 256, 2186, 5780, 3864, 5741, 171, 4182, 5520, 2429], [349, 1708, 5858, 5001, 2035, 1346], [3384, 3900, 1252, 2433, 3315, 1427, 2738, 2697, 2867, 171, 5817, 5216, 1819], [6036, 1475, 4214, 4135, 5260, 1332, 3436, 5399, 3346, 1808, 3206, 1429, 5399, 1157, 6036, 4962, 3787], [1944, 169, 5780, 2357, 4619, 2470, 2433, 4135, 4924, 1332, 3211, 5761, 4701], [3372, 148, 4089, 5964, 5387, 504, 2807, 2589, 2807, 5780, 169, 4932, 3760, 4851, 1808, 5730, 2658, 5001, 65, 3900, 4595, 695, 3372, 1052, 2807, 5341], [5402, 5780, 1848, 5001, 5730, 4971, 3784, 4228, 4263, 5723, 621, 3995, 5730, 41, 271, 2031, 5792, 2020, 5341, 3900, 3896], [4422, 4587, 3900, 3815, 5738, 2831, 209, 4575, 3163, 5121, 4412, 5216, 5382, 5476, 2693, 2807, 1606, 2807, 4890, 2464, 5421, 3678, 5520, 5730, 3449], [4608, 5769, 261, 1874, 5001, 2041, 4077, 2910, 2512, 241, 3340, 1458, 4575, 2465, 3035, 1536, 870, 346, 4358, 31], [2876, 346, 739, 3441, 699, 5730, 5107, 4089, 171, 4086, 2871, 2099, 2525, 1362, 3090, 5851, 5769, 1427, 4089, 5001, 171, 1702, 2534], [5780, 2624, 1572, 4135, 2596, 4135, 3934, 4213, 1932, 171, 4843, 2585, 997, 1075, 1757, 4045, 1848, 3832, 2838, 5780, 3560, 4619, 4335], [169, 898, 3889, 1537, 3976, 3315, 4705, 5730, 5018, 3976, 900, 97, 2433, 5730, 2488, 3900, 5730, 3796, 5064, 4214, 1580, 4135, 5862, 3976, 3575], [4114, 5455, 2859, 3552, 898, 5730, 3423, 3234, 6013, 1876, 5554, 5690], [6021, 5780, 5638, 3724, 2572, 4996, 2807, 663, 2192, 5730, 4315, 2429, 5780, 4913, 1320, 973, 1488, 5871, 5730, 5392, 1490, 4312], [3683, 1038, 3253, 171, 5761, 3995, 1907, 190, 4278, 3683, 4816, 2461, 5428, 4586, 2433, 4924], [4023, 3900, 5992, 4089, 753, 3059], [4833, 2702, 151, 3040, 1116, 1264, 2585, 2061, 6007, 5769, 3478, 4146, 2810, 872], [97, 5080, 171, 451, 3293, 76, 296, 2020, 4342, 3346, 4619, 851, 590, 4802, 3900, 1502, 166, 451, 3293, 663, 4575, 5779], [3904, 171, 5761, 1538, 4135, 5014, 5730, 2173, 4732], [3904, 171, 5761, 1538, 4135, 5014, 5730, 2173, 4732, 125], [2967, 1469, 5836, 2186, 4008, 1166, 3315, 2357, 3599, 4165, 2111, 3253, 2974, 5379, 4575, 5541, 3454, 1090, 4619, 3599, 4455], [2807, 5001, 4068, 4556, 4383, 5398, 4023, 3429, 159, 5730, 3670, 2346, 2807, 429, 5730, 1960, 4619, 2624, 4724, 5730, 2603], [5726, 2079, 888, 2532, 2192, 5730, 4387, 2269, 1502, 2234, 587, 2807, 4646, 623, 2807, 587, 4816, 898, 4878], [2587, 2192, 1932, 5341, 5305, 2491, 5730, 2889, 381, 4586, 24, 5730, 1699, 4173, 4075], [4245, 3994, 3429, 4511, 582, 1580, 4587, 2585, 5780, 3454, 2208, 5730, 41, 98, 3900, 1332, 4459, 1023, 2807, 525, 2192, 3900, 4619, 3787], [3760, 4737, 4939, 1932, 5730, 5146, 3053, 4089, 4315, 2655, 1932, 2738, 5596, 3113, 2140, 5792, 3708, 2738, 1346, 5499], [1537, 3976, 1335, 4089, 1332, 4555, 201, 5780, 4816, 2573, 6034, 3976, 4135, 1335, 4089, 1332, 4555, 201, 5888, 5589, 4646, 2932, 4571], [3429, 2568, 4491, 44, 4415, 4260, 3501, 5703, 3346, 5780, 1827, 4089, 1054, 5480], [3547, 3234, 2974, 3927, 5674, 1932, 2664, 5819, 4847, 5520, 4928, 4077, 3058, 3035, 898, 1502, 5295, 434, 799, 464], [1332, 4115, 2927, 3523, 3429, 2269, 4089, 5730, 2401, 4135, 4705, 4525, 3372, 2925, 3575, 171, 1020, 5769, 1524, 5570, 4619, 4017, 3729, 5379, 755], [1332, 4115, 2927, 3523, 3429, 2269, 4089, 5730, 2401, 4135, 4705, 4525, 3372, 2925, 3575, 171, 1020, 5769, 1524, 5570, 4619, 4017, 3729, 755], [1884, 1537, 629, 1166, 1996, 4619, 3152, 629, 1840, 4135, 5730, 5716, 4384, 4077, 5735, 4135, 5730, 5716, 2757, 4135, 5730, 5155], [734, 5780, 3248, 797, 1332, 4103, 2867, 5730, 1427, 4052], [4099, 3372, 5911, 5379, 5780, 4816, 738, 4135, 2152, 163, 2807, 1823, 1332, 2118, 3629, 2807, 5780, 2605, 1848, 3832], [5209, 1876, 3429, 1868, 4587, 97, 1933, 2807, 2433, 1602, 4738, 3035, 4918, 2192, 4738, 344, 5001, 1580, 1629], [374, 4089, 4575, 4573, 4711, 4089, 2072, 1794, 471, 1502, 2395, 4135, 1808, 4135, 3010, 5183, 1502, 661, 346, 845, 169, 227, 171, 5404], [192, 346, 3234, 1090, 4851, 3113, 4627, 4861, 5515, 4214, 4619, 5001, 1998, 4089, 5780, 1808, 4651, 3778, 982, 4861, 4487, 1165, 2807, 1524], [2526, 3102, 2713, 4000, 5823, 3340, 5375, 1320, 5756, 3980, 580, 5393, 3318, 1882, 3533, 3346, 3552, 3478, 3440, 3900, 3463], [5780, 5706, 5730, 3934, 5780, 4586, 346, 1955, 1332, 3476, 209, 1089, 3346, 3778, 5730, 2488, 3900, 5730, 5836, 5780, 1848, 5216, 171, 922, 525, 4089, 731, 5461, 5012], [849, 4135, 5851, 5203, 4705, 1996], [2705, 5862, 3575, 4240, 4575, 3369, 346, 2369, 4784, 2186, 629, 2433, 2167, 4299], [1008, 1346, 1932, 2710, 346, 5730, 4221, 1346, 1932, 4740, 346, 5730, 2234, 2470, 4135, 2471, 4089, 5730, 4543, 1008], [5381, 1038, 2350, 5924, 3346, 5780, 2684, 5690, 4307, 3900, 3976, 2657, 5730, 845, 1875, 613, 5977, 4727], [5780, 5964, 4991, 2527, 171, 4029, 3659, 261, 3206, 171, 829, 1702, 4089, 1332, 1696, 2948], [5644, 1172, 3976, 2192, 5049, 1206, 1642, 346, 219, 4135, 5803, 4619, 3575, 5164, 1642, 2763, 4037, 2204, 6033, 125], [1780, 4008, 5835, 4135, 2516, 4089, 686, 3900, 5730, 4413, 3580, 366, 5752, 5769, 1780, 4008, 5379, 2647, 2596, 4705, 4136, 2041, 3122, 4587, 4628], [2831, 171, 4342, 4756, 5825, 1921], [4410, 2168, 2992, 1193, 732, 5685, 2867, 4936, 2260, 4089, 41, 4493, 2140, 3533, 3874, 717, 5421, 3429, 2390, 665, 4089, 4858, 5351], [3576, 3372, 1502, 5172, 5740, 1580, 4045, 429, 4008, 4217], [88, 5001, 5751, 4646, 1355, 4646, 3468], [4393, 4714, 4021, 1450, 5001, 1580, 5620, 3575, 5730, 3533, 3934, 5101, 1221], [3346, 5981, 2054, 5192, 1038, 5730, 2268, 3976, 2488, 3575, 5911, 171, 4171, 3900, 2771, 2807, 1346, 2807, 5567, 2807, 366, 2807, 4619, 5665, 5001, 2537], [28, 4127, 1965, 5752, 5769, 525], [97, 1342, 4135, 1652, 4870, 4089, 4413, 3346, 4879, 4135, 4089, 3992, 3181, 5101, 742, 1931, 1228, 5612], [97, 1342, 4135, 1652, 4870, 4089, 4413, 3346, 4879, 4135, 4089, 3992, 3181, 742, 1931, 1228, 5612], [4290, 5769, 1702, 3976, 893, 171, 1828, 4981, 2807, 1808, 2434, 2120, 4135, 1351, 2041], [3467, 4479, 3501, 1808, 171, 5660, 5780, 1410, 2859, 5375, 167, 829, 2948, 874], [5780, 3429, 167, 3863, 4135, 2115, 3995, 4911, 5740, 46, 5921, 525, 171, 2984, 5964, 5730, 5366, 3900, 5730, 4260, 4089, 1332, 4431], [5749, 1773, 2209, 22, 346, 1974, 5520, 4575, 2139, 203, 5216, 97, 167, 171, 2700, 5520, 2948], [2186, 5730, 1514, 1878, 2807, 5780, 169, 4567, 5730, 2975, 5096, 4589, 4018, 1346], [2666, 517, 241, 4619, 2295, 4115, 2031, 2433, 3113, 1495, 4135, 1112, 4089, 88, 4135, 2451, 5520, 4077, 2877, 4014, 3994, 5780, 4816, 1677, 3478, 4365], [2611, 951, 169, 5851, 5476, 3478, 3976, 5359, 241, 1320, 3900, 5730, 2968, 1496, 724], [1290, 794, 4089, 468, 89, 1038, 4436, 4135, 171, 597, 1520, 3900, 2036, 3900, 5047, 4641, 1290, 4661, 743, 5379], [1290, 794, 4089, 468, 89, 1038, 4436, 4135, 171, 597, 1520, 3900, 2036, 3900, 5047, 4641, 1290, 4661, 743], [1332, 5106, 4165, 1807, 1038, 5037, 4233, 1806, 3874, 3346, 1524, 2538, 898, 642, 4307, 1702, 4917, 171, 2053, 5769, 1410, 1524, 5871, 46, 3900, 6012, 2474, 5379], [1332, 5106, 4165, 1807, 1038, 5037, 4233, 1806, 3874, 3346, 1524, 2538, 898, 642, 4307, 1702, 4917, 171, 2053, 5769, 1410, 1524, 5871, 46, 3900, 6012, 2474], [1224, 5488, 2026, 5101, 1774, 4135, 4069, 3394, 5118, 5101], [1537, 5921, 1074, 5742, 3778, 3976, 169, 4924, 3778, 982, 4008, 1780, 772, 2289, 3551, 4672], [4993, 4089, 5730, 4029, 88, 2295, 2477, 41, 4756, 4940, 4159, 4481, 5520, 5730, 5453, 827, 3999, 4015, 125, 4933], [2448, 4135, 501, 5387, 3563, 4089, 2528, 167, 699, 5001, 3923, 5716, 2451, 5446, 5520, 1332, 3923, 4077, 781, 1640, 4619, 548, 4965, 2440, 5379], [2448, 4135, 501, 5387, 3563, 4089, 2528, 167, 699, 5001, 3923, 5716, 2451, 5446, 5520, 1332, 3923, 4077, 781, 1640, 4619, 548, 4965, 2440], [2186, 3976, 3935, 4587, 3067, 593, 2807, 4008, 342, 5769, 2664, 1320, 3658, 624, 2974, 1906, 3976, 5681, 1038, 12, 3976, 169, 4214, 5298, 4135, 2357], [169, 5554, 477, 5341, 5576, 5968, 3429, 1172, 5730, 5874, 4412, 3778, 5730, 1278, 1796, 5001, 5639, 2956, 1994], [2431, 2337, 2585, 171, 761, 4657, 5780, 5466, 1537, 5730, 3112, 5375, 171, 5660, 2831, 4996, 4351, 4089, 1332, 4969, 5607], [3790, 3372, 2167, 3778, 3976, 4329, 27, 3976, 1351, 2669, 4188], [5752, 5730, 2268, 3167, 5769, 3976, 5421, 5921, 3976, 2357, 5554, 3824, 843, 3976, 5375], [5780, 4705, 1502, 166, 187, 1350, 2696, 5506, 3600, 366, 4056, 5258, 3735, 4056, 1346, 4867, 4311, 5001, 2853], [5269, 5780, 53, 1838, 4619, 5001, 2632, 207, 4583, 209, 4705, 4089, 5730, 3486, 4256, 2164, 171, 1427], [3372, 4991, 171, 5756, 5541, 2667, 563, 5780, 2624, 2877, 171, 3533, 1775, 5001, 1332, 573, 3420, 2807, 97, 5681, 4687, 4135, 4617, 1580], [1332, 6011, 346, 2855, 1841, 5520, 4188, 3900, 2429, 4221, 5656, 1916, 2159, 1381, 1346], [4614, 3552, 898, 171, 5172, 4275, 3346, 5534, 2020, 3832, 3336, 1160, 5083], [2920, 655, 4135, 4705, 171, 4555, 256, 5730, 2333, 4621, 3900, 1332, 571, 1320, 346, 3822, 171, 773, 499, 4543], [3690, 2807, 2738, 2830, 3929, 525], [97, 5681, 5379, 2186, 3976, 2624, 528, 2025, 663, 3355, 2807, 5730, 344, 12, 3900, 3203, 3216, 5752, 731, 708, 5681, 5576], [3035, 4619, 898, 5534, 3549, 1502, 5780, 3035, 3255, 4089, 1332, 1284, 4256, 1840, 4135, 2979], [5780, 2624, 1572, 5001, 3976, 4135, 738, 4135, 1332, 4555, 518, 984, 2807, 1332, 4555, 4565, 336, 804, 4333, 3789, 4478, 5399], [806, 4918, 346, 1081, 814, 5921, 1768, 4587, 687, 3029], [5730, 3449, 2533, 5979, 4178, 169, 1580], [5842, 5730, 4555, 1271, 203, 3533, 3346, 3372, 3185, 5341, 3900, 731, 2886, 5020, 5354], [4697, 3956, 4342, 4023, 2877, 1480, 5050, 3101, 12, 5792, 3035, 3358, 3147, 795], [3797, 4016, 3402, 4132, 34, 4132, 4917, 619, 4112, 3900, 5245, 619, 1910, 4929, 3778, 3408, 2588, 4135, 2573, 3429, 3688, 3900, 619], [5780, 5279, 3253, 4135, 2877, 5730, 1346, 4089, 182, 2317], [5780, 1822, 1332, 5743, 5769, 3372, 5520, 5730, 2702, 2902, 2807, 4543, 1761, 1906, 1932, 1580], [2955, 3346, 5780, 4586, 4932, 3683, 655, 4135, 3614, 171, 773, 5448, 4077, 4646, 3844, 731, 346, 5730, 1861, 5769, 2914, 345, 5340], [500, 2807, 1935, 5127, 1365, 4587, 3784, 514, 5871, 4993, 4135, 1936, 500, 1935, 1346, 960], [1038, 3976, 5911, 3492, 1507, 2807, 605, 3253, 5541, 2807, 4575, 2234, 2971, 2605, 624, 3429, 2831, 4135, 3010], [958, 4843, 476, 5780, 1848, 5216, 3976, 2538, 5570, 171, 5499, 4459, 1117, 4967, 3900, 5541, 6013, 3934, 3844], [3995, 4530, 3900, 5692, 1566, 346, 5399, 4077, 3995, 882, 3900, 2450, 5796, 5571, 663, 1719, 4354, 5966], [3778, 982, 5780, 169, 1808, 171, 3496, 3398, 4135, 3478, 1580, 4589, 4089, 2831, 5780, 4214, 4135, 4586, 5792, 4816, 3206, 2193, 940, 2292, 1769, 4135, 5238], [5859, 4772, 400, 3474, 4772, 2970, 3474, 4772, 4115, 3429, 4135, 1439, 3976, 169, 5851, 4772, 4115, 3478, 3976], [5997, 3445, 1466, 400, 5788, 5520, 3647, 1556, 4775, 1045, 2433, 2845, 5273, 5341, 3218, 5391], [2596, 693, 5730, 2112, 1592, 5101, 3550], [3848, 97, 3822, 1502, 5295, 4089, 4575, 1300, 1502, 2283, 3288, 1825, 3234, 3170, 1458, 5897, 4135, 2390, 4746, 2974], [3176, 731, 346, 632, 2831, 1332, 126, 4379, 459, 3253, 386, 5730, 997, 4586, 5780, 4848, 5769], [216, 843, 4089, 5073, 3900, 2519, 3578, 5730, 1658, 320, 2160, 346, 3768, 2605, 171, 5527], [4619, 5135, 171, 643, 597, 4641, 5730, 5445, 3900, 5730, 1987], [5161, 2568, 2134, 731, 4521, 632, 5780, 1848, 171, 5761, 5273, 3392], [1777, 5780, 3844, 5279, 5838, 1346, 2108], [4543, 3372, 3630, 4135, 3255, 1608, 5001, 171, 4686, 27, 1903, 346, 4993, 5520, 3541, 2807, 5174, 1038, 5730, 2968, 437], [3086, 2807, 2738, 2736, 3454, 3898, 4641, 2240, 475, 2736, 1641, 5379, 126, 4936], [3086, 2807, 2738, 2736, 3454, 3898, 4641, 2240, 475, 2736, 1641, 126, 4936], [5336, 5780, 3595, 1332, 3388, 2892, 3711, 4089, 3809, 4723, 1038, 5172, 1083, 814, 3514, 3900, 4595, 3006, 2357, 1537, 3976, 655, 940], [3839, 5730, 5436, 5769, 1197, 5775, 4135, 629, 5189, 4403, 4217], [2186, 5326, 2878, 3900, 4824, 4518, 2675, 439, 4619, 629, 3340, 5520, 5326, 1794, 1346], [2808, 2664, 3454, 1502, 5960, 298, 5775, 4089, 724, 1932, 5721, 5780, 4801, 4619, 3454, 3294], [5054, 5836, 3178, 4779, 1290, 5499, 2872, 1778], [3742, 1715, 2974, 435, 4899, 4181, 5499, 5569], [2433, 171, 2681, 2992, 3346, 3533, 1782, 663, 5730, 1929, 4135, 1638, 171, 5660, 4481, 5520, 356, 125], [3952, 1932, 2041, 4202, 1616, 3976, 4429, 898, 4391, 4917, 4255, 2537, 171, 4555, 5836, 2807, 6021, 4202, 5827, 2831, 439, 203, 5216], [4150, 5307, 2421, 1136, 5399], [1429, 171, 4256, 2530, 5780, 1429, 5101, 731, 5541, 3035, 898, 1502, 4879], [3429, 1122, 5876, 4545, 1641, 5711, 125, 3104, 5093], [2186, 3704, 5057, 5780, 2357, 4045, 898, 4068, 4077, 1406, 5001, 171, 4256], [3372, 300, 5203, 5342, 2867, 1875, 2978, 645, 1502, 5780, 169, 1808, 88, 4135, 823], [1758, 2041, 588, 4643, 2396], [654, 3372, 5173, 2192, 3947, 4213, 4135, 5198, 5142], [5789, 3372, 5681, 1906, 1932, 731, 2807, 5780, 169, 5216, 619, 5216, 5769, 99, 985, 4079, 3346, 4738, 5000, 5476], [4605, 1390, 1681, 5780, 169, 227, 171, 2469, 4135, 1838, 5730, 1269, 4512, 5756, 2429, 2807, 4708, 2429, 5379], [4605, 1390, 1681, 5780, 169, 227, 171, 2469, 4135, 1838, 5730, 1269, 4512, 5756, 2429, 2807, 4708, 2429], [3976, 3035, 429, 5730, 1494, 4007, 3129, 3275, 4818, 2766, 2807, 1461, 3982, 4703, 3874, 724, 1771, 361, 1458, 4007, 5289], [5943, 5009, 2192, 5836, 4613, 3575, 4135, 4586, 1184, 2807, 4543, 3372, 2379, 1608, 458, 2041, 4077, 6, 3244, 366, 2041, 3244], [5943, 5009, 2192, 5836, 4613, 3575, 4135, 4586, 1184, 2807, 4543, 3372, 2379, 1608, 458, 2041, 4077, 6, 3244, 366, 3244], [2664, 5101, 418, 1706], [1320, 5660, 4594, 1662, 1340, 525, 5980, 6012, 931, 4089, 1516, 1537, 1524, 4994, 1762, 5297, 2686, 241, 2186, 5730, 1097, 4560, 562], [3888, 4997, 209, 5085, 2992, 2167, 492, 4840, 296, 3454, 3942, 5681, 3170, 4917, 2974, 3316, 4676, 4089, 5730], [2664, 5575, 5554, 4012, 5730, 904, 3900, 5730, 3217, 6018, 4135, 1907, 469, 1734, 5206, 171, 4555, 2986, 5001, 5730, 5340, 4865], [5001, 1907, 5850, 352, 4135, 429, 5921, 2120, 5769, 2974, 1524, 5537, 4007, 3456, 346, 1502, 5379, 2807, 2525, 3147, 3683, 4023, 1800, 5001], [2831, 3683, 4932, 3683, 2193, 979, 1592, 3550, 5101, 4887], [1502, 5488, 1580, 4456, 1332, 4144, 5585, 3695, 5101, 1580, 450, 2877, 4619, 3854], [3604, 2674, 3372, 4617, 4543], [5797, 4045, 898, 2540, 5780, 5639, 5769, 281, 5112, 4684, 1932, 5730, 4412, 3778, 1580, 4918, 740, 4587, 731, 4686, 325, 4659], [5730, 41, 271, 2031, 1808, 1429, 4996, 1129, 3575, 3900, 1052, 96, 5730, 250, 3900, 3986, 5769, 3613, 663, 3712, 5824, 5499, 5900], [2436, 1241, 5780, 1172, 1876, 5690, 1502, 2283, 4260, 5198, 5730, 1916, 5769, 5780, 3454, 2097, 4135, 1172, 4575, 5349, 5780, 1099, 2975, 1052, 2670, 4089, 3282], [4639, 3372, 3047, 3253, 4575, 1916, 2664, 1320, 4023, 5554, 3905, 3976, 1414, 5001, 3657, 4575, 88, 4135, 5198, 2664, 4894, 2974, 5054, 4619, 1012], [3792, 4429, 3478, 5730, 1470, 3114, 663, 4160, 5520, 5730, 4301, 4587, 3900, 171, 1360, 1345, 2713], [5963, 2249, 5293, 2974, 1780, 4008, 5293, 3501, 3691, 1503, 4008, 663, 1346, 5229, 1544, 4077, 2165, 5430, 4602, 1447, 5293], [2186, 5780, 5720, 4089, 1648, 3900, 1021, 5479, 1876, 4790, 4277, 171, 137, 4089, 1332, 1309, 4108, 840, 5621, 1021], [2621, 5986, 4569, 4135, 4932, 5769, 5645, 2495, 5476, 4217, 1544, 4641, 3533, 1537, 2433, 5780, 4646, 3900, 1040, 5443, 3416], [1588, 3976, 5144, 2162, 772, 1580, 171, 5371, 4695, 5001, 3960, 1332, 2457, 2871, 4135, 5730, 2987, 12, 4619, 3454, 2356, 88, 3976, 4913, 1320, 3346, 3234], [517, 4619, 5681, 3429, 5775, 4089, 5769, 3372, 3162, 5730, 2135, 4089, 171, 271, 191, 1641, 1922], [5780, 169, 3514, 2831, 2159, 5730, 125, 1038, 4089, 218, 3247, 4595, 171, 2857, 5059, 4537, 67, 5520, 5769, 686], [97, 5379, 2186, 3976, 5128, 4135, 5921, 3253, 4730, 4221, 4165, 2974, 4619, 1517, 3976, 3575, 2807, 732, 1524, 4586, 5730, 2975, 6013, 5216, 4260, 5681, 169, 1808, 370], [5578, 394, 3900, 1332, 4919, 5447, 5871, 3429, 3402, 5520, 5730, 3396, 3900, 4835, 171, 1696, 11, 3900, 1222, 115, 3641, 2401, 3778, 5730, 3189], [3948, 3372, 1119, 1356, 4601, 5554, 2530, 356, 1876, 3429, 1429, 1085, 5379, 795], [5780, 5279, 3630, 4135, 5570, 4619, 1332, 5521, 220, 4135, 3478, 5298, 663, 1762, 5011, 1524, 4816, 2432, 3976, 5853], [4259, 5780, 3454, 5243, 4917, 5751, 3533, 4260, 2807, 1524, 4271, 5701, 4135, 5371, 1580, 3900, 1332, 2041, 4113, 4619, 3340, 4154, 171, 5761, 4256], [5901, 1938, 3760, 3905, 5769, 4918, 5730, 2195, 327], [3423, 2537, 5780, 169, 2357, 2831, 1332, 1309, 4232, 5001, 2041], [3630, 699, 991, 5520, 2355, 749, 1210, 517, 3784, 4932, 4045, 4602, 699, 5730, 2267, 3784, 2737, 4619, 4816, 898, 4342, 5520, 4627], [1082, 1346, 731, 3844, 399, 5057, 1403, 2221], [1082, 1346, 731, 3844, 399, 5057, 525, 1403, 2221], [7, 5730, 2136, 1038, 4940, 950, 4655, 4068, 5780, 3454, 2186, 5780, 816], [5780, 5198, 332, 2908, 3454, 3366, 2831, 3454, 3584, 1907, 5625, 305, 3253, 3409, 2142, 3454, 5728, 4917, 2433, 1502, 4904, 1374, 4667], [1502, 3234, 4135, 1351, 971, 439, 4587, 3900, 2453, 1541, 971, 5534, 5871, 3900, 2364, 5752, 5716, 1932, 4260, 1943, 1550, 3234], [329, 5730, 4918, 4137, 1580, 3995, 5730, 2359, 5780, 5279, 3423, 489, 3060, 3100, 5730, 4791, 3693, 1932, 1424, 5570, 3575, 2807, 1631, 1932, 3121], [3372, 5173, 1716, 439, 4135, 4481, 171, 5761, 3763, 4135, 731, 643, 5836, 4883], [5780, 4412, 3778, 5751, 3900, 5730, 2358, 4712, 5769, 589, 3778, 5730, 1491, 2807, 3449, 3399, 64, 3258], [598, 4135, 3632, 5751, 5172, 1022, 3784], [5871, 4089, 3772, 2041, 3340, 4555, 4180, 5799, 346, 173, 3010, 4982, 2814, 2811, 3295, 3527], [3816, 3683, 2357, 5730, 4568, 3253, 619, 5730, 3237, 346, 3591, 4619, 4587, 619, 665, 1616, 2434, 1906, 1616, 13, 4828, 4581], [591, 3966, 5309, 1098, 732, 3976, 4586, 2831, 3976, 3035, 2807, 732, 4417, 4595, 3749, 3398, 4135, 3478, 345], [639, 3766, 2192, 5780, 3514, 3253, 346, 325, 2433, 5063, 731, 3575, 2738, 877, 5459, 4007, 3533, 5001, 5512], [496, 3131, 2807, 5730, 4996, 2545], [3372, 1502, 1906], [2856, 1329, 525, 5353, 4089, 604, 12, 3900, 1875, 2277, 4135, 5128, 3683, 2578], [1038, 3976, 5172, 5769, 3493, 3694, 4089, 660, 1522, 5596, 5964, 1924, 3575], [4608, 4135, 1172, 1661, 5703, 3346, 3760, 4737, 1172, 5476, 4024, 4370], [2685, 632, 3778, 982, 400, 4217, 3700, 3900, 731, 3778, 2831, 5660, 4816, 4851, 5730, 3868, 101, 1712, 5315, 3100, 3323, 5001, 4595, 3010, 4468, 346, 4468], [3030, 5239, 5730, 2268, 98, 346, 5780, 2624, 4705, 725, 5472, 731, 4562, 12, 261, 2664, 478, 4233, 4468, 4135, 1332, 952, 1346], [3147, 4089, 5730, 3742, 5992, 4627], [1602, 4077, 619, 4918, 1038, 3822, 5289, 5520, 1332, 5437, 3029], [1395, 1179, 1474, 5408, 4413, 1693, 4089, 5204, 4135, 4522, 1528, 3154, 2040, 828], [1502, 1882, 2594, 2807, 2041, 2807, 3335, 4952, 171, 5111, 88, 940, 2120], [5123, 1008, 5780, 5279, 5668, 5730, 1346, 5660, 1808, 4506, 4619, 4728, 4587, 5780, 2471, 1932, 5091, 2807, 1105, 5780, 2624, 2605, 4586, 5730, 4096, 6031], [731, 4756, 4509, 6019, 1932, 1665, 1779, 2807, 5804, 5829, 731, 3178, 3900, 4756, 4278, 5499, 4278], [486, 5729, 4135, 2970, 3575, 950, 2459, 416, 891, 4307, 10, 3683, 5407, 4577, 4307, 4504, 829, 1862, 5820, 4807, 2358], [3822, 1502, 391, 5001, 733, 3789, 3683, 589, 5730, 1891, 2374, 5946, 2066, 2090, 3778, 351, 4624, 4294, 6033, 3207], [3822, 1502, 391, 5001, 733, 3789, 3683, 589, 5730, 1891, 2374, 5946, 2066, 2090, 3778, 351, 4624, 4294, 6033, 125, 3207], [5681, 5891, 5520, 3072, 2678, 731, 4686, 732, 171, 4095, 3200, 4103, 5386, 4193, 3200, 2041, 4296, 3995, 3372, 5487, 2831, 5780, 2495, 4115, 1044], [3110, 1992, 3900, 1611, 171, 3220, 3621, 5098], [3080, 3429, 2959, 1332, 1346, 1932, 3365, 2624, 2596, 5730, 2930, 5836, 5379], [655, 4222, 5520, 2974, 4135, 4705, 4587, 3900, 731, 4394, 762], [655, 4222, 5520, 2974, 4135, 4705, 4587, 3900, 731, 4394, 3234, 762], [5780, 1848, 5216, 5780, 5279, 3177, 2041, 366, 4886, 5957], [309, 5780, 5508, 4924, 261, 3844, 2283, 5881, 4089, 5541, 4135, 3241, 3253, 1320, 2433, 5632, 4587], [806, 2918, 4918, 3369, 310, 1580, 485, 4686], [5780, 4932, 135, 1738, 5421, 1752, 4934, 3552, 693, 1580, 4705, 5203, 1298, 4587, 3900, 2041, 5780, 2647, 5553, 663, 5960], [3683, 3206, 6035, 2289, 4089, 3841, 1290, 3423, 1710, 2110, 1038, 276, 1932, 1346, 1801, 1346, 3841, 1710, 276], [3683, 3206, 6035, 2289, 4089, 3841, 1290, 3423, 1710, 2110, 1038, 276, 1932, 1346, 1801, 3841, 1710, 276], [666, 2357, 171, 3533, 3326, 4135, 2623, 171, 1715, 4089, 1826, 5520, 3688, 3346, 2433, 5601, 3624, 2297, 5712, 125], [3584, 1197, 784, 4575, 541, 2664, 1320, 3035, 4247, 4595, 2525, 3976, 2310, 5145, 2910, 3663, 2041, 366], [247, 386, 4586, 3976, 1808, 2041], [1207, 3429, 4465, 2041], [3351, 4448, 2523, 3372, 632, 2433, 3372, 3429, 3113, 4507], [4619, 298, 5775, 4089, 5769, 3372, 4986, 5730, 701], [4089, 4415, 971, 1332, 2235, 1653, 1851, 4495, 4996, 2726], [3426, 117, 4586, 3976, 4414, 4278, 4543, 4135, 171, 5012, 5769, 1002, 3976, 2807, 5780, 2192, 5769, 2660, 3976, 346, 171, 258, 3267, 2664, 4894, 2140, 5730, 1017, 3501, 5579], [3129, 4138, 525, 525, 3953, 5905, 1067, 5125], [3765, 4575, 423, 346, 2167], [2874, 3113, 1932, 3976, 2914, 1580, 4239, 643], [1758, 5780, 167, 171, 3163, 3234], [3625, 97, 2433, 5936, 971, 97, 5936, 2631, 5025, 3749, 1502, 525, 4089, 6012, 4013, 5769, 1524, 2624, 429, 5730, 4568, 1537, 4619, 3330, 4595, 4089, 3369], [1008, 315, 4460, 3035, 4724, 3976, 1932, 5282, 2467, 1346, 2585, 3879, 4619, 3035, 265, 3147, 1008], [1737, 4023, 2551, 5281, 2140, 5703, 1808, 1429, 3945, 1956], [386, 2624, 3976, 3429, 898, 3704, 242], [4749, 2186, 3976, 5948, 5520, 5730, 4095, 4482, 738, 4077, 1351, 5730, 4303, 346, 4135, 5397, 1932, 4740, 4077, 2041, 4689], [3372, 2433, 5730, 4074, 4135, 1915, 663, 2887, 5894, 1705, 4619, 3478, 1580, 4045, 2605, 1800, 3347, 4089, 5730, 3925], [752, 5246, 5520, 3449, 1148], [2852, 1421, 521, 3499, 2624, 3429, 898, 877], [2647, 4619, 1012, 1346, 4135, 2357, 2289, 3327, 4135, 4774, 5597, 2807, 2129, 4135, 1131, 3611], [5003, 5780, 4608, 744, 1411, 125, 3346, 5780, 864, 5730, 3978, 3844, 3007, 3007, 2333, 5410, 3617], [2596, 498, 4071, 5520, 5365, 5769, 5982, 4868, 5520, 5730, 1427, 5289, 4543, 1682], [5730, 4555, 5922, 5351, 346, 1389, 3951, 5294, 1580, 3900, 1220, 125], [5998, 5730, 3254, 1038, 4434, 4089, 2831, 171, 2681, 88, 4135, 4412, 3778, 4313, 3575, 5751, 4555, 2679, 5399, 5250, 971, 2376], [5730, 6025, 4771, 663, 224, 2807, 1591, 4135, 643, 3429, 4089, 88, 4135, 4327, 1332, 4306, 570, 4223], [5854, 1876, 1166, 1429, 3398, 4135, 4541, 4818, 4619, 2192, 3346, 5780, 1099, 5780, 4271, 4175, 1808, 5375, 2527, 4843, 5952, 1346], [2974, 4586, 3976, 693, 5921, 1932, 2041, 3100, 4202, 5706, 1524, 1808, 4619, 2807, 4202, 810, 490], [171, 1119, 361, 3475, 5520, 5730, 3486, 4308, 2498], [5885, 3303, 2916, 3206, 1429, 1502, 3889], [1872, 2831, 3660, 4217, 3652, 5001, 171, 5457, 2024, 3113, 1495, 4135, 4505, 744, 4135, 2859, 5421, 4991, 4135, 1572, 1046, 5101, 4135, 1172, 5730, 725, 5951], [3880, 2162, 366, 4077, 2041, 5121, 2107, 1739, 3805, 5049, 4785, 5001, 4614, 2031, 79, 1580, 4135, 3418, 4543, 35, 62], [2876, 3726, 3182, 2534, 5379], [2876, 3726, 3182, 2534], [2434, 2120, 2538, 704, 5094, 171, 4182, 5520, 1332, 5836, 4415, 4641, 5576, 5343, 5520, 5921, 1932, 5507, 2761, 5186, 3428], [1332, 2032, 290, 2458, 171, 2739, 138, 1346, 1502, 4023, 5780], [4586, 3976, 2357, 2974, 166, 4619, 4496, 4135, 1172, 3976, 2968, 117, 5379], [5780, 5279, 5026, 5529, 4917, 2831, 5751, 4260, 2877, 2013, 5421, 2535, 97, 2433, 4441, 5894, 1031, 5769, 1885, 2877, 731, 1861, 4101, 5379], [5780, 5279, 5026, 5529, 4917, 2831, 5751, 4260, 2877, 2013, 5421, 2535, 97, 2433, 4441, 5894, 1031, 5769, 1885, 2877, 731, 1861, 4101], [517, 2711, 5780, 4705, 4619, 2585, 166, 2585, 5730, 2259, 3496, 1635, 125, 4077, 3044, 346, 4704, 4077, 1018, 3346, 2054, 1825, 1038, 5139, 663, 2192, 3995, 4135, 4195], [5730, 1977, 1038, 4089, 5148, 2807, 4461, 533, 4849, 2807, 4380, 346, 4439, 5379], [5730, 1977, 1038, 4089, 5148, 2807, 4461, 533, 4849, 2807, 4380, 346, 4439], [5730, 4861, 1239, 2776, 4077, 509, 4271, 943, 2585, 5730, 2094, 2316, 3900, 125, 4077, 5834], [1876, 5053, 5004, 643, 3253, 1332, 1806, 819, 439, 327, 3346, 5780, 2547, 5769, 97, 2192, 3429, 2500, 2807, 4406, 5780, 3315, 3054, 5769, 2283, 372], [2801, 5780, 169, 2357, 2974, 166, 4217, 3900, 5769, 2415, 4918, 5780, 3035, 814], [5780, 5639, 171, 2187, 5571, 5428, 5520, 65, 1895, 5673, 4627, 346, 171, 5172, 2198, 3900, 171, 829, 2807, 4704, 2099, 1385], [4906, 5792, 555, 2193, 1502, 5086, 4271, 2711], [3912, 3372, 2433, 1320, 4135, 5031, 4561, 6025, 3346, 731, 4174, 3372, 1502, 219, 5001, 725, 4695, 5399, 2522, 2672, 449, 4077, 1631, 3836], [439, 3976, 1798, 1580, 4089, 1332, 2128, 2807, 4851, 2737, 3976, 5763, 4631, 1529, 5780, 1166, 5198, 3976], [5780, 5466, 1537, 5730, 4759, 4095, 1715, 346, 2064, 4917, 5730, 4961, 1755, 3900, 1282, 4135, 3478, 1125, 863, 515], [2483, 238, 2703, 3253, 5730, 4996, 5782, 5780, 655, 4135, 4705, 4587, 1930, 1429, 1244, 3575, 5643], [171, 5218, 3976, 4577, 4619, 4089, 5730, 5327, 4619, 4816, 4465, 4089, 5730, 4258, 2626, 1504, 2041, 764, 4022], [171, 5218, 3976, 4577, 4619, 4089, 5730, 5327, 4619, 4816, 4465, 4089, 5730, 4258, 2626, 1504, 764, 4022], [5780, 2357, 271, 4816, 5198, 5730, 1916, 3900, 2161, 2681, 2479, 1333, 731, 346, 5730, 3178, 3900, 1186, 3778, 5422, 5780, 5681, 169, 3514, 5001], [3100, 655, 4232, 574, 5172, 584, 3340, 3921], [2756, 4405, 108, 5681, 3377, 1580, 4637, 411, 3501, 2433, 1808, 5730, 2975, 4112, 4135, 2192, 2585, 4619, 3584, 2495, 5780, 1166, 2964, 2186, 5780, 3632, 4619], [1341, 346, 1108, 5730, 125, 4089, 2049, 4735, 4280, 2807, 2192, 2054, 1738, 5417, 1038, 5216, 4941], [3113, 3778, 5730, 2987, 346, 1502, 3234, 3724, 2192, 5730, 4666, 3575, 4585, 2807, 1031, 4260, 3294, 699, 2781, 1617, 3575, 4451, 5833], [146, 5585, 1410, 1425, 4077, 3521, 1320, 4135, 973, 2831, 5681, 3593, 5379, 5001, 2192], [1840, 4135, 4559, 3778, 3934, 346, 1332, 4967, 3900, 3763, 4089, 731, 5086, 4596, 5012, 4219], [169, 4705, 3844, 5295, 97, 5399, 4728, 630], [5730, 1030, 5520, 1332, 4555, 3923, 5108, 5386, 657, 1346], [5911, 643], [439, 2184, 4135, 2789, 4638, 5520, 171, 2323, 2222, 1859, 41, 4686, 2280, 4135, 2789, 4638, 5001, 171, 845, 2222, 2794], [1580, 2774, 171, 5086, 5836, 5363, 4228, 171, 1743, 2433, 1464, 3671, 2030, 2527, 171, 3246, 795], [2314, 5792, 3552, 3023, 5730, 1821, 3346, 4619, 290, 2573, 1414, 5575], [721, 3298, 4834, 2756, 520, 3037, 2513, 4089, 2598, 2807, 587, 4543, 2657, 5476, 5001, 3037, 5674, 3100, 4249, 4555, 4059, 4186, 1397, 5379], [1233, 3976, 4023, 898, 3917, 5001, 2027, 171, 4297, 3900, 5769, 3179, 5703, 4705, 171, 4297, 3900, 5751, 4187, 5421, 2690, 5421, 3529, 3132, 3575, 4841], [234, 81, 4756, 3778, 1151, 3738, 2926, 3321, 1850, 5399], [808, 3367, 2290, 4436, 3575, 3928, 2333, 2807, 239, 2226, 2807, 4621], [5780, 3552, 4851, 898, 5520, 5730, 2343, 3900, 2041], [885, 384, 2970, 4705, 4802, 3900, 2650, 384, 4115, 4532, 3711, 384, 400, 1230, 3234], [2186, 3976, 124, 1721, 5295, 4135, 4575, 1309, 3976, 124, 843, 2585, 3695, 71, 525], [2186, 3976, 124, 1721, 5295, 4135, 4575, 1309, 3976, 124, 843, 2585, 3695, 71], [3458, 3533, 563, 241, 2831, 5674, 346, 171, 815, 487, 2756, 3375, 2505, 5775, 731, 3868, 2530, 4008, 2896, 3575, 3038, 1445, 4115, 945, 2381], [1673, 329, 2192, 2553, 3900, 1332, 897, 5520, 5730, 4918], [3346, 2831, 4816, 4209, 4335, 322, 2807, 2771, 4705, 3976], [1429, 5101, 5001, 2537, 3831], [5780, 5279, 5577, 1507, 5780, 1069, 4608, 5203, 4903, 5379, 4617, 3958, 2146], [5780, 4214, 1332, 4184, 4135, 898, 1502, 1591, 5769, 1537, 5780, 5554, 4705, 525, 2807, 5921, 346, 5735, 5001, 1580, 4089, 5730, 5399, 3425, 2877, 1580], [5885, 2585, 1537, 5748, 1410, 4139, 4089, 5730, 2407, 3454, 171, 5172, 589, 2624, 1572, 4135, 1172, 5476, 589, 171, 5689, 2484, 2570], [731, 2204, 346, 3630, 4135, 2596, 4135, 5205, 2664, 4894, 3100, 112, 731, 4451, 4007, 4619, 5730, 4217, 5780, 268, 3900, 5127, 5730, 4217, 605, 5780, 5279, 3900, 2234], [2645, 3346, 4698, 5102, 2807, 5396, 1469, 63, 3778, 982, 3976, 2807, 5265, 5871, 5101, 2807, 3845], [4099, 5780, 3632, 5530, 364, 5780, 4932, 3900, 845, 1092, 4770, 1896, 5836], [3274, 4359, 4652, 5254, 759, 520, 3863, 5476, 2295, 171, 1950, 1537, 5792, 3454, 644, 4089, 5221, 5207, 2618, 1430, 125], [552, 5711, 5001, 2892, 834, 1240, 3630, 4808, 2005, 125, 4732, 5907], [2664, 3029, 663, 345, 3784, 632, 122, 167, 171, 1729, 1932, 5751, 2905, 4998, 4085], [731, 555, 1429, 5730, 3423, 3234, 4686, 1424, 3900, 4443, 5554, 795], [634, 3010, 731, 4165, 5094, 4619, 4587, 4627, 1843, 4008, 1780, 4008, 4023, 1149, 4415, 1040, 1880, 4165, 2433, 3478, 4595], [4242, 2349, 2853, 5798, 4646], [1332, 1948, 346, 2652, 2807, 2844, 5730, 765, 4543, 5001, 1723, 4110, 5606, 4035, 4816, 898, 4587, 5428, 5001, 5371, 3201, 2935], [5780, 169, 4705, 5769, 1332, 641, 851, 169, 1172, 2974, 1906, 5780, 1429, 5643], [1853, 4180, 4621, 5730, 4778, 5863, 4277, 4089, 5730, 1573, 3254, 1290, 3, 4821, 3137, 4289, 558, 5484], [5780, 1848, 5216, 2664, 1320, 346, 4587, 4627, 5520, 2859, 5001, 1580, 3035, 5298, 1172, 2831, 5780, 1224, 1346, 2068], [5780, 2624, 3574, 5203, 4587, 3900, 2041], [5425, 488, 5780, 3863, 5681, 3171, 1311, 2742, 1502, 5792, 2538, 1224, 171, 186, 3270, 3900, 2738, 5596, 5792, 4816, 632, 3206, 2357], [5190, 3257, 1290, 4963, 5780, 5964, 3976, 2807, 4738, 3579, 1241, 5379], [5190, 3257, 1290, 4963, 5780, 5964, 3976, 2807, 4738, 3579, 1241], [3634, 346, 171, 5585, 829, 5086, 3564, 2807, 1332, 4222, 4135, 3976, 346, 4135, 1808, 2434, 2209, 4135, 4586, 1932, 4619, 1322, 5387, 2751, 3937], [5780, 3676, 5780, 2538, 2471, 4089, 1661, 4053, 2140, 5780, 3035, 823, 3995, 4260, 5780, 3206, 3955, 4135, 1806, 5780, 167, 4566, 3634, 2269, 2807, 5289], [2807, 2526, 5780, 5681, 2495, 4602, 4089, 3992, 2192, 5836, 439, 2041, 5780, 4608, 3113, 3998, 4135, 997, 2694, 5387], [5574, 4908, 4940, 2223, 171, 4029, 1116, 1212, 4455, 2580, 97, 5681, 2248, 4135, 1172, 4595, 589, 4089, 4912, 829, 3397, 3486], [30, 4572, 2914, 2192, 1332, 1459, 809, 4619, 5781, 1332, 1346, 4738, 1074, 1580, 3347], [5780, 4705, 697, 3778, 5730, 3097, 2429, 2807, 732, 4045, 4924, 3253, 4619, 2192, 5836, 5780, 4608, 4619], [2974, 171, 805, 209, 1848, 3727, 2738, 1647, 346, 3822, 3402, 4019, 5001, 5175, 4089, 5730, 4190], [2073, 4428, 3206, 3175, 4135, 4617, 1580], [2319, 2607, 4578, 5304, 1038, 3630, 4135, 1427, 5730, 4719, 1932, 5371, 1821, 5819], [713, 1241, 2807, 5780, 589, 4619, 746, 1686, 4924, 4089, 171, 6000, 3975, 5432], [3372, 103, 4135, 3255], [1332, 5275, 4617, 5730, 1857], [2892, 3778, 5755, 274, 3789, 3778, 1650, 566, 4677, 125], [5296, 3129, 2771, 5379, 5499, 5800, 4336], [4579, 1661, 2624, 5198, 5421, 4501, 442, 5870, 4601, 1661, 776, 1210, 2738, 4732, 2530, 2598], [1008, 1537, 3683, 169, 1838, 2974, 4135, 495, 1290, 3249, 4135, 3146, 3501, 3133, 4135, 1346, 3531, 4077, 1071, 2839, 5520, 5054, 2668, 5310, 1008], [5840, 1537, 3976, 2390, 5730, 5399, 3642, 5127, 4412, 4358, 3346, 5127, 4412, 5216, 1524, 1038, 4089, 171, 1444], [3825, 632, 4315, 5457], [3439, 3376, 1427], [5780, 4023, 1808, 5992, 3778, 4017], [3586, 3407, 5769, 2186, 1308, 1038, 4879, 5792, 1595, 5421, 740, 1894, 3188, 1533, 1048, 125], [1332, 4402, 623, 555, 2342, 4198, 5520, 192, 2807, 724, 346, 2612, 4019, 5730, 1696, 4209, 5792, 555, 2664, 1320, 4135, 5128, 4135, 3372, 5289, 2670, 4402], [169, 4705, 5341, 4089, 3695, 436, 3080, 1913], [3683, 4740, 2433, 5730, 4568, 4851, 1537, 4619, 898, 643, 3346, 97, 1369, 3643, 3949], [3080, 5780, 3905, 3976, 2192, 1332, 3244, 5951, 2807, 2554, 814, 1332, 1258, 4895, 1037, 2554, 5951, 3244, 2041, 1346], [2192, 3372, 135, 3253, 3778, 4459, 1512, 346, 3204, 3626, 23, 1384, 2807, 5843, 5008, 643, 3106], [2495, 3976, 2357, 4091, 5948, 3179, 2186, 171, 4385, 8, 1901, 77, 5467, 1932, 3807, 3695, 5780, 4586, 829, 5131, 2846], [5385, 3683, 1808, 5730, 2975, 1117, 2807, 629, 4392, 1308, 4217, 4315, 4641, 1580, 5379, 2948], [4475, 1953, 2859, 5573, 5681, 3234, 4217, 5216, 1399, 2778, 4932, 5780, 4651, 1458, 66], [1941, 5780, 2357, 1537, 5780, 4072, 1907, 2325, 5780, 209, 4646], [5780, 865, 4135, 3934, 5001, 2664, 2332, 3597, 4381, 5992, 4089, 3992], [2433, 5558, 5001, 3745, 4300, 2538, 4069, 5730, 5713, 2807, 2973, 5730, 4378, 3900, 5245, 5421, 5730, 4621, 3900, 5730, 2444], [1639, 4166, 294, 3191, 731, 258, 5501, 5457, 3900, 2738, 1320, 2807, 3340, 3064, 1993, 3333, 3606, 4315, 2497, 4210], [1502, 629, 1906], [5421, 2186, 5921, 3257, 1580, 5780, 778, 4226, 5216, 817, 1580, 4543, 3372, 3429, 2167, 4851, 3826, 1038, 3976, 3129], [5780, 4214, 4135, 609, 2192, 1332, 3316, 5520, 5921, 5289, 4543, 1502, 1599, 3900, 731, 4020, 5379], [5780, 4214, 4135, 609, 2192, 1332, 3316, 5520, 5921, 5289, 4543, 1502, 1599, 3900, 731, 4020], [2579, 5602, 3831, 873, 5379], [2579, 5602, 3831, 873], [2081, 2704, 5774, 4761, 2664, 5792, 3315, 1524, 1038, 4263, 4198, 2807, 5769, 1658, 2738, 4376], [2140, 1038, 5751, 2681, 636, 4135, 738, 4135, 125, 278, 170, 125, 4753, 470, 2022, 4806], [3596, 5948, 5769, 5703, 5640, 553, 4388, 3004], [3482, 3932, 3346, 5780, 5750, 4135, 898, 171, 773, 877, 3253, 3822, 5902, 4135, 4705, 2417], [5226, 5780, 1808, 2283, 3129, 4188, 3900, 5730, 4675, 3900, 4755, 4406, 1427, 5769, 1414], [4458, 3353, 204, 1134, 3724, 731, 1608, 2914, 1580, 240, 3316, 3900, 1501, 2807, 3316, 3900, 1346, 5769, 4228, 1529], [1654, 5520, 1332, 5572, 4402, 954, 898, 4713, 2186, 3976, 1038, 4506, 5802, 4575, 5341, 5331, 4135, 3755, 169, 3976, 2085, 2664, 4217], [3300, 3681, 4587, 1608, 4089, 5639, 4135, 79, 3995, 5730, 949, 5655, 5780, 5279, 4991, 4575, 2158, 346, 1802, 4854, 5005, 1906], [5780, 5964, 2186, 5029, 1038, 2870, 4089, 1108, 2974, 4135, 4918, 4256, 3657, 1712, 4089, 171, 4931, 6012, 5147, 346, 2643, 63, 5964, 3841], [4871, 1502, 3976, 1616, 4829, 4028, 3346, 5001, 4646, 5001, 5921, 4415, 4641, 5730, 3013], [5542, 2807, 3970, 3113, 3995, 4619, 386, 910, 555, 5872, 366, 2041, 2807, 1502, 166, 383], [5373, 2711, 3079, 3132, 5730, 5399, 1895], [3846, 2815, 3377, 2285, 171, 4315, 1803, 5379, 645, 171, 426, 3561, 4666, 2103, 1245, 5761, 1320, 1808, 3652, 535, 1502, 4666], [3197, 5780, 2732, 5703], [425, 4194, 3423, 3900, 5674, 3709, 1808, 2433, 3620, 3253, 5730, 3957, 3900, 5730, 665, 1524, 5522, 3429, 5216, 5476, 5379, 3349], [425, 4194, 3423, 3900, 5674, 3709, 1808, 2433, 3620, 3253, 5730, 3957, 3900, 5730, 665, 1524, 5522, 3429, 5216, 5476, 3349], [1216, 3372, 2018, 5769, 1332, 4010, 346, 5379, 1848, 3832, 4999], [2418, 3429, 2532, 4135, 1580, 3372, 3630, 4135, 3507, 4575, 686, 4368, 3575, 1502, 1697, 1848, 2585, 1537, 1197, 167, 5824, 5216, 5119, 5878, 4738, 3454, 5289, 4918], [3301, 3910, 3533, 1012, 4217, 1226, 4135, 5703, 4641, 4226], [171, 5575, 4554, 5730, 2566, 4089, 485, 560, 1907, 2325, 4554, 5730, 560, 4089, 485, 2566, 3525, 1810, 1797], [5730, 3423, 3234, 98, 3900, 3113, 4045, 346, 5769, 4575, 6035, 740, 4662], [2572, 4996, 400, 4043], [5599, 5711, 5001, 527, 3372, 2037, 1332, 3319, 3760, 5964, 4135, 4494, 3976, 2807, 4705, 1907, 1306, 3346, 632, 3372, 3844, 906, 4135, 260], [844, 2974, 1926, 209, 4619, 898, 4135, 5720, 4221, 2807, 5128, 4135, 171, 352, 5959, 3206, 4326, 5792, 346, 1114, 663, 2041, 5421, 2527, 1499], [346, 4619, 3429, 1580, 5421, 346, 731, 171, 5585, 5111, 88, 5001, 5730, 5012, 2390, 5283, 643, 5111, 1758, 5609, 1586, 3180], [4720, 3534, 97, 2605, 1332, 602, 4007, 4619, 2919, 149, 3255], [3689, 4089, 5730, 5399, 3749, 2192, 5730, 2975], [5001, 3584, 5780, 5202, 626, 4426, 4135, 2433, 2470, 2807, 1265, 1332, 3244, 4278, 5101, 1571, 3347, 426, 2780], [4272, 5468, 2299, 5864, 3618, 346, 1332, 2192, 88, 600, 2003, 643, 3346, 4315, 2585, 3808], [5730, 883, 3900, 2463, 4889, 5520, 5730, 4342, 4060, 3900, 3113, 3224, 4917, 4857, 752, 4089, 513, 5964, 2537], [80, 473, 4610, 1008, 5195, 4077, 346, 1346, 5610, 1008], [4172, 1234, 5730, 620, 1715, 5554, 5558, 2041, 5533], [1983, 465, 2807, 5273, 1932, 1212, 47, 5183, 5681, 3072, 1580, 4881, 689, 1932, 4595, 4089, 5730, 2234, 1906], [3844, 2283, 1038, 5520, 6012, 4406, 5730, 6013, 3630, 5520, 1932, 752, 2638, 2137, 4260, 346, 5379, 3346, 3429, 2433, 4089, 1332, 105, 1502, 5379, 2963], [3844, 2283, 1038, 5520, 6012, 4406, 5730, 6013, 3630, 5520, 1932, 752, 2638, 2137, 4260, 346, 5379, 3346, 3429, 2433, 4089, 1332, 105, 1502, 2963], [1332, 1386, 439, 346, 1332, 2103, 4256, 1332, 5331, 346, 4089, 171, 4386, 5942, 2041, 5826, 1599, 4515, 5487], [1332, 1386, 439, 346, 1332, 2103, 4256, 1332, 5331, 346, 4089, 171, 4386, 5942, 5826, 1599, 4515, 5487], [5630, 1580, 5751, 2826, 5784, 4077, 1840, 4135, 5751, 3385, 2441, 2892, 5730, 125, 5792, 2495, 2433, 589, 2664, 1892, 3762, 3327, 4018], [5964, 3113, 1640, 4135, 1848, 1806, 3253, 3113, 5835, 3900, 5730, 5399], [346, 731, 5730, 3196, 2148, 731, 346, 800, 2041], [555, 5755, 1429, 829, 4705, 2862, 663, 710, 3923, 2585, 171, 4555, 4316, 528, 663, 5730, 3326, 4937, 5421, 3779, 4077, 119, 5001, 1426, 699], [832, 847, 169, 3255, 3995, 4575, 1304, 4195, 5520, 5331, 3575], [1580, 1876, 53, 1429, 5576, 1119, 3695, 3372, 135, 4135, 4253, 1332, 2041, 1717, 4406, 241, 3995, 241, 3891], [3848, 3234, 97, 1502, 3164, 5295], [4538, 3774, 1346], [5780, 5279, 4217, 5526, 2670, 3778, 5730, 2305, 1696, 4641, 5780, 3454, 4089, 1332, 5596, 4017, 5001, 601, 3700, 731, 346, 4017, 4077, 5780, 5279, 5585, 5496, 2305, 483, 5101], [3340, 3080, 624, 386, 2429, 5167, 2647, 97, 3429, 4879, 4135, 1838, 5379, 1036], [3340, 3080, 624, 386, 2429, 5167, 2647, 97, 3429, 4879, 4135, 1838, 1036], [3429, 12, 3372, 896, 127, 1616, 3372, 1653, 127, 1616, 5780, 3315, 4705, 3669, 5780, 4421, 836, 3832, 2807, 2664, 3898, 525, 1042], [1442, 4686, 731, 4174, 346, 829, 3106, 5921, 2891, 1580, 1564], [814, 1309, 3157, 5730, 463, 4621, 5769, 4575, 2103, 346, 5161, 3822, 4468, 4437, 1322, 2581, 5321, 3655], [97, 2605, 3995, 27, 3372, 2664, 29, 5101, 732, 4619, 5573, 5216, 5780, 2157, 2992, 3995, 1622], [97, 1502, 2446, 5769, 2295, 2192, 2054, 3700, 3372, 1166, 3057, 1932, 2041, 4716], [2651, 169, 655, 4135, 4623, 3947, 4135, 5198, 2334, 1524, 3035, 3429, 5720, 5895, 567, 5406, 396, 4844, 2244], [1975, 5780, 167, 171, 1085, 1145, 2807, 525, 1332, 5414, 5001, 4614, 1787, 803], [4702, 4696, 169, 4924, 731, 3496, 346, 2018, 12, 2186, 2387, 346, 2254, 5792, 3552, 1808, 4135, 4705, 171, 5756, 256], [3061, 4225, 4738, 555, 5992, 699, 5730, 4417, 3768, 2192, 5326, 167, 4587, 4260, 5769, 5871, 3533, 5001, 619, 2099, 3346, 2664, 1320, 987], [4669, 5711, 5001, 3072, 1580, 1085, 5379, 3253, 5834, 1068], [4669, 5711, 5001, 3072, 1580, 1085, 5379, 3253, 5834, 5379, 1068], [321, 4285, 663, 619, 5481, 2807, 5357, 4540, 4019, 619, 2999, 5216, 5730, 1929, 4738, 4249, 4135, 5964, 619, 1451, 5439, 5145, 2041, 3963], [4077, 5216, 1537, 4575, 1906, 3429, 4724, 169, 3368, 5520, 5921, 4077, 4641, 3575, 6012, 1978, 5520, 5964, 4077, 1414, 1603], [3592, 3883, 898, 638, 4135, 2357, 1332, 3659, 1038, 125], [1418, 2585, 171, 5629, 5780, 3035, 429, 3976, 5769, 4217, 4260, 4705, 1996, 2186, 135, 12, 3900, 1243, 1870, 4641, 940, 2120], [4325, 3874, 5780, 4543, 4586, 2783, 5717, 457, 79, 1580, 5001, 4217, 101, 457, 2076, 5560, 4379, 5371, 2076, 4732, 358, 6033, 125], [3205, 4135, 1959, 2382, 2339, 1959, 3990, 3117, 3742, 5520, 1863, 2728, 6033, 3714, 1291, 1892, 125, 2593], [1848, 5681, 5379, 2807, 553, 2865], [3346, 5289, 4543, 3372, 5911, 1119, 188], [5488, 4260, 2155, 1580, 2186, 3372, 5101, 795, 2435, 1228, 5612], [5232, 3429, 609, 4619, 553, 5730, 1427, 2807, 5851, 5476, 1265, 3976], [1730, 4206, 942, 3454, 2831, 3824, 1580, 5769, 5730, 88, 2807, 1821, 5780, 5375, 5775, 2867, 5730, 3598, 4089, 4221, 3700, 3454, 2889, 3533, 4976], [5780, 5681, 4214, 4135, 2646, 731, 3781, 5780, 1868, 3346, 97, 5172, 2807, 731, 4509, 346, 1424, 3900, 5176], [4155, 1537, 629, 1166, 1996, 4619, 3152, 629, 1840, 4135, 5730, 5716, 4384, 4077, 5735, 4135, 5730, 5716, 3583, 4412, 4135, 5730, 5155], [3372, 3347, 4601, 3372, 5561, 4315, 4601, 5780, 2357, 1332, 369, 3415, 4601, 1876, 1429, 427, 3035, 4939, 4601, 1876, 943, 1346], [731, 346, 5730, 2422, 125, 5120, 3372, 5735, 4132, 4135, 589, 5520, 4619, 2585, 5428, 2585, 3519, 4304, 2723, 4732], [2128, 3402, 2807, 3717, 5216, 37, 5863, 4089, 5730, 4756, 2355], [3976, 1038, 2433, 4575, 1839, 5421, 3976, 1038, 2433, 4575, 3167, 1674, 4077, 2613, 3701, 4619, 2192], [3652, 2688, 3976, 3035, 1652, 4870, 5520, 5921, 4256, 223, 125, 2426], [5730, 5101, 2929, 3900, 3113, 4089, 171, 1988, 4798, 594, 346, 5730, 3159, 870, 2201, 5582, 4415, 4077, 2193, 4198, 5780, 5964, 4619], [5780, 525, 1332, 1833, 732, 1868, 4619, 732, 525, 4619, 1608, 2807, 732, 1868, 4619, 2663, 346, 337], [2625, 5780, 3454, 3340, 1049, 5780, 169, 1808, 4307, 641, 4846, 5399], [1241, 2526, 2295, 171, 4614, 4562, 2597, 88, 5780, 167, 171, 1295, 4543, 818, 2041], [1241, 2526, 2295, 171, 4614, 4562, 2597, 88, 5780, 167, 171, 1295, 4543, 818], [4940, 4608, 5730, 2584, 1351, 3971, 5534, 1607, 1771, 1656, 5751, 3900, 1332, 5515, 5099, 551, 456, 6020, 3844, 4342], [5730, 4148, 5730, 162, 3343, 3343, 1046, 5730, 5491, 346, 4520, 5491, 346, 1424, 4602, 658, 5730, 5399, 3342, 5], [5964, 346, 2186, 2192, 4575, 2289, 2807, 2192, 4575, 1346, 2807, 2192, 4575, 3214, 1038, 4081, 5520, 4014, 352], [3226, 5780, 1502, 3676, 3976, 2538, 5058, 4195, 4135, 251, 1932, 5730, 589, 5780, 2624, 5706, 3372, 2433, 3630, 4135, 1172, 4619, 5379], [3226, 5780, 1502, 3676, 3976, 2538, 5058, 4195, 4135, 251, 1932, 5730, 589, 5780, 2624, 5706, 3372, 2433, 3630, 4135, 1172, 4619], [2605, 1059, 1821, 663, 171, 5575, 5792, 4202, 227, 4135, 898, 5549, 4993], [3346, 5235, 2831, 3372, 5101], [288, 5780, 1433, 2429, 2807, 5730, 911, 2605, 429, 1580, 4135, 2573, 5110, 1346], [4395, 632, 5769, 83, 1771, 3570, 5730, 5971, 5792, 5375, 171, 2132, 4929, 3778, 4661, 1038, 1524, 5769, 4121, 4023, 898, 2875], [4978, 3372, 2605, 171, 5761, 773, 5341, 3900, 1275, 3575, 12, 2970, 5780, 169, 4214, 4135, 876, 5730, 4852, 2585, 1907, 5850, 352, 1876, 5690], [2596, 4278, 847, 3372, 2628, 1477, 2041, 366, 3241, 4740, 1346, 5965, 3900, 1501, 2807, 1332, 2899, 4135, 898, 5732, 5520, 2281], [731, 196, 4202, 4851, 4412, 5001, 2738, 5756, 3659, 4591, 5379], [731, 196, 4202, 4851, 4412, 5001, 2738, 5756, 3659, 4591], [1502, 2714, 5730, 3143, 2241, 1805, 2807, 5371, 5730, 5499, 3143, 5814, 2798, 663, 4587, 5730, 829, 4611, 2585, 1537, 5730, 178], [3080, 624, 386, 2425, 3835, 2596, 1932, 171, 1878, 3565, 1176, 1932, 5980, 4730, 2820, 4342], [4260, 1038, 3398, 3844, 4879, 4135, 4608, 5520, 2393, 1111, 1090, 4743, 2738, 3975, 5379], [4260, 1038, 3398, 3844, 4879, 4135, 4608, 5520, 2393, 1111, 1090, 4743, 2738, 3975], [1664, 3429, 2186, 5780, 1410, 731, 3219, 174, 450, 1427, 4307, 3287, 2088, 5792, 2738, 516, 3900, 1902, 555, 2664, 5664], [4046, 2807, 97, 237, 3234, 4584, 1057], [4618, 4325, 5761, 402, 4135, 525, 1878, 3346, 4932, 3976, 3345, 663, 2095, 1746], [4951, 2664, 368, 5730, 41, 4861, 3683, 5871, 2423, 1502, 3683, 167, 237, 1996, 1502, 4543, 3683, 1038, 3657, 1290, 3211, 88, 5730, 1897, 346, 4396, 2334], [3486, 4135, 4705, 171, 2458, 3900, 619, 3371, 3234], [5559, 346, 5216, 3372, 5681, 1119, 2807, 1370, 3253, 5541, 2807, 731, 346, 386, 5780, 4608, 5203], [53, 5780, 2605, 1270, 5730, 2488, 3900, 1332, 1489, 2527, 171, 5575], [2295, 4738, 5893, 1580, 4587, 5780, 5375, 4135, 4582, 619, 1932, 171, 2897, 5130, 1989], [174, 2909, 3562, 346, 4996], [4627, 4816, 898, 2664, 2886, 2901, 439, 1907, 1052, 117, 3900, 3704, 5724, 41, 4756, 1502, 3372, 3657, 5751, 88, 4135, 823, 1588, 3976, 4944], [5780, 2495, 5730, 1184, 6021, 5188, 4870, 4742, 3575, 4135, 5730, 1427, 1424, 2807, 5780, 3315, 4851, 5035, 1657, 3346, 5780, 1808, 4135, 4586, 5730, 1184], [4851, 1537, 4619, 203, 5216, 3683, 1038, 4079, 5730, 4053, 3900, 5769, 346, 5871, 53, 5585, 3089, 4587, 2807, 242], [4487, 779, 731, 2265, 1346, 4077, 3868, 570, 1008], [5921, 3788, 157, 5340, 438, 4135, 1580, 3749, 3234, 1580], [169, 829, 5178], [3107, 1172, 4575, 2712, 3514, 2465, 1524, 3035, 3985, 2512, 2807, 1745, 3976, 4135, 171, 5904, 5001, 1939, 169, 5951, 1932, 2041], [275, 3372, 1502, 5220, 5001, 4916, 3760, 814, 4619, 3346, 3760, 1316, 4918, 3253, 4619, 5149, 474], [1675, 72, 3619, 2756, 5933, 1380, 5792, 344, 2738, 2828, 4851, 3515, 5703, 5520, 1251, 3253, 974, 2567, 1391], [3398, 4135, 5570, 171, 1732, 346, 3234, 2186, 97, 171, 791], [1796, 663, 169, 5857, 814, 1580, 4135, 171, 3326, 3900, 2879, 4426, 2186, 5780, 2992, 4135, 1848, 5341, 1966], [241, 5730, 1052, 1580, 2737, 1671, 1250, 5101, 3545, 5212], [585, 632, 97, 3429, 2495, 5730, 249, 1808, 4135, 3422, 4587, 5730, 4633, 5669, 3778, 5730, 4033, 2904, 5769, 1320, 5836, 4619, 4771, 3147], [346, 5769, 896, 2154, 4705, 171, 2779, 258, 4256, 2793, 4135, 2065, 4773, 5866], [57, 1191, 693, 2041, 5421, 346, 4619, 4014, 1381, 3900, 3649], [4345, 1592, 2640, 5964, 3080, 1357, 3775, 5639, 5528, 1343, 4017, 911, 957, 3232, 627, 5101], [140, 386, 4260, 898, 5301, 2041, 5780, 5508, 3676, 5756, 2041, 705, 1332, 2268, 4706, 1168, 5730, 2268, 2573, 2207, 5216, 97, 3465], [937, 5780, 3035, 3504, 1932, 1332, 2931, 2623, 5520, 1332, 5331, 2807, 4619, 4816, 2192, 1427, 4089, 1332, 857], [5780, 2624, 2471, 4589, 1332, 4570, 167, 5531, 5379, 4690, 795, 5657], [5780, 2624, 2471, 4589, 1332, 4570, 167, 5531, 4690, 795, 5657], [4195, 2670, 5851, 1580, 4586, 2209, 5780, 4586, 1932, 4619, 845], [2186, 4619, 5571, 4135, 2851, 5780, 4705, 5585, 2857, 5990, 3778, 4335, 5216, 5780, 4705, 1424, 5520, 4070, 252, 5421, 5604], [2561, 4017, 4135, 3442, 1860, 4089, 5730, 4183, 2192, 5780, 3835, 4586, 346, 2596, 4587, 4135, 5035, 4454, 3071, 4734, 3984], [2561, 4017, 4135, 3442, 1860, 4089, 5730, 4183, 2192, 5780, 3835, 4586, 346, 2596, 4587, 4135, 5035, 4454, 3071, 4734, 4918, 3984], [1865, 5792, 555, 5375, 171, 4996, 2965, 5980, 2433, 4135, 5745, 4133, 5368, 167, 5520, 5730, 2488, 3900, 171, 5845, 3900, 1469, 4818, 3430, 5107], [1309, 1258, 5001, 525, 2360, 3659, 3242, 2967, 3867, 2807, 199, 2855, 4198, 2585, 4404], [2045, 3778, 3062, 1932, 171, 2916, 1806, 1319, 20, 3198, 1848, 123, 2807, 3372, 4089, 2770, 5428, 4342], [3296, 795, 4406, 5780, 2646, 5769, 3346, 5780, 5992, 3575, 2807, 3315, 3183, 1288, 1249, 400, 4260, 3100, 5780, 4932, 2079, 167, 1580, 1267], [5711, 4135, 2192, 5730, 5101, 3914, 5730, 5756, 1468, 3900, 5730, 4756, 5671], [3346, 3080, 4816, 5126, 5730, 1711, 4135, 6012, 3326, 3900, 575, 2664, 434, 399, 3876, 1487, 5894, 399, 1524, 823], [4115, 1053, 732, 4256, 2738, 5331, 2807, 732, 8, 4586, 2433, 4646, 3900, 788, 1668, 1537, 3976, 2495, 3005, 2596, 4993, 4135, 5476, 2807, 4464, 2738, 1353], [643, 2537, 4023, 3429, 898, 5001, 4843, 4634, 2807, 221], [5145, 4135, 3010, 5769, 3976, 2357, 843, 1090, 5554, 4991, 1429, 525, 4135, 2877, 843, 346, 5216, 4958, 3976, 2357, 3147, 4988], [386, 1661, 285, 1173, 5769, 1878, 3822, 4135, 5313, 4587, 5387, 1317, 5792, 3602, 203, 1502, 1906, 2807, 5546, 4089, 5730, 3537, 2664, 104, 795, 2858, 5792, 769, 1661], [3695, 2454, 3309, 2495, 2433, 5570, 5769, 362, 4413, 4307, 3334, 386, 1705, 1332, 428, 4608, 5451, 5338, 1502, 166, 1564, 1359, 3255], [4191, 5711, 4135, 5412, 4077, 2367, 5001, 3571, 345, 3532, 4077, 530, 731, 845, 759, 5326, 4471], [4663, 58, 3478], [5511, 174, 1932, 4523, 1309, 346, 5063, 1932, 1332, 857, 2807, 1309, 525, 3706], [3512, 97, 4879, 5001, 3423, 4763, 4135, 342, 2974, 2467, 5730, 3744, 346, 27, 3976, 1713, 2867, 5730, 1723, 2488, 3900, 5730, 5355, 731, 3496, 346, 3828], [5730, 3530, 3537, 5780, 1172, 3900, 5730, 4198, 5780, 1640, 4256, 4089, 2098, 1038, 1502, 3373, 3234, 4601, 261, 2664, 3326, 3760, 4737, 898, 3346, 4627], [3899, 3346, 632, 5792, 4651, 5751, 4220, 2807, 5264, 5880, 1813, 964, 4089, 3901, 2082, 1326, 207, 4140, 835], [4848, 4575, 1139, 346, 5722, 169, 4705, 1996, 12, 629, 5046, 4575, 1139, 4135, 5921, 2562, 3976, 4816, 4705, 4627], [1759, 3806, 4658, 4651, 88, 4089, 4162, 1152, 4800, 4135, 1907, 4401, 5508, 2284, 5520, 2974, 5172, 4619, 346, 3942, 2433, 171, 2465], [4652, 4844, 4089, 5541, 4054, 2807, 2476, 3622, 6012, 3694, 1038, 1502, 829, 641, 4429, 898, 1502, 878], [2383, 5780, 5216, 1554, 643, 6025], [1820, 851, 3979, 2041, 2602, 366, 2807, 454, 5730, 2577, 4727], [4330, 5001, 5730, 3423, 98, 3976, 1808, 2592, 2250, 3995, 4575, 3249, 2807, 3976, 1038, 1163, 2433, 4135, 898, 1502, 1334, 4019, 5298], [2831, 5780, 209, 4826, 1848, 5730, 2615, 5520, 1332, 2840, 5780, 209, 4826, 898, 525, 4089, 4575, 4990, 3161], [3766, 169, 2357, 386, 3372, 1502, 1906, 3423, 3900, 5730, 88, 5780, 3429, 4214, 4619, 2192, 4135, 2573, 1574], [3766, 169, 2357, 386, 3372, 1502, 1906, 3423, 3900, 5730, 88, 5780, 3429, 4214, 4619, 2192, 4135, 2573, 1906, 2041, 1574], [2166, 5570, 1356, 760, 906, 4346, 1368, 345, 171, 3682, 2346, 1723, 466, 1577], [222, 5639, 1524, 849, 163, 3234], [5914, 5150, 1838, 5730, 4335, 3346, 4619, 4816, 2948], [4526, 4654, 3449, 2692], [731, 4296, 171, 5499, 5948, 3346, 1332, 5660, 346, 5769, 5001, 2192, 5730, 5686, 3372, 1166, 3129, 3129, 5769, 5780, 4705, 4135, 898, 3100, 5780, 5279], [4357, 4685, 1398, 253, 1502, 3976, 5871, 5731, 4917, 960, 5520, 2859, 5379], [4357, 4685, 1398, 253, 1502, 3976, 5871, 5731, 4917, 960, 5520, 2859], [927, 249, 3683, 2975, 631, 5780, 525, 1332, 1744, 731, 4521], [2924, 2807, 5066, 4575, 5378, 4575, 4360, 5295, 4619, 587, 191, 3795, 86, 4575, 5563, 4135, 5101, 3575, 1157, 1321], [5087, 4406, 5780, 290, 5198, 4619, 3346, 3372, 1881, 5780, 2772, 4619, 5730, 41, 88, 5780, 1798], [3461, 1332, 1309, 3429, 5775], [5780, 1848, 5216, 5689, 5730, 5351, 5340, 1346, 4917, 4265, 2312, 2807, 5730, 1509, 5421, 5751, 4415, 5379, 4732, 2041, 5379, 1346], [1667, 1462, 3710, 346, 2340, 3065, 1308, 3832, 4641, 785, 4304, 4732, 125], [2890, 5780, 614, 4226, 2186, 3976, 5703, 4089, 2989, 2807, 4597, 2974, 281], [920, 632, 3274, 327, 346, 2664, 29, 1932, 345, 4176, 5127, 1138, 1641], [2684, 1429, 2670, 171, 4256, 1429, 3724, 3050, 3900, 4095, 280, 5051, 5780, 4072, 1507, 1157, 4306, 4095, 346, 4342], [2684, 1429, 2670, 171, 4256, 1429, 3724, 3050, 3900, 4095, 280, 5051, 5780, 4072, 1507, 1157, 4306, 4095, 346], [5180, 3966, 5309, 1098, 3695, 3372, 3844, 1052, 2807, 3844, 2933, 3253, 5971, 4077, 126, 4135, 898, 1996], [3806, 4135, 1332, 339, 5730, 4415, 5836, 3835, 5836, 5101, 5049, 3486, 1580, 4738, 3806, 5753, 507, 2854, 3900, 5576, 2119, 4402, 4813, 1482, 5101], [97, 1119, 3234, 2186, 4008, 3330, 2966, 5520, 4136, 484, 5978], [2642, 525, 1113, 4098, 3900, 4197], [4795, 661, 663, 2211, 2807, 3076, 5780, 1868, 4619, 3492, 5896, 3778, 1308, 4256, 870, 987, 4135, 898, 3398, 3429, 171, 5761, 3844, 4879, 2433, 5001, 1580], [5138, 4845, 2259, 4135, 4646, 5639, 5214, 4851, 4006, 3976, 4705, 1580, 5050], [1689, 2020, 2681, 3304, 125, 6033, 4917, 2252, 5730, 950, 1655, 1320, 5964, 4917, 3933, 4721, 327], [3760, 4959, 3533, 1821, 4135, 1351, 5921, 180, 5769, 4918, 699, 1933], [5194, 1524, 1172, 5730, 3129, 5045, 2433, 5730, 2304, 5780, 2647, 1848, 4728, 2041, 366, 3141], [5194, 1524, 1172, 5730, 3129, 5045, 2433, 5730, 2304, 5780, 2647, 1848, 4728, 366, 3141], [2812, 4996, 5836, 3778, 3934, 4165, 4543, 3372, 1081, 898, 402, 5001, 4413, 4165, 3372, 5821, 4089, 3925, 4165, 4543, 5780, 1808, 4135, 3934, 171, 4756, 4754, 3844], [6026, 4249, 171, 2384, 3346, 169, 2451, 4135, 2015, 1537, 3976, 4214, 4135, 898, 171, 176, 5172], [975, 3346, 1166, 4575, 1332, 4377, 352, 4089, 3716, 5129, 4342], [5231, 4630, 5780, 1089, 731, 571, 4692, 3036, 6031, 525, 171, 4407, 3900, 3242, 5099, 5203, 5780, 4229, 4135, 1736], [1681, 731, 346, 1332, 2968, 211, 1502, 661, 731, 346, 4271, 1332, 3423, 3234, 12, 3372, 4344, 5263, 5769, 3372, 2433, 2588, 5001, 1666], [5939, 5473, 3723, 1227, 5399, 2795, 1408], [4816, 5695, 3379, 1332, 2041, 3814, 4282], [1537, 3976, 5964, 1458, 5851, 4619, 2596, 1537, 4619, 5571, 4993, 4619, 346, 3697, 1537, 4619, 4202, 4619, 3206, 4816, 1346, 3939], [12, 171, 3376, 1427, 4135, 3976, 346, 2433, 171, 3376, 1427, 4135, 1580, 4079, 117], [4930, 3234], [2408, 3330, 5730, 1427, 1932, 171, 5847, 3047, 5730, 3186, 3894], [5780, 1848, 5216, 1907, 5651, 5780, 169, 1808, 171, 6015, 5379, 1507, 2041, 593, 2055, 1480, 1346, 2085, 1653, 3067, 5541], [3346, 346, 4619, 4575, 602, 3976, 969, 4879, 2807, 5992, 5730, 1252, 27, 5085, 4619, 2192, 5549, 699, 2664, 1502, 5851, 4619, 898, 943, 2807, 3342, 3575], [5780, 1848, 5216, 171, 2330, 485, 5836, 5769, 5780, 1189, 3346, 5780, 169, 2357, 2974, 4135, 4705, 4587, 3900, 731, 46, 5780, 4705, 1502, 1996, 2192, 5780, 3835, 4586, 346, 5802, 4019, 3004], [4152, 4008, 2357, 3753, 589, 5769, 1414, 3897, 1332, 5341, 4010], [5780, 4913, 5921, 3478, 5921, 663, 4921, 6012, 2128, 3429, 12, 3976, 4214, 4135, 2471, 4089, 3123, 4202, 1616, 5921, 2120, 4023], [3976, 2855, 5342, 1502, 4090, 5769, 5703, 4008, 2466, 4328], [770, 3976, 1038, 4342, 687], [3033, 4089, 5730, 5578, 2406, 5730, 1041, 118, 6008, 4816, 2433, 4924, 3995, 5730, 3314, 2531, 3900, 1290, 1669], [5730, 5379, 1702, 2186, 4008, 5410, 4089, 1907, 5633, 3727, 4008, 1003, 2807, 823, 4917, 974, 2807, 297], [5780, 2624, 4851, 4501, 1332, 112, 5421, 5198, 1332, 5458, 4601, 2965, 78, 4686, 346, 5769, 2870, 66], [4342, 2807, 4646, 1079, 4412, 3778, 3644, 2807, 1332, 3659, 4166, 1685, 4323, 3700, 5001, 731, 2204, 1876, 969, 4323, 3700, 5001, 731, 2571], [4543, 3372, 2192, 593, 2807, 1332, 4640, 2220, 4135, 2612], [4087, 4816, 717, 5730, 2099, 3778, 5730, 41, 158, 2807, 2689, 4816, 3010, 2014, 5992, 731, 5054, 3724, 4087, 717, 3778, 5730, 2488, 3219, 4797], [5257, 346, 5769, 4335, 5421, 4586, 3976, 3429, 4214, 5476, 4135, 4705, 4014, 4686, 3900, 3755, 2807, 1103], [3780, 3988, 3372, 4627, 5851, 1580, 2357, 5101], [3780, 3988, 3372, 4627, 5851, 1580, 2357], [1999, 3265, 525, 171, 117, 3844], [5370, 1127, 1553, 2711, 5730, 4412, 3900, 4646], [226, 323, 4737, 5921, 5769, 2538, 693, 619, 2748, 1658, 619, 1896, 4363, 2433, 3584, 4991, 5690, 171, 1878, 593, 4089, 5730, 1182, 2807, 323], [4794, 2711, 5289, 5780, 1616, 5780, 3676, 3976, 2529, 1429, 1996, 4135, 1172, 3732, 12, 1502, 2283, 684, 5681], [1502, 4342, 3113, 3575, 3778, 4614], [4769, 3900, 1332, 5541, 4991, 4135, 3775, 4135, 171, 1873, 5660, 732, 4135, 171, 1561, 5001, 2390, 4089, 1441, 3997, 732, 4135, 5730, 1236, 2192, 5001, 171, 4670, 5380, 4342], [1412, 3695, 4506, 5898, 125, 1720, 5647, 5196], [3068, 1241, 3047, 1537, 1876, 1996, 3976, 2948], [1076, 5730, 1899, 346, 235, 5001, 5730, 4423, 632, 5730, 1052, 965, 4089, 5730, 5185, 3172, 2043, 5158, 4135, 5730, 3699, 5242, 255], [3305, 5730, 1427, 2807, 5570, 4575, 1229, 4277], [619, 5928, 346, 171, 5399, 3290, 5448, 2993], [5573, 5216, 5780, 525, 1332, 2968, 117, 525, 2691, 304], [5024, 5848, 4656, 346, 1290, 2233, 950, 33, 5769, 1427, 4089, 2915], [1758, 588, 4643, 2396], [4291, 1146, 3728, 2949, 4555, 2717, 5421, 4753, 125, 3801, 1332, 570], [887, 1945, 5792, 5375, 1429, 4984, 4323, 158, 5495, 4917, 3423, 125, 5520, 2670, 3371], [97, 1429, 739, 2031, 2807, 5780, 1166, 2596, 4818, 2041, 4716], [4260, 3844, 380, 4135, 498, 6012, 5596, 2128, 4816, 2605, 2877, 171, 3486, 4135, 3478, 3697], [3567, 3519, 3918, 2512, 346, 2968, 2433, 4506, 4256, 2164, 2554, 5846, 4135, 429, 2831, 98, 3900, 4646, 346, 1542, 2831, 346, 4660], [4533, 5707, 4061, 1336, 5780, 1172, 1332, 580, 5730, 5022, 128, 2676, 346, 171, 845, 791], [2462, 4155, 1537, 629, 1166, 1996, 4619, 3152, 4136, 1840, 4135, 5730, 5716, 4384, 4077, 5735, 4135, 5730, 5716, 3583, 4412, 4135, 5730, 5155], [3976, 2357, 2186, 629, 3429, 3548, 4843, 5730, 4606, 4512, 5101, 2807, 4843, 3106, 241, 4315, 5780, 3676, 5780, 2538, 1848, 5216, 5769, 917], [1537, 1949, 4816, 4465, 3372, 1081, 4465, 1932, 4942, 1346, 2321], [3206, 5851, 5730, 1346, 3900, 4575, 4221, 599, 4575, 2234], [4527, 2711, 5780, 3035, 169, 3478, 1580], [4595, 1554, 5399, 3254, 1038, 1305, 568, 4089, 419], [1422, 1537, 5780, 2596, 3372, 3630, 4135, 2746, 5751, 5172, 1821, 140, 1537, 241, 171, 195, 3372, 523, 1932, 5570], [1600, 166, 1346, 2807, 1296], [5585, 3234, 3162, 1332, 2930, 1872, 4950, 4135, 2596, 5520, 5622, 4213, 2807, 3372, 3429, 3881, 2670, 3004], [97, 171, 643, 5836, 3372, 2138, 4089, 1332, 3992, 3724, 2636, 2630, 765, 2807, 5780, 450, 898, 4217, 4725, 5421, 3129, 4169], [1302, 5992, 3778, 3739, 4601, 776, 6026, 2670], [5241, 3047, 5780, 4651, 3976, 5780, 5992, 3575, 402, 5632, 2807, 3403, 5541], [5693, 731, 346, 1907, 5625, 3167, 5001, 1580, 2807, 5730, 3340, 3379, 346, 4217, 2215], [97, 2605, 3234, 4135, 4541, 5676, 1115, 5270, 2433, 4917, 2968, 3346, 4917, 982, 90, 4089, 5073, 3900, 2747, 2154], [4249, 428, 4135, 4412, 171, 4324, 3328, 400, 2690, 1747, 4165, 4437, 3376, 1427, 2807, 1259, 1185, 3710], [6012, 5799, 413, 5520, 1238, 8, 4603, 395, 407, 668, 4066, 317, 2885, 2287, 3411, 4077, 2177, 2542, 971, 2914, 4595, 1906], [2493, 2981, 1488, 4940, 4996, 5780, 1172], [1840, 4135, 1052, 3739, 1696, 4732, 2847, 4141, 5022, 4019, 1256, 4619, 4993, 125], [5780, 3658, 1848, 5216, 3026, 555, 5730, 681, 4135, 5570, 171, 4902, 4587, 3900, 940, 3045, 4902, 1811, 4902, 3449, 860, 4902, 6001, 4902], [4885, 1537, 241, 491, 5780, 2624, 1572, 4135, 1172, 5172, 92, 1861], [5505, 5780, 2357, 4716, 1332, 1309, 5775, 2867, 1332, 2454], [2974, 2283, 4779, 346, 5769, 4543, 2974, 3641, 3454, 5780, 3630, 3080, 5780, 5964, 3113, 5101, 2807, 1200], [736, 756, 795, 731, 5836, 346, 3844, 643, 5001, 3113, 4260, 1302, 2767, 2807, 5992, 4089, 3992], [2075, 3340, 3181, 2041, 4312, 4816, 4705, 731, 1320, 1267], [3372, 5735, 5001, 171, 3533, 1019, 6033, 125], [1293, 4064, 4014, 1906, 47, 87], [2186, 5780, 3454, 4555, 5780, 4608, 5730, 1025, 1952, 2253, 5020, 3346, 5735, 4993, 4619, 3454, 5730, 3340, 6013, 5769, 969, 1592, 5101, 4276], [2224, 5780, 1808, 587, 4077, 241, 5730, 3340, 1320, 5780, 3315, 5216, 2948, 3704, 5571, 4587, 3581, 97, 5730, 3340, 5399, 2474, 4917, 619, 5780, 1808, 2334], [5780, 2357, 97, 5730, 5578, 5836, 3900, 2196, 2186, 97, 5730, 4968, 3900, 1799, 1346], [525, 623, 2555, 2530, 5780, 167, 3545, 974, 2375, 4077, 1876, 1529, 663, 171, 4398, 417, 4135, 171, 373, 417, 4089, 4115, 2031, 4752, 3269], [1883, 386, 346, 731, 434, 4857, 997, 1166, 1032, 3253, 5730, 5716, 4260, 4465, 3372, 5328, 3976, 4586, 3976, 256, 4342, 5855], [1469, 5871, 5730, 1308, 5780, 1410, 5780, 3035, 3206, 898, 5101, 3346, 1166, 2738, 200, 1038, 5668, 1332, 4286, 2286], [4400, 5792, 3429, 555, 5769, 3486, 3900, 2111, 5792, 4249, 4490, 5639, 644, 663, 4490, 4646], [531, 632, 5780, 169, 4932, 4045, 1172, 3976, 5520, 3473, 3346, 1808, 3652, 629, 1081, 6033, 1183, 4466], [1015, 2600, 2975, 5780, 2605, 3010, 4619, 3454, 5730, 2968, 88, 3900, 1332, 5541, 5780, 1004, 1332, 3450, 553, 2807, 4619, 3454, 1502, 3234], [5286, 169, 4924, 261, 4014, 2099, 5520, 3778, 5932, 1962], [5771, 4934, 1808, 2605, 1429, 2867, 4753, 2807, 125, 5730, 1192, 5399, 1117, 3900, 4753, 4029, 5069, 5216, 4317, 4077, 2601, 5871, 2893, 5520, 3679], [3766, 439, 5780, 3429, 5053, 5216, 937, 1728, 4007, 5001, 1580, 5379], [3766, 439, 5780, 3429, 5053, 5216, 937, 1728, 4007, 5001, 1580], [1158, 3206, 171, 829, 1702, 5639, 3976, 5375, 171, 2122, 5006, 553], [2127, 1247, 5635, 4064, 2433, 1608, 5379], [2127, 1247, 5635, 4064, 2433, 1608], [3488, 2532, 2755, 2433, 3340, 2495, 2433, 589, 3575, 2708, 4089, 4847, 2162, 619, 4089, 1241, 3346, 5792, 2495, 2433, 3478, 4162, 6031, 2346, 3181], [3372, 4991, 5730, 2268, 4686, 5554, 2807, 5780, 2624, 4851, 2596, 4017, 724, 4135, 3429, 3255, 4089, 1332, 3992], [167, 171, 5172, 3981, 6009, 2212, 2200, 3995, 2670], [5754, 5780, 6028, 5780, 4816, 2433, 2596, 5198, 3417], [5714, 4325, 3683, 4608, 5769, 629, 1906, 4575, 1627, 1074, 3630, 3575, 2831, 5722, 2154, 4586, 3976, 4214, 1932, 4575, 48, 902], [564, 4604, 3372, 3429, 171, 2214, 5001, 3449, 5780, 3835, 3965, 3976, 3575, 5780, 3835, 3199, 3976, 553, 3372, 3429, 171, 2214, 5001, 3449, 2952], [2437, 3582, 4163, 2915, 5908, 1761, 632, 3545, 174, 1292], [997, 1661, 767, 5001, 3440, 5769, 3515, 1086, 3496, 4135, 3478, 2393, 663, 5746, 2738, 5928, 2807, 1309, 3253, 764], [4244, 3035, 1920, 3721, 847, 2573, 1251, 3976, 1038, 1927, 3976, 2684, 5690, 5730, 3758, 2530, 5730, 5237, 929], [2192, 3934, 2807, 2664, 589, 2914, 4187, 171, 829, 3182], [2711, 5780, 5279, 3895, 3575, 5587, 2807, 3449, 1159, 4089, 1332, 686, 3091], [3162, 1907, 1052, 3055, 2807, 2738, 2721, 5198, 5730, 1916, 3900, 6012, 3127, 4174, 1052, 1647, 3454, 1320, 3900, 5730, 620, 2429, 1876, 5554, 5690, 138], [3035, 4619, 4602, 643, 3346, 4705, 1554, 99], [3847, 2313, 3080, 5399], [3847, 2313, 3080], [731, 346, 5730, 2965, 88, 1876, 1429, 5101, 5520, 1332, 4138, 4089, 4614, 3700, 1592, 4887, 5101, 972, 3834], [1808, 4307, 3900, 3976, 5554, 5992, 4089, 1832, 3118, 1332, 3340, 4167, 3900, 1818, 346, 5730, 1419, 5431, 2807, 3683, 2192, 2357, 2974, 5769, 4747], [5730, 6013, 1932, 2859, 346, 5780, 3340, 4848, 4135, 5349, 2186, 3372, 5546, 5421, 593, 2807, 732, 4619, 5571, 2001, 5216, 5780, 1808, 171, 5681, 829, 2807, 5379, 5433], [5780, 655, 2192, 4575, 1547, 1537, 5780, 169, 4045, 4918], [4619, 209, 390, 97, 171, 3533, 4174, 5001, 5730, 125], [853, 5711, 5001, 1566, 5747, 5563, 2029, 4077, 1167, 345, 961, 1144, 540, 1420, 4200, 125], [3134, 5780, 4816, 1351, 3193, 2186, 4619, 5637, 4089, 714, 4089, 171, 4686, 1588, 3976, 5001, 3072, 4619, 2807, 169, 898, 1996], [3695, 5780, 5375, 846, 5001, 439, 2664, 2596, 1906], [4039, 2807, 3449, 4091, 5794], [1078, 1436, 3755, 4575, 5341, 5331, 2670], [1876, 1429, 406, 3976, 3844, 5054, 1538, 125], [3840, 2664, 5780, 5279, 1882, 5730, 352, 3423, 5662, 4135, 1771, 1838, 2974, 3811, 3976, 5871, 4135, 268, 2974, 3181, 5769, 346, 632], [4292, 3283, 4793, 727, 169, 589, 1932, 731, 3085, 1644, 4008, 4214, 4135, 717, 5172], [2869, 1268, 5780, 2624, 3342, 2974, 2283, 1308, 1876, 5375, 5730, 3557, 4112, 3469, 5897, 5751, 5172, 139, 415], [3575, 5520, 5499, 5413], [3791, 3454, 55, 5335, 4619, 4072, 5558, 4917, 3549, 4056, 147, 5730, 5879, 3454, 2738, 5596, 829, 4165, 1121], [797, 1332, 4103, 4089, 5730, 1427, 6004, 5197, 3346, 1961, 2120, 5042, 5203, 5001, 5541, 1090, 4732, 27, 5780, 5094, 1332, 4884, 4089], [3163, 5836, 2259, 4686, 3833, 5730, 2183, 2807, 1351, 5730, 5648], [3956, 2069, 3976, 167, 2634, 5520, 4575, 2886, 314, 4342, 4917, 434, 5882, 1612, 6021, 5755, 4323, 2807, 5755, 274, 439], [2974, 5054, 4816, 1524, 5198, 1580], [3936, 5780, 2357, 3874, 5769, 1427, 4945, 2867, 5730, 2099, 2807, 3340, 4135, 2199, 171, 2902, 2807, 589, 5039, 3346, 731, 3632, 3976, 5570, 2434, 5520, 5039], [5482, 2857, 5892, 4007, 5792, 1429, 2857, 4996, 1608, 4486, 555, 4348, 3383], [5261, 125, 3273, 1580, 4879, 2419, 1641], [4584, 174, 1038, 3976, 3559, 488, 174, 3372, 1804, 3976, 3429, 4843, 2585, 4119, 5751, 4298, 4786, 4089, 5730, 4236, 5641, 5067, 5101], [1705, 4738, 5681, 655, 4135, 4918, 2192, 5730, 88, 3822, 5520, 1332, 2880, 3029], [724, 1608, 4014, 4756, 5780, 1302, 5992, 4664], [5751, 2742, 3976, 4705, 5520, 2859, 5570, 3976, 4214, 4135, 4646, 122, 1429, 1502, 2424, 3683, 2177, 3346, 5763, 3824, 2429, 2538, 898, 3832], [97, 1166, 2433, 5775, 4089, 5769, 3372, 3162, 718, 2259, 4562, 3372, 1502, 5496, 2807, 391, 1414], [3736, 5780, 2357, 5289, 5780, 5375, 171, 1055, 3900, 5730, 2975, 1410, 1881, 97, 2633, 663, 4212, 2737, 3129, 5730, 1715, 5992, 2386, 2295, 102], [2876, 1241, 269, 1241, 269, 2857, 4996, 3508], [100, 619, 1741, 3179, 5116, 3955, 1932, 1469, 2899, 125, 2585, 619, 5030, 3842, 3995, 5730, 690, 5792, 5375, 1429, 2996, 3778, 5851, 1580, 5235], [2837, 4406, 4198, 3900, 3017, 1808, 2805, 4983, 2807, 171, 51, 4233, 1580, 5216, 1029, 1361, 5216, 5775, 3346, 647, 1483, 898, 2211, 4079], [3840, 1396, 5627, 4065, 171, 1140, 3900, 1709, 2974, 829], [241, 2974, 3976, 2992, 171, 5326, 241, 2974, 3976, 2485, 5730, 1715, 1715, 4595, 2974, 5399, 4119, 3035, 4705, 202], [3967, 5780, 3315, 3010, 940, 1806, 3253, 5730, 2200, 2681, 687, 2624, 5706, 5751, 5871, 2914, 1580, 4646, 3900, 405], [5780, 2357, 1876, 4216, 2003, 171, 4342, 2497, 3900, 4575, 1563, 3346, 1537, 3976, 4269, 1800, 2670, 3683, 4816, 5127, 6022, 4465], [5780, 3766, 1848, 2434, 4880, 65, 3900, 1332, 641, 2807, 97, 1119, 3234], [4900, 4954, 1890, 1881, 5730, 4095, 637, 3454, 1502, 2506, 12, 5730, 2481, 4348, 1119, 845], [455, 174, 4176, 2012, 346, 534, 5071, 5780, 4932, 4008, 655, 4135, 898, 5730, 4564, 5172, 4601, 5279, 4835, 2434], [1289, 4023, 4464, 4558, 386, 3749, 1502, 1906, 2807, 386, 1524, 39, 5964, 4089, 6012, 3694, 346, 4619, 46, 1524, 1038, 107, 171, 5981, 2099], [5541, 346, 4879, 97, 3826, 1537, 4136, 4396, 5541, 5964, 3631, 5124, 4011, 1323], [5541, 346, 4879, 97, 3826, 1537, 4136, 4396, 5541, 5964, 1346, 3631, 5124, 4011, 1323], [4875, 5235, 2831, 3372, 5576, 3724, 4575, 2681, 980, 1427, 5730, 2062], [5780, 5279, 206, 5769, 4738, 5053, 2211, 1906], [3129, 4138, 3066, 2291, 644, 5520, 731, 5836, 4089, 3882, 4044, 4304, 125, 2185], [5072, 125, 3683, 1038, 4115, 4017, 5192, 4278, 663, 4014, 4317, 5253, 5780, 5964, 1469, 2361, 4278, 2537, 3113, 5520, 5298, 3778, 4017, 847, 2392], [706, 1058, 171, 2760, 1676, 3900, 2044, 158, 5101, 2530, 5946, 2265, 2496], [5520, 5730, 715, 2585, 3683, 477, 5801, 2807, 2193, 68, 3900, 5929, 2585, 4042, 1932, 171, 829, 2087, 4089, 5541], [5523, 5379, 4260, 1038, 5769, 2557, 2807, 3397, 4823], [731, 2930, 359, 2604, 3552, 5948, 2867, 171, 3151, 3929, 2443, 555, 2664, 3665, 3253, 5769, 1723, 4857, 2635, 4089, 3355, 5708, 3542, 5043], [941, 5007, 4363, 5666, 2585, 5792, 1204, 553, 3778, 5730, 1878, 3946, 1554, 125, 4986, 171, 1101, 4641, 5036, 1896, 2738, 1392, 1822, 5476], [3695, 5780, 290, 898, 5576, 171, 5808, 3900, 5730, 3187, 1794, 2858, 5520, 1332, 314, 27, 4451, 632, 1588, 3976, 3987, 2584, 2834, 569, 4867, 4716], [5675, 1876, 3206, 1429, 4432, 3900, 4991, 5399, 4363, 27, 3162, 731, 1324], [3534, 3156, 12, 5871, 5127, 1502, 5086, 3683, 4705, 5954, 3695], [1621, 4406, 1089, 5780, 4932, 4619, 3454, 171, 3659, 1636, 2807, 1524, 5821, 3575, 5379], [1621, 4406, 1089, 5780, 4932, 4619, 3454, 171, 3659, 1636, 2807, 1524, 5821, 3575], [3471, 5730, 4923, 3194, 3315, 4254, 1423, 619, 2899, 125, 5871, 5666, 4089, 5520, 3424, 5216, 171, 5783, 1537, 2738, 857, 4072], [2647, 5730, 1149, 5025, 346, 2370, 5730, 4462, 479, 5079, 593, 1599, 525, 1653, 334, 2041, 5815, 1842], [3639, 2043, 2945, 3900, 3126, 5780, 1808, 5593, 5769, 1808, 2578, 5632, 2295, 5084, 2390, 346, 731, 1907, 3756, 3976, 1038, 68, 3900, 1906], [5780, 4913, 1469, 2128, 3402, 3195, 3717, 5216, 171, 37, 5863, 4089, 5730, 4756, 2355, 5769, 5780, 5154, 5520, 3995, 3195, 3995, 1608, 505, 3195, 1480], [3182, 1241, 3182, 1290, 919, 3686, 346, 1926, 3346, 2664, 4894, 2974, 1599, 5780, 5279, 5780, 4586, 2209, 4619, 1012, 4135, 5620, 5730, 4226, 5520, 3024, 3369, 663, 171, 5703], [2698, 3307, 15, 2773, 3760, 898, 5556, 5520, 5769, 4113, 3034, 4089, 1258, 2662, 1427], [1094, 4202, 3788, 5730, 681, 4135, 2825, 3778, 1116, 3346, 2433, 3414, 4415, 4641, 4217, 2402, 5001, 1094, 2283, 1906, 1237], [386, 5730, 997, 1705, 1332, 4106, 4214, 1580, 4135, 5094, 5450, 4089, 5730, 745, 4342], [2937, 1141, 4575, 3785, 508, 4946, 346, 3768, 2975, 5216, 345, 1214, 5177, 346, 5585, 845, 5438, 1038, 4843, 3346, 5303, 2255], [5735, 4210, 4132, 4135, 2892, 3778, 5252, 766, 3092, 4089, 4207, 731, 2265, 4705, 4627, 3795, 2585, 4045, 898, 5520, 3778, 5513, 2245, 125], [1056, 966, 3739, 365, 292, 2368, 1580, 5399, 3947, 5790, 3464], [3470, 4361, 4512, 3588, 3630, 4135, 2563, 2807, 731, 5730, 2191, 346, 3822, 171, 5585, 5172, 3644, 3363, 1459], [4553, 5780, 2624, 2877, 1332, 825, 5730, 3674, 4202, 3934, 5780, 2624, 4851, 1172, 5730, 2742, 1346], [2058, 346, 3449, 1896, 2121, 1580, 754, 1038, 2673, 2743, 346, 3080], [5780, 3454, 2433, 1640, 5001, 731, 5012, 4668, 1906], [4738, 5522, 4135, 898, 4315, 3346, 4738, 1532, 619, 5541, 3844, 3641, 1444, 1899, 718, 125, 981], [386, 1705, 1933, 4344, 4918, 3029, 1505], [5469, 1906, 1932, 5856, 4317, 2186, 5780, 459, 1932, 4595, 1157, 171, 4686, 1166, 1524, 3315, 2866, 5730, 6027, 3900, 5730, 947], [4147, 2664, 3574, 5476, 4168, 2031, 5495, 632, 261, 2664, 2099, 3725, 5421, 5197, 177, 4601, 5780, 1210, 4619, 5520, 1332, 4103, 2807, 2074, 3147], [3372, 2071, 4369, 1217, 2807, 3372, 1923, 2974, 5172, 346, 4619, 4135, 4499, 6010, 3925], [4497, 2538, 3976, 4464, 4575, 4055, 3213, 3450, 4135, 5948, 5520, 6012, 2401, 272, 2679, 171, 773, 3460, 2054, 5399, 3254, 5711]]\n",
      "Padded docs for training is created...\n"
     ]
    },
    {
     "name": "stdout",
     "output_type": "stream",
     "text": [
      "Loaded embedding matrix...\n",
      "extra features loaded...\n",
      "_________________________________________________________________\n",
      "Layer (type)                 Output Shape              Param #   \n",
      "=================================================================\n",
      "embedding_6 (Embedding)      (None, 33, 300)           1811100   \n",
      "_________________________________________________________________\n",
      "bidirectional_8 (Bidirection (None, 600)               1442400   \n",
      "_________________________________________________________________\n",
      "dense_15 (Dense)             (None, 300)               180300    \n",
      "=================================================================\n",
      "Total params: 3,433,800\n",
      "Trainable params: 1,622,700\n",
      "Non-trainable params: 1,811,100\n",
      "_________________________________________________________________\n",
      "None\n",
      "loaded word model...\n",
      "The parameters for phrase model :\n",
      "1533\n",
      "304\n",
      "1533\n",
      "_________________________________________________________________\n",
      "Layer (type)                 Output Shape              Param #   \n",
      "=================================================================\n",
      "dense_16 (Dense)             (None, 300)               91500     \n",
      "=================================================================\n",
      "Total params: 91,500\n",
      "Trainable params: 91,500\n",
      "Non-trainable params: 0\n",
      "_________________________________________________________________\n",
      "None\n",
      "loaded phrase model...\n"
     ]
    },
    {
     "name": "stderr",
     "output_type": "stream",
     "text": [
      "/usr/local/lib/python3.6/site-packages/ipykernel_launcher.py:6: UserWarning: The `Merge` layer is deprecated and will be removed after 08/2017. Use instead layers from `keras.layers.merge`, e.g. `add`, `concatenate`, etc.\n",
      "  \n"
     ]
    },
    {
     "name": "stdout",
     "output_type": "stream",
     "text": [
      "_________________________________________________________________\n",
      "Layer (type)                 Output Shape              Param #   \n",
      "=================================================================\n",
      "merge_4 (Merge)              (None, 600)               0         \n",
      "_________________________________________________________________\n",
      "dense_17 (Dense)             (None, 1)                 601       \n",
      "=================================================================\n",
      "Total params: 3,525,901\n",
      "Trainable params: 1,714,801\n",
      "Non-trainable params: 1,811,100\n",
      "_________________________________________________________________\n",
      "None\n",
      "Epoch 1/10\n",
      "1533/1533 [==============================] - 9s - loss: 0.0240     \n",
      "Epoch 2/10\n",
      "1533/1533 [==============================] - 8s - loss: 0.0106     \n",
      "Epoch 3/10\n",
      "1533/1533 [==============================] - 8s - loss: 0.0092     \n",
      "Epoch 4/10\n",
      "1533/1533 [==============================] - 8s - loss: 0.0081     \n",
      "Epoch 5/10\n",
      "1533/1533 [==============================] - 8s - loss: 0.0068     \n",
      "Epoch 6/10\n",
      "1533/1533 [==============================] - 8s - loss: 0.0057     \n",
      "Epoch 7/10\n",
      "1533/1533 [==============================] - 8s - loss: 0.0045     \n",
      "Epoch 8/10\n",
      "1533/1533 [==============================] - 8s - loss: 0.0038     \n",
      "Epoch 9/10\n",
      "1533/1533 [==============================] - 8s - loss: 0.0027     \n",
      "Epoch 10/10\n",
      "1533/1533 [==============================] - 8s - loss: 0.0023     \n",
      "model has been fit...\n",
      "[[[0], 2916, [0], 731, 346, 971, 4135, 3976, 5379, [0], 2433, 1137, 5520, 5264, 5655], [3129, 5769, 3683, 1210, [0], 2585, 171, 2902, 3584, 1410, 4627, 209, 898, 4014, 2854, 4587, 4627, 3346, 632, 2664, 3755, 4089, 4713, 1332, 269, 117], [[0], [0], 3537, 2807, 2492, [0], 1580, 4135, 4499, [0], [0], [0], [0], 5365, [0], [0], [0], [0], [0]], [5012, 4586, 3976, 2357, 2831, 5730, 1269, 346, 4512, 5488, 2807, 5101, 1320, 411, [0]], [2974, 4195, 2745, 3695, [0], [0], 2807, [0], 1808, 4135, 4892, 5520, 171, [0], 4089, 171, 5672, 4430, 4256, [0], 1259, 2567, [0], 5371, [0], [0]], [1456, [0], [0], 1932, [0], [0], 5730, 1775, 5520, 731, 643, [0], 4521, 3371], [391, 4135, 1351, [0], 3784, 4195, 5520, [0], 2531, 125, [0], [0], [0]], [3683, 1808, 5730, 560, 4135, 2451, 4278, 663, 5730, 643, [0], 5769, [0], 5730, [0], 3900, 1290, [0], [0], [0], 1855], [167, 5590, 3575, 4917, 171, 51, [0], 5780, 3454, 3398, 4135, 3504], [2186, 5730, 2679, 1365, 699, 2807, 97, 1332, 5948, 4135, [0], 553, 1332, 1891, 2748], [[0], 4627, 1038, 4217, [0], 2429, 4089, [0]], [[0], 3695, 5769, 4429, [0], 4202, 4619, 3625], [[0], 2433, 3900, 731, 1320, 632, 4678], [[0], 5730, [0], 3900, 1332, [0], 346, 1332, 2187, 1502, 859, 3552, 3934, 5421, 171, [0], [0], 5216, 4089, 2552, 4089, 3947, 5421, [0], 6002], [2624, 5706, [0], 4687, [0], 731, 4174, 138], [738, 731, 1741, 3179, 346, 772, 1580, 5541, 3346, 386, 5730, 4119, 2495, 1332, 5314, 1808, 4135, 4705, 1502, 5399, [0]], [3080, 731, 4327, 346, 829, [0]], [[0], 4176, 3976, [0], 3575, 4595, 5101, [0]], [[0], [0], [0], [0], [0], [0], 898, [0], 1537, 5730, 5728, 1290, [0], 2451, 5001, 171, [0], 1424, 4993, [0]], [1537, 3976, 5828, 4993, 1351, 4077, 738, 4135, 485, 811, 4077, [0], 1636, 3883, 2868, 268, 97, [0], 764, 4077, 3744, 3372, 4742], [2041, [0]], [[0], 2974, 1502, 1876, 1429, 2111, 3900, 3822, 4619, 4506, 2807, 4543, 1197, [0], 1580, 171, [0]], [1263, 5730, 5499, [0], 2868, [0], 3253, 5730, [0], [0], [0]], [4619, 2538, 898, [0], 4646, 3346, 4619, 4271, 3552, 3429, 898, 5730, [0], 5780, 5375, 5001, 2009], [2411, [0], 5730, [0], 5490, [0], [0], [0], 3346, 2192, 4619, 1705, 346, 5570, 2387, 4412, [0], 721], [5780, 2624, 4851, 429, 4008, 171, 3703, 5780, 5053, 5216, 4008, 5871, 4191, 1046, 5780, [0], [0], 2807, 2269, 167, 4008, 5911, 4996], [5520, 171, [0], [0], [0], 4077, 1676, 174, 5730, [0], 3778, 296, [0], 346, 5981, 2054, [0], [0]], [4176, 1114, 6, 2041, 2807, 3113, 1822, 3976, 1808, 1907, [0], 4995, 5520, 4575, 3285, [0], [0], [0], 2910], [1876, 167, [0], 4089, 1332, 5280, 2807, 5780, 1808, 171, 2099, 4135, 5570, 3156, 4045, 2992, [0], 5730, 2259, 2099, [0], [0]], [[0], 327, 241, 1060, [0]], [[0], [0], 5780, [0], 4135, 731, 2975, [0], 3346, 732, [0], [0], [0], [0], 12, 3372, 1806, 3778, 731], [5331, 896, [0]], [[0], 2433, [0], 4917, 4575, 47, 1149, 86, 4629, 4135, 4247, [0], [0], 5421, [0], 5585, 4807, 3756, 346, 2433, 3822, [0]], [3241, 3206, [0], 4213, 3900, 97, 5044, 4619, 3340, [0], 439, 3900, 97, 4426, 171, 3661, [0], 4234, 4863, [0]], [5567, 5730, [0], [0], [0], 1088, 1160, 5571, 4135, 1907, 2488, 5780, 5522, 4135, 4412, 4132, 4135, 5769, 2488, 3900, 4174, [0], 5379, 5681, [0]], [847, 599, 731, 6031, [0], 2531, 125], [5780, [0], 171, [0], 3900, 1332, 805, 2807, 5921, 1410, 5792, 3454, 1332, 2906, 3067], [[0], 555, 5722, 2807, [0], 1198, 1932, 468, [0], [0], 2807, [0], 296, 2914, 5829, [0], 4132, 4879], [5029, [0], [0], 2085, [0], 1929, 2085, [0]], [2192, 731, 283, 346, 3630, 5520, [0], 5780, 776, 167, 5730, 5687, [0]], [485, 5836, 5780, 2605, 4705, 171, 773, 5379, 2186, 1876, 5638, 1332, [0]], [5730, 3486, 3372, 2605, 5520, 2859, 3778, 3934, 346, 171, 5761, [0], [0]], [[0], 2433, [0], 405, 5541, [0], 928, [0], 5379, [0], 4716, 2707, 5016, 4820, 4148], [[0], 4730, 2807, 3178, 3900, 3234, 1537, 3976, 4932, 3253, [0]], [[0], 3883, 3449, 5001, 1332, 5964, 1320, 5836, [0]], [[0], 873, 1588, 3976], [[0], 5758, 528, 5001, 3248, 171, 2760, 2633, 2031, 5495, 8, 6021, 528, 1894, 2807, 2664, 5075, 4993, 439, 3851], [488, 3346, 2585, 171, [0], 2974, 4586, 3976, 5075, 5921, 171, [0], 4077, 5769, 3976, 5964, [0], 663, [0], 4089, [0], 2948, 3067], [97, [0], 485, 5836, 2530, [0], 1426, 241, 2878, 5086, [0], 2537, 4089, 171, 3637, [0]], [[0], 5780, 3454, 3429, 5094, 5520, 2458, 5001, 4323, 158, 1046, 5780, [0], 3575, 2433, 3129, [0], 1906, [0], 5780, 4023, 1808, 5992], [[0], 169, 898, 5379, 3601, 97, 3942, 2433, [0], 1771, 3346, 4625, 5632], [[0], 2807, 1212, 4429, 898, 4049], [400, 2807, 171, 5980, 190, 4217, [0], [0]], [4024, 3346, 5871, 5295, 4135, 3316], [386, 346, [0], 4953, [0], 5172], [4221, 1332, 78, 5633, [0], [0], [0]], [[0], 169, 4020, 1580, 138], [1537, 3976, 1038, 3630, 4135, 898, 171, [0], 268, 4135, 898, 171, 4210, 4760, 352, 1257, 3004], [[0], [0], 1822, 5476, 2433, 4135, 4918, [0]], [5375, 1277, 3742, 5769, 2269, 1580, [0], [0], 4049, 2858, 1895, 1502, 1232, 450, 3504, [0], [0], 665, 4783, 1895, 1166, [0]], [[0], 5702, [0], [0], 1590, 4135, [0], 3372, [0], 3047, 5001, 5730, 402, [0], [0], [0], 346, [0], 3976, 4135, 1808, 171, [0]], [1842, 3000, 5001, 1580, [0], 5172], [2624, 5706, 1876, 525, 1332, 4103, 4705, 1580, 4017], [[0], [0], 5520, 2738, 4993, [0], 5001, [0], 171, 5349, 1932, [0], [0], [0], [0]], [2831, 4586, 5780, 4586, 1932, 1332, 1309, 5769, 346, [0], 4917, 3429, 5730, 1410, 3900, [0], 5681, 4, 2357, 2831, 5964, 346], [5681, 169, 4214, 1332, 4963, 4135, 2596, 4993, 4017, 138, 138, 138, 138, 138, 138, 138, 3666, 3067, [0], 386], [[0], [0], 3832, 4641, 171, [0], 982, 171, [0], 209, 2357, [0], 3542, 5635, 3651, 2807, 2162, 2031, 5001, 1907, [0], [0]], [386, 5730, 997, 1808, 5780, 3429, 4913, 171, 2099, 3900, [0], [0], 5520, 5365, 5751, 3900, 345, 2684, 4913, 4619, 724, [0], [0]], [1502, 5273, 4089, [0], [0], 3900, [0], 2476, 2914, 619, 4412, 1502, [0], 4077, 4040, 4898, 485, 5948, [0], [0], [0], [0]], [[0], 632, [0], 3660, 4135, 898, 4587, 3900, [0], 2192, 3995, [0], 4586, 3976, 2357, 1537, 4307, [0], 3306, 3450, 5769, 555, 4619], [4079, 5780, 2916, 169, 2357, 2974, 731, 2930, 2859, 6013, [0], 525], [4705, 5730, 5911, [0], 2807, [0], 3552, 898, [0], 3407, 2192, [0], 4089, 1424, 1247, [0], [0], [0], [0], 829], [3372, 6036, 5990, 1572, 4135, 2992, 1332, 4521], [5780, 4429, 898, 171, [0], 5001, 4619, [0], 485, 88, 3372, [0], 5379, 795], [1332, [0], 3934, 555, [0], [0], [0], [0], 5001, [0], 2537, 3372, 2395], [2433, 1356, [0], [0], 3778, 1332, 3659, 4138, [0], 346, 3575, 4627, 1932, 5730, 2968, 1496, 1876, 5554, 5375, 4342], [[0], 5585, 5379, 2807, 4020, 2807, 140], [[0], 4575, [0], 5520, [0], 346, 4996], [2186, 5780, 4932, 3253, [0], 4077, 2738, 1844, [0], 4077, [0], 5576, [0], [0], 4135, [0], [0], 5780, 2992, 5742], [3683, 2357, 5730, [0], 3900, 137, 1502, 2831, 346, 5730, [0], 3900, 5399], [[0], 1808, 3976, 4281, [0], 3477, 3923, [0], [0]], [[0], 4654, 1537, 3976, 4705, 88, 1977, [0], 4619, [0], 5421, 2831, 1038, 3683, 3630, 4135, 4586, 1350], [525, 1332, [0], 5001, 5730, 4221, 739, 2537, 2807, 5780, 6028, 5780, 2419, 525, 400, [0], 3234, 3778, 982, 5780, 4816, 898, [0], 5001, 4022, 418], [[0], 5780, 450, 4705, 4587, 3900, 3992, 5421, 4412, 4089, 320, [0], 5730, 1149, 5780, 1808, [0], 2670, [0], [0], [0]], [3683, 655, 3346, 5761, 135, 4135, 2471, 3350, [0], 5444, [0], 5145, [0], [0], [0], 2910, 3663, 366], [1876, 4195, 4135, 5730, 280, 5769, 5730, 3306, 5012, 346, 2916, 1517, 3575, 261, 4940, 2664, 4415, 665, 4135, [0], [0], 4342], [5780, 5216, 2974, 2192, [0], [0], 2488, 1932, 5730, 3423, [0], 2807, [0], [0], 3346, 2433, 5576, 4619, 4089, 171, 3486, 4135, 5570, 4619, 4412, 5216, 5730, [0], 525], [[0], [0], 2259, 88, 261, 171, [0], 4705, [0], 4587, 3900, 4627, 1761, 4996, 2807, 2433, 3533, 5001, 1792], [[0], 1189, 3900, 88, 5375, 731, 1157, 2434, 590, 4506, 290, 898, 1762, 3976, 1608, 456], [[0], 5730, [0], 3900, 1907, 1232, 228, [0], [0], 1932, 171, 5025, [0], 3372, 3429, [0], [0]], [[0], [0], [0], 2192, 3100, 5198, 4135, [0], 1469, 3100, 5198, 4089, [0], 4135, 3905, 4595, [0], 5001, [0], 5730, [0], 3900, 1501, [0]], [5780, 5964, 5399, [0], [0], [0], [0], [0]], [[0], 5053, [0], 663, 2892, 731, 2099, 4874, [0]], [261, 2664, 817, 5001, 3072, 5730, 2975, 5, [0], 2471, 4077, 268, 5421, 2610, 1932, 5730, [0], 3900, 3113, 1906, [0]], [2974, 4586, 3976, 1848, 3253, 5365, 4555, [0], [0], [0], [0], 4036, 2346, 1300, 5365, 2859, [0], [0]], [5780, [0], 5730, [0], 4135, 5570, 1580, 5706, 4089, 1907, [0], [0], [0]], [[0], 2807, 5780, 1038, 5161, 3630, 4135, 898, 1495, 4135, 4494, [0], 3067], [[0], [0], 4089, [0], 2807, [0], 4084, [0], 5192, 3785, 2187, 241, 5585, 3248, 171, 2187, 4089, 485, 4115, 5192, 5205, 1267, [0], 2876], [[0], [0], 241, 53, 456, 3976, 1038, 4089, 5001, 171, [0], 2186, 3976, 4705, 4017, 2334], [1661, 169, 1838, 731, 1303, [0], 346, 5756, [0]], [[0], 3692, 3976, 5769, 1038, 1424, 5001, 5565, 399, 2594, [0], 3692, 3976, 5769, 4939, 4543, 5001, 5565, 399, 5198, 2807, [0], [0]], [[0], [0], 346, 1342, 4135, 4705, 5954, 1932, [0], 344, 5476, 2807, 2433, [0], 4917, 5476, 5780, 5216, 5476, 5792, 5294, 1580, 3900, [0]], [[0], 5386, 4619, 553, 5520, [0], 2681, 2406, 5520, [0]], [[0], 1427, [0], 1320, [0]], [[0], 2664, 5466, 386, 5871, 4089, 731, 5951, [0], [0]], [[0], 4007, 4619, 2605, 3253, 2250, 2807, [0]], [731, [0], 346, [0], 643, 209, 3976, 5928, 1537, 5780, 5094, 5751, [0], 5520, 5730, [0]], [4135, [0], 3976, 1808, 171, 4315, 4606, 3346, 4575, 51, [0], 5421, 39, [0], 1038, 546, 525], [2807, 3372, 5681, 4243, 5730, 997, 699, 12, 5780, 4586, 171, 3533, 256, 3900, 3571, 1332, 1748, 3695, 12, 5780, 169, 5216, 4135, 1172, 619, 2557, 2807, 5379], [[0], [0], 3683, 3035, 1166, 2155, 3976, 2948], [1332, 4112, 740, 4587, 2807, [0], 4587, 1332, 1511, 5375, 4619, 2530, 5836, 2970, [0], 3900, 1252, 4619, [0], 5520, 1332, [0], 4138, 1511, 1346], [[0], [0], 4619, [0], 1332, [0], 4756, 5582, 4756, 3778, [0], 2412, 5000, 4619, 1876, 1429, 3795, 4135, 3992, 5001, 171, 4562, 4996], [2268, 2128, [0]], [[0], [0], 1855, 4077, 5096, 2419, [0], 5520, 534, [0], 3832, 1058, 5520, [0], 5421, 1290, 4996, [0], [0], 2262], [4738, 3454, 4263, [0], 4917, 5730, 4732, 3900, [0], 3784, 2807, 900, 4135, 1324, 5730, 5964, 125, 5530], [[0], 2573, 4619, 3883, 3478, 4260, [0]], [1502, 5273, 4089, 5203, 5001, 1582, [0], 5520, 1907, [0], 5001, 4986, 171, 3182, [0], [0]], [[0], 629, [0], 346, 1424, 3900, 5570, 3575, 97, 171, 3456, 973, 3346, 3976, 1882, [0], 4135, 898, [0], 2807, 3402], [[0], 870, 1537, 3976, 4214, 847, 4876, 1332, [0], 3843, 693, [0], [0], 1653, 5349, 2859, 5711], [[0], 4575, [0], 4263, 3976, 1808, 2664, 1459, 1932, [0], [0], 5379, [0], [0]], [1502, 4543, 5780, 1808, 4135, 4499, 171, 2930, 4555, [0]], [2897, 5780, 525, 1332, 4144, 2807, 5780, 4539, 4135, 4705, 5730, [0], [0]], [3372, 3047, 3346, [0], 3976, [0], 2771, 1105, [0], [0], 2910, 366, 2041, 3706], [[0], 4008, 1502, [0], [0], 368], [525, 1090, 1332, 4963, 138, 2858, 1599, 2557, 2807, 1424, 3900, 1554, 346, 3429, 4014, 5836, 4089, [0], 4020, [0], [0], [0]], [2192, 2807, 3182, 589, [0], 2664, 589, 829, 2807, [0]], [3372, 3178, 3900, 1599, 3900, 3147, 2196, 4183, [0], [0], [0], [0]], [[0], 1906, 3253, 5730, 1611, 3900, [0], 5730, [0], 1537, 3340, 3976, 5375, [0], 4575, [0], [0], 5730, [0], 4135, 4602, 1423, 83], [1166, 1406, 2807, 5379, [0], [0], 314, 346, 2664, 4217, 2807, [0], 2585, 3695, [0], 5942, [0], 138], [997, 1259, 5128, 429, 1580, 3253, 3778, 2831, 1117, 2495, 3976, 2992, 2248, 4575, 641], [[0], [0], [0], 3976, 3874, 5197, [0], 1705, 5298, 5632, 5387, 5674, [0], 1808, 1907, 4307, [0], [0], [0]], [2974, 1414, 2807, 3234, 346, 731, 6025, 3676, 5780, 3035, 260, 5730, 5012, 5001, 171, 3952], [1038, 3683, 3072, 5730, 5399, 2181, 5421, 1038, 3683, 3284, 5730, 137, 3900, 1257, 2867, 5730, [0], 1257, 137, 4277], [[0], 4730, 4619, 2914, 1580, 898, 4217, [0], 2807, 3889], [[0], [0], 2831, 171, 3702, [0]], [[0], 97, 3219, 2557], [4028, 5585, 2248, 5769, 1149, 555, 2433, [0], 4135, 1332, 5040, 1806, 4028, 5183], [2186, 3976, 3429, 169, 2357, 2140, 4135, 2596, 5421, 2831, 4135, 4586, 2259, 4089, [0], 525], [5730, 2259, 88, 5780, 2596, 4135, [0], 5780, 4816, 4503, 2749, [0], [0], 5902, 4089, [0], 2807, [0], 4135, 5035, [0], 2807, [0], 1332, [0]], [171, 2187, 4023, [0], 3976, 171, 5761, 2807, [0], 3976, 171, 4407, 718, [0], 5145], [2807, 5780, 1302, 3442, 4595, 699, 5730, 1702, 5780, 4546, 896, 5203, 3995, 4595, 1263], [[0], 3584, 1608, 3976, 1808, 1640, 1580, 171, 5585, 3129, 36, [0], [0], 2807, [0], 1758, [0], 2085, [0]], [[0], [0], [0], 5980, 5730, 3149, 3900, [0], 5520, [0], [0]], [2186, 3976, 1808, 3429, 3253, 4468, [0], 4089, 4575, [0], 3778, 3934, 5001, [0], 3900, 171, 4967, 3900, [0], 1292, 1906], [[0], [0], 47, 3514, [0], 1780, [0], 4135, 3574, 4948, 5520, [0], 1735, 4874, 5183, [0], [0]], [[0], 5780, 4932, 1332, 5541, 346, 3822, 3832, 4619, 3206, 5571, 4818, 632], [2975, [0]], [[0], 2193, 171, 3326, 2140, 4260, 4851, 5730, 3423, [0], 3900, 345, 2192, 1038, [0], 5001, [0], 4019, 485, 1790], [[0], 5780, 655, 5921, 4135, 5404, 4993, 4135, 1580, [0], 5780, 5279, 2433, 3129, 2807, 2433, 3822, [0], [0], 4818, 5730, 3994, 693], [[0], [0], [0], 346, [0], 5054, 525, 4010, [0]], [[0], 5780, 3454, [0], [0]], [4517, 322, [0], 3575, 1932, [0], [0]], [[0], [0], 346, 1676, [0], [0], 3900, 5012, [0], [0], 223, 4165, 6030, 5399, [0], [0], [0], [0]], [5780, 3206, 1410, 5780, 209, 3010, 731, 3346, 5780, 5681, 5759, [0], [0]], [4584, 3147, 346, 1081, 898, 4079, 3501, 3080, [0], 4575, 5341, 3369, 3147, 346, 1081, [0], 5851, 4713, 898, 3697, 3784], [5780, 5964, 3162, [0], 12, 4619, 5294, 1580, 3372, 2433, 5730, 3340, 1320, [0], 3778, 3934, 208], [4848, 5001, 3147, 3976, 1808, 525, 3976, 1808, [0], 1458, 2120, 1090, 5730, 5399, 3976, 209, 3206, 1172, 5730, 5863], [2899, 3372, 223, 4089, 5730, 5399], [[0], [0], [0], [0], [0], 346, 98, 3900, 6012, 878, 932, [0], [0]], [[0], 5992, 5520, [0], 3976, 4774, 5964, [0], 5780, 4214, 4135, 4586, 346, [0], 3976], [3330, 4917, 171, 5960, [0], 3900, 1346], [[0], 1765, 1332, 117, 2624, 4705, 1332, 5331, 4094, 731, 1406, 163], [[0], [0], 3429, 1427, [0]], [[0], 4848, 2433, 4135, [0], 3744, 2807, [0], 5520, 5730, 3203, 4586, 2433, 5288, [0], 5001, [0], [0]], [171, [0], 898, 5520, 5312, 553, 2807, 1414, 3234], [[0], 386, [0], 1502, 402, 4619, 4816, 898, 4879, 4135, 5570, 4619, 663, 1116, 2807, [0], 171, 5836, 699, 5379], [[0], 1501, 4007, 171, [0], 1761, 171, 4581, 5001, [0], [0], 5730, [0], 2681, 3751, 1761, [0], 5001, 619, [0]], [5780, 4214, 4135, [0], 4369, 1502, 1806, 3346, 1332, 805, 290, 5851, 1580, 4247, 1332, [0], 1046, [0], 1038, 3995, 2948], [171, [0], [0], 346, 4743, 5730, 1269, 4512, 3822, [0], 4135, 307, 2807, 4991, 171, [0], [0], [0]], [1882, 3724, 5379, 5468, 2901, 46, 3372, 5379, [0], 4165, [0]], [1332, 2968, 4198, 1321, 5001, 5730, 2965, 88, 1932, 1580, 4089, 5730, 2401, 4788], [[0], 2664, 2664, 5780, 2495, 2433], [[0], 203, 4996, [0]], [[0], 3129, 4138, 4029, [0], 1808, 171, 3533, 1320, 3575, 5730, 125, 163], [[0], 1241, [0], 1830], [3976, 3035, 1808, 171, 4324, [0], 2807, 5780, 4932, 241, 2323, 3346, 2831, 3976, 4023, 3206, 124, 346, 5730, 2729, 5001, 5730, 3146], [[0], 5780, 1058, 3995, 3651, 5520, 4575, [0], 724, 5730, [0], [0], [0], 4089, 1332, [0], 5780, 4499, 171, 4555, 1320, 2807, 5730, 2975, 6013, 3286, 1906], [3454, 171, 4523, 4455, 3900, [0], 3346, 41, 271, [0], 1808, 1429, [0], 267, 432, [0], 207, 207, 207, [0]], [4695, 5730, 3452, 2807, 5730, 2173, [0], 4049, 2585, 5730, [0], 1480, 4917, 5761], [[0], 406, 4575, 2623, 5730, 4112, [0], 346, 171, 5172, 2099, [0], 1537, 2434, 2120, 1332, [0], 4029, 4816, 2825, 1580, [0], 5730, 5863, [0]], [[0], 5908, 4008, 3429, [0], 3935, 1332, 857, 5908, 5780, 655, 4008, 4115, 99, 2488, 3147, [0], 2526, 4008, 2580, 1332, [0], [0], 99, 5908, 2162, 327, 2242, 3900, 4240], [[0], [0], 3683, 169, 1808, 2054, 4089, 5923, 5780, 4932, 3372, 4020, 2807, 1653], [3113, 3934, 5101, [0], 5780, 3035, 2433, 4586, 4619], [[0], [0], [0], [0], 2761, [0], [0], [0], [0], [0], 3340, 5029, 1564, [0], [0], [0]], [3976, 2538, 1808, 3995, 171, 3213, 37, 4545, 2807, 1166, 2433, 171, [0], 352, 3100, 907, 3976, 5421, 4249, 4135, [0], 1346], [[0], 1502, 1881, [0], 2433, 5216, 5751, 3900, 5730, 5379, 4260, 3306, 3100, 250, 2807, 4581, 3146, 5001, 6012, [0], 12, 1524, 1808, 2664, 5541], [[0], 5964, 4077, 2377, 4135, 5730, 189, 3900, [0], [0], 525, 4089, 5730, [0], 2749, 4089, 5221, 3501, 1290, 5155, 693, [0], 5730, 621, 2807, 5044], [[0], 5520, 3976, [0], [0], [0], [0], 125, [0], [0]], [847, 2573, [0], 1332, 3234, 5176, 1932, 4575, [0], 2807, 252], [[0], 5769, 56, 1705, 2433, [0], 3695, 5001, [0], 36, 2807, 5029, 1806, [0]], [4586, 2433, [0], 5769, [0], 3900, [0], 4816, 4481, 3976, 2289, [0], [0], 5145, 2910, 3663, 2041, 366], [[0], 154, 3100, 3035, 5780, 5128, 4135, 3253, 3113, [0], 1932, 2664, 3621, 2807, 2433, 3113, 5549, 5001, 191, 5780, 969, [0], 1808, 2664, [0]], [4079, 2301, 4619, 3454, 3652, 2807, 2192, 3976, 3035, 2390, 4575, [0], 4993, 4135, 1458, 1363, 2807, [0], 2585, 5036, 99, 3372, [0], 2202], [[0], 3670, [0], 4629, 5964, 4619, 4176, 3113, 171, [0], 2054, 2537, 4991, 4135, 1256, 5730, 2414, 5730, [0], [0], 845], [[0], 2433, 1806, 3778, 2192, 4932, 3501, 4195, 4993, 4135, [0], 760], [5780, 3429, 3835, 898, 5101, 1932, 4008], [[0], 5780, 209, 5216, 4135, 3632, 171, 1795, 3900, 3976, 3630, 699, [0], 619, 607, 942, 4366, [0], 847], [[0], [0], 731, 346, 5172, [0], 1861, 3630, 5520], [4917, 5730, [0], [0], 3976, 3315, [0], [0], 4587, [0], 814, 5730, [0], 4587, 2807, 732, 589, 125, 3778, 5554, 345, [0]], [2162, 191, [0], [0], [0], 2978, [0]]]\n"
     ]
    },
    {
     "ename": "ValueError",
     "evalue": "setting an array element with a sequence.",
     "output_type": "error",
     "traceback": [
      "\u001b[0;31m---------------------------------------------------------------------------\u001b[0m",
      "\u001b[0;31mValueError\u001b[0m                                Traceback (most recent call last)",
      "\u001b[0;32m<ipython-input-63-6acf21ecd85e>\u001b[0m in \u001b[0;36m<module>\u001b[0;34m()\u001b[0m\n\u001b[1;32m     52\u001b[0m     \u001b[0mdf\u001b[0m \u001b[0;34m=\u001b[0m \u001b[0mpd\u001b[0m\u001b[0;34m.\u001b[0m\u001b[0mread_csv\u001b[0m\u001b[0;34m(\u001b[0m\u001b[0mdev_file_name\u001b[0m\u001b[0;34m,\u001b[0m \u001b[0mheader\u001b[0m\u001b[0;34m=\u001b[0m\u001b[0;32mNone\u001b[0m\u001b[0;34m,\u001b[0m \u001b[0mdelimiter\u001b[0m\u001b[0;34m=\u001b[0m\u001b[0mdelimiter\u001b[0m\u001b[0;34m)\u001b[0m\u001b[0;34m\u001b[0m\u001b[0m\n\u001b[1;32m     53\u001b[0m     \u001b[0mtweet_ids\u001b[0m\u001b[0;34m,\u001b[0m \u001b[0mdocs\u001b[0m\u001b[0;34m,\u001b[0m \u001b[0memotions\u001b[0m\u001b[0;34m,\u001b[0m \u001b[0mlabels\u001b[0m \u001b[0;34m=\u001b[0m \u001b[0;34m[\u001b[0m\u001b[0mdf\u001b[0m\u001b[0;34m[\u001b[0m\u001b[0meach\u001b[0m\u001b[0;34m]\u001b[0m\u001b[0;34m.\u001b[0m\u001b[0mvalues\u001b[0m \u001b[0;32mfor\u001b[0m \u001b[0meach\u001b[0m \u001b[0;32min\u001b[0m \u001b[0mrange\u001b[0m\u001b[0;34m(\u001b[0m\u001b[0;36m4\u001b[0m\u001b[0;34m)\u001b[0m\u001b[0;34m]\u001b[0m\u001b[0;34m\u001b[0m\u001b[0m\n\u001b[0;32m---> 54\u001b[0;31m     \u001b[0mpadded_docs_dev\u001b[0m\u001b[0;34m,\u001b[0m \u001b[0m_\u001b[0m \u001b[0;34m=\u001b[0m \u001b[0mget_padded_docs\u001b[0m\u001b[0;34m(\u001b[0m\u001b[0mdf\u001b[0m\u001b[0;34m,\u001b[0m \u001b[0mvocab\u001b[0m\u001b[0;34m)\u001b[0m\u001b[0;34m\u001b[0m\u001b[0m\n\u001b[0m\u001b[1;32m     55\u001b[0m     \u001b[0mdev_features\u001b[0m \u001b[0;34m=\u001b[0m \u001b[0mget_features\u001b[0m\u001b[0;34m(\u001b[0m\u001b[0mdf\u001b[0m\u001b[0;34m,\u001b[0m \u001b[0memotion\u001b[0m\u001b[0;34m)\u001b[0m\u001b[0;34m\u001b[0m\u001b[0m\n\u001b[1;32m     56\u001b[0m     \u001b[0mpredicted_list\u001b[0m \u001b[0;34m=\u001b[0m \u001b[0mmodel\u001b[0m\u001b[0;34m.\u001b[0m\u001b[0mpredict\u001b[0m\u001b[0;34m(\u001b[0m\u001b[0;34m[\u001b[0m\u001b[0mpadded_docs_dev\u001b[0m\u001b[0;34m,\u001b[0m \u001b[0mdev_features\u001b[0m\u001b[0;34m]\u001b[0m\u001b[0;34m)\u001b[0m\u001b[0;34m\u001b[0m\u001b[0m\n",
      "\u001b[0;32m<ipython-input-62-424077a2497e>\u001b[0m in \u001b[0;36mget_padded_docs\u001b[0;34m(df, vocab)\u001b[0m\n\u001b[1;32m      4\u001b[0m     \u001b[0mpadded_docs\u001b[0m \u001b[0;34m=\u001b[0m \u001b[0mnp\u001b[0m\u001b[0;34m.\u001b[0m\u001b[0marray\u001b[0m\u001b[0;34m(\u001b[0m\u001b[0;34m[\u001b[0m\u001b[0;34m[\u001b[0m\u001b[0;34m]\u001b[0m\u001b[0;34m]\u001b[0m\u001b[0;34m)\u001b[0m\u001b[0;34m\u001b[0m\u001b[0m\n\u001b[1;32m      5\u001b[0m     \u001b[0;32mfor\u001b[0m \u001b[0meach_encoded_doc\u001b[0m \u001b[0;32min\u001b[0m \u001b[0mencoded_docs\u001b[0m\u001b[0;34m:\u001b[0m\u001b[0;34m\u001b[0m\u001b[0m\n\u001b[0;32m----> 6\u001b[0;31m         \u001b[0meach_encoded_doc\u001b[0m \u001b[0;34m=\u001b[0m \u001b[0mnp\u001b[0m\u001b[0;34m.\u001b[0m\u001b[0marray\u001b[0m\u001b[0;34m(\u001b[0m\u001b[0meach_encoded_doc\u001b[0m\u001b[0;34m)\u001b[0m\u001b[0;34m\u001b[0m\u001b[0m\n\u001b[0m\u001b[1;32m      7\u001b[0m         \u001b[0meach_encoded_doc\u001b[0m \u001b[0;34m=\u001b[0m \u001b[0mnp\u001b[0m\u001b[0;34m.\u001b[0m\u001b[0marray\u001b[0m\u001b[0;34m(\u001b[0m\u001b[0;34m[\u001b[0m\u001b[0mnp\u001b[0m\u001b[0;34m.\u001b[0m\u001b[0mpad\u001b[0m\u001b[0;34m(\u001b[0m\u001b[0meach_encoded_doc\u001b[0m\u001b[0;34m,\u001b[0m \u001b[0;34m(\u001b[0m\u001b[0;36m0\u001b[0m\u001b[0;34m,\u001b[0m \u001b[0mmax_length\u001b[0m\u001b[0;34m-\u001b[0m\u001b[0meach_encoded_doc\u001b[0m\u001b[0;34m.\u001b[0m\u001b[0msize\u001b[0m\u001b[0;34m)\u001b[0m\u001b[0;34m,\u001b[0m \u001b[0;34m'constant'\u001b[0m\u001b[0;34m)\u001b[0m\u001b[0;34m]\u001b[0m\u001b[0;34m)\u001b[0m\u001b[0;34m\u001b[0m\u001b[0m\n\u001b[1;32m      8\u001b[0m         \u001b[0;32mif\u001b[0m \u001b[0mpadded_docs\u001b[0m\u001b[0;34m.\u001b[0m\u001b[0msize\u001b[0m \u001b[0;34m==\u001b[0m \u001b[0;36m0\u001b[0m\u001b[0;34m:\u001b[0m\u001b[0;34m\u001b[0m\u001b[0m\n",
      "\u001b[0;31mValueError\u001b[0m: setting an array element with a sequence."
     ]
    }
   ],
   "source": [
    "dir_name = '/Users/nbarnaba/PycharmProjects/Keras_Samples/src'\n",
    "char_level = False\n",
    "docs = []\n",
    "labels = []\n",
    "tweet_ids = []\n",
    "emotions = []\n",
    "\n",
    "embedded_vector_length = 300\n",
    "emotion_names = ['sadness', 'joy', 'anger', 'fear']\n",
    "embedding_name = 'wiki.en'\n",
    "embeddings_index = get_embedding_index(os.path.join(dir_name,\n",
    "                                                    '..',\n",
    "                                                    'resources',\n",
    "                                                    embedding_name,\n",
    "                                                    'wiki.en.vec'))\n",
    "                                                    # 'glove.6B.' + str(embedded_vector_length) + 'd.txt'))\n",
    "\n",
    "for emot_id, emotion in enumerate(emotion_names):\n",
    "    training_file_name = os.path.join(dir_name, '..','data','en_train','EI-reg-en_'+emotion+'_train.txt')\n",
    "    \n",
    "    df = pd.read_csv(training_file_name, header=None, delimiter=delimiter)\n",
    "    tweet_ids_train, docs_train, emotions_train, label_train = [df[each].values for each in range(4)]\n",
    "\n",
    "    print('Loaded %s word vectors.' % len(embeddings_index))\n",
    "    vocab = build_vocab(df)\n",
    "    print('Built vocabulary...')\n",
    "    padded_docs_train, max_length = get_padded_docs(df, vocab)\n",
    "    print('Padded docs for training is created...')\n",
    "    vocab_size = len(vocab)\n",
    "    embedding_matrix = build_embedding_matrix(vocab, embeddings_index)\n",
    "    print('Loaded embedding matrix...')\n",
    "    # Added features\n",
    "    current_feature = get_features(df, emotion)\n",
    "    print('extra features loaded...')\n",
    "    # define model with word embeddings\n",
    "    word_model = get_embedding_model(vocab_size, embedded_vector_length, embedding_matrix, max_length)\n",
    "    print('loaded word model...')\n",
    "    vocab_size, embedded_vector_length, max_length, embedding_matrix = get_embedding_parameters(current_feature)\n",
    "    print('The parameters for phrase model :')\n",
    "    print(vocab_size)\n",
    "    print(embedded_vector_length)\n",
    "    print(max_length)\n",
    "    phrase_vector_model = get_dense_model(vocab_size, embedded_vector_length, embedding_matrix, max_length)\n",
    "    print('loaded phrase model...')\n",
    "    model=get_rnn_model([word_model, phrase_vector_model])\n",
    "    \n",
    "    model.fit([padded_docs_train, current_feature], label_train, verbose=1)\n",
    "    \n",
    "    print('model has been fit...')\n",
    "    # dev set\n",
    "    dev_file_name=os.path.join(dir_name, '..', 'data', 'en_dev', '2018-EI-reg-En-' + emotion + '-dev.txt')\n",
    "    df = pd.read_csv(dev_file_name, header=None, delimiter=delimiter)\n",
    "    tweet_ids, docs, emotions, labels = [df[each].values for each in range(4)]\n",
    "    padded_docs_dev, _ = get_padded_docs(df, vocab)\n",
    "    dev_features = get_features(df, emotion)\n",
    "    predicted_list = model.predict([padded_docs_dev, dev_features])\n",
    "    write_to_file(tweet_ids, emotions, docs, labels, emotion + '_' + embedding_name + '_dev_labels')\n",
    "    predicted_list = [each[0] for each in predicted_list]\n",
    "    write_to_file(tweet_ids, emotions, docs, predicted_list, emotion+'_'+embedding_name+'_dev')\n",
    "\n",
    "    print('Mean Squared Error of Validation Set: '+str(mean_squared_error(labels, predicted_list)))"
   ]
  },
  {
   "cell_type": "code",
   "execution_count": null,
   "metadata": {},
   "outputs": [],
   "source": []
  }
 ],
 "metadata": {
  "kernelspec": {
   "display_name": "Python 3",
   "language": "python",
   "name": "python3"
  },
  "language_info": {
   "codemirror_mode": {
    "name": "ipython",
    "version": 3
   },
   "file_extension": ".py",
   "mimetype": "text/x-python",
   "name": "python",
   "nbconvert_exporter": "python",
   "pygments_lexer": "ipython3",
   "version": "3.6.2"
  }
 },
 "nbformat": 4,
 "nbformat_minor": 1
}

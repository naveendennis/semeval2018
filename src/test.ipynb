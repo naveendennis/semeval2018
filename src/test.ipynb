{
 "cells": [
  {
   "cell_type": "markdown",
   "metadata": {},
   "source": [
    "<h1>Hashtag Distribution</h1>"
   ]
  },
  {
   "cell_type": "code",
   "execution_count": 29,
   "metadata": {},
   "outputs": [],
   "source": [
    "train_file_name = os.path.join(dir_name, '..', 'data', 'EI-reg-en_anger_train.txt')\n",
    "df = pd.read_csv(train_file_name, header=None, delimiter=delimiter)\n",
    "texts = df[1].values\n",
    "\n",
    "whole_text = ''\n",
    "for each in texts:\n",
    "    whole_text = whole_text + ' ' + each\n",
    "\n",
    "import re\n",
    "from collections import Counter\n",
    "\n",
    "anger_hashtags = [each[0] for each in Counter(re.findall('#\\w+', whole_text)).most_common()]"
   ]
  },
  {
   "cell_type": "code",
   "execution_count": 30,
   "metadata": {},
   "outputs": [],
   "source": [
    "train_file_name = os.path.join(dir_name, '..', 'data', 'EI-reg-en_fear_train.txt')\n",
    "df = pd.read_csv(train_file_name, header=None, delimiter=delimiter)\n",
    "texts = df[1].values\n",
    "\n",
    "whole_text = ''\n",
    "for each in texts:\n",
    "    whole_text = whole_text + ' ' + each\n",
    "\n",
    "fear_hashtags = [each[0] for each in Counter(re.findall('#\\w+', whole_text)).most_common()]"
   ]
  },
  {
   "cell_type": "code",
   "execution_count": 31,
   "metadata": {},
   "outputs": [],
   "source": [
    "train_file_name = os.path.join(dir_name, '..', 'data', 'EI-reg-en_sadness_train.txt')\n",
    "df = pd.read_csv(train_file_name, header=None, delimiter=delimiter)\n",
    "texts = df[1].values\n",
    "\n",
    "whole_text = ''\n",
    "for each in texts:\n",
    "    whole_text = whole_text + ' ' + each\n",
    "\n",
    "sadness_hashtags = [each[0] for each in Counter(re.findall('#\\w+', whole_text)).most_common()]"
   ]
  },
  {
   "cell_type": "code",
   "execution_count": 32,
   "metadata": {},
   "outputs": [],
   "source": [
    "train_file_name = os.path.join(dir_name, '..', 'data', 'EI-reg-en_joy_train.txt')\n",
    "df = pd.read_csv(train_file_name, header=None, delimiter=delimiter)\n",
    "texts = df[1].values\n",
    "\n",
    "whole_text = ''\n",
    "for each in texts:\n",
    "    whole_text = whole_text + ' ' + each\n",
    "\n",
    "joy_hashtags = [each[0] for each in Counter(re.findall('#\\w+', whole_text)).most_common()]"
   ]
  },
  {
   "cell_type": "code",
   "execution_count": 33,
   "metadata": {
    "collapsed": true
   },
   "outputs": [],
   "source": [
    "hashtags = anger_hashtags + joy_hashtags + sadness_hashtags + fear_hashtags"
   ]
  },
  {
   "cell_type": "code",
   "execution_count": 36,
   "metadata": {},
   "outputs": [],
   "source": [
    "unique_hashtags = [each[0] for each in Counter(hashtags).most_common() if each[1]==1]"
   ]
  },
  {
   "cell_type": "code",
   "execution_count": 41,
   "metadata": {},
   "outputs": [
    {
     "name": "stdout",
     "output_type": "stream",
     "text": [
      "Anger : 483\n",
      "fear : 963\n",
      "joy : 529\n",
      "sadness : 582\n",
      "unique : 2557\n",
      "total : 3363\n"
     ]
    }
   ],
   "source": [
    "anger_hashtags = [each for each in anger_hashtags if each in unique_hashtags]\n",
    "fear_hashtags = [each for each in fear_hashtags if each in unique_hashtags]\n",
    "joy_hashtags = [each for each in joy_hashtags if each in unique_hashtags]\n",
    "sadness_hashtags = [each for each in sadness_hashtags if each in unique_hashtags]\n",
    "print('Anger : '+str(len(anger_hashtags)))\n",
    "print('fear : '+str(len(fear_hashtags)))\n",
    "print('joy : '+str(len(joy_hashtags)))\n",
    "print('sadness : '+str(len(sadness_hashtags)))\n",
    "print('unique : '+str(len(unique_hashtags)))\n",
    "print('total : '+str(len(hashtags)))"
   ]
  }
 ],
 "metadata": {
  "kernelspec": {
   "display_name": "Python 3",
   "language": "python",
   "name": "python3"
  },
  "language_info": {
   "codemirror_mode": {
    "name": "ipython",
    "version": 3
   },
   "file_extension": ".py",
   "mimetype": "text/x-python",
   "name": "python",
   "nbconvert_exporter": "python",
   "pygments_lexer": "ipython3",
   "version": "3.5.2"
  }
 },
 "nbformat": 4,
 "nbformat_minor": 1
}
